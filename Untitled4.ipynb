{
 "cells": [
  {
   "cell_type": "markdown",
   "metadata": {},
   "source": [
    "# Feature selection with chi square test"
   ]
  },
  {
   "cell_type": "markdown",
   "metadata": {},
   "source": [
    "# To see the feature which are use to train our model to predict student grade"
   ]
  },
  {
   "cell_type": "code",
   "execution_count": 27,
   "metadata": {},
   "outputs": [],
   "source": [
    "import numpy as numpy\n",
    "import pandas as pd\n",
    "import matplotlib.pyplot as plt\n",
    "import seaborn as sns; sns.set(color_codes=True)\n",
    "from sklearn.preprocessing import LabelEncoder"
   ]
  },
  {
   "cell_type": "code",
   "execution_count": 28,
   "metadata": {},
   "outputs": [
    {
     "data": {
      "text/html": [
       "<div>\n",
       "<style scoped>\n",
       "    .dataframe tbody tr th:only-of-type {\n",
       "        vertical-align: middle;\n",
       "    }\n",
       "\n",
       "    .dataframe tbody tr th {\n",
       "        vertical-align: top;\n",
       "    }\n",
       "\n",
       "    .dataframe thead th {\n",
       "        text-align: right;\n",
       "    }\n",
       "</style>\n",
       "<table border=\"1\" class=\"dataframe\">\n",
       "  <thead>\n",
       "    <tr style=\"text-align: right;\">\n",
       "      <th></th>\n",
       "      <th>ID</th>\n",
       "      <th>Grades</th>\n",
       "      <th>Hrabsence</th>\n",
       "      <th>Finalgrades</th>\n",
       "      <th>Consultations</th>\n",
       "      <th>Attedance</th>\n",
       "    </tr>\n",
       "  </thead>\n",
       "  <tbody>\n",
       "    <tr>\n",
       "      <td>0</td>\n",
       "      <td>4974728.2</td>\n",
       "      <td>90</td>\n",
       "      <td>21.0</td>\n",
       "      <td>Pass</td>\n",
       "      <td>25</td>\n",
       "      <td>Highasbence</td>\n",
       "    </tr>\n",
       "    <tr>\n",
       "      <td>1</td>\n",
       "      <td>4938705.2</td>\n",
       "      <td>67</td>\n",
       "      <td>22.0</td>\n",
       "      <td>Pass</td>\n",
       "      <td>13</td>\n",
       "      <td>Highasbence</td>\n",
       "    </tr>\n",
       "    <tr>\n",
       "      <td>2</td>\n",
       "      <td>4927889.2</td>\n",
       "      <td>70</td>\n",
       "      <td>12.0</td>\n",
       "      <td>Pass</td>\n",
       "      <td>42</td>\n",
       "      <td>Lowasbence</td>\n",
       "    </tr>\n",
       "    <tr>\n",
       "      <td>3</td>\n",
       "      <td>4975219.6</td>\n",
       "      <td>60</td>\n",
       "      <td>16.0</td>\n",
       "      <td>Pass</td>\n",
       "      <td>23</td>\n",
       "      <td>Lowasbence</td>\n",
       "    </tr>\n",
       "    <tr>\n",
       "      <td>4</td>\n",
       "      <td>4927465.4</td>\n",
       "      <td>55</td>\n",
       "      <td>38.0</td>\n",
       "      <td>Retake</td>\n",
       "      <td>21</td>\n",
       "      <td>Highasbence</td>\n",
       "    </tr>\n",
       "    <tr>\n",
       "      <td>5</td>\n",
       "      <td>4974585.2</td>\n",
       "      <td>65</td>\n",
       "      <td>8.0</td>\n",
       "      <td>Pass</td>\n",
       "      <td>14</td>\n",
       "      <td>Lowasbence</td>\n",
       "    </tr>\n",
       "    <tr>\n",
       "      <td>6</td>\n",
       "      <td>4975289.8</td>\n",
       "      <td>64</td>\n",
       "      <td>20.0</td>\n",
       "      <td>Pass</td>\n",
       "      <td>19</td>\n",
       "      <td>Lowasbence</td>\n",
       "    </tr>\n",
       "    <tr>\n",
       "      <td>7</td>\n",
       "      <td>4927634.4</td>\n",
       "      <td>79</td>\n",
       "      <td>20.0</td>\n",
       "      <td>Pass</td>\n",
       "      <td>15</td>\n",
       "      <td>Lowasbence</td>\n",
       "    </tr>\n",
       "    <tr>\n",
       "      <td>8</td>\n",
       "      <td>4974853.0</td>\n",
       "      <td>70</td>\n",
       "      <td>20.0</td>\n",
       "      <td>Pass</td>\n",
       "      <td>12</td>\n",
       "      <td>Lowasbence</td>\n",
       "    </tr>\n",
       "    <tr>\n",
       "      <td>9</td>\n",
       "      <td>4975224.8</td>\n",
       "      <td>63</td>\n",
       "      <td>14.0</td>\n",
       "      <td>Pass</td>\n",
       "      <td>25</td>\n",
       "      <td>Lowasbence</td>\n",
       "    </tr>\n",
       "    <tr>\n",
       "      <td>10</td>\n",
       "      <td>4975354.8</td>\n",
       "      <td>15</td>\n",
       "      <td>32.0</td>\n",
       "      <td>Redo</td>\n",
       "      <td>2</td>\n",
       "      <td>Highasbence</td>\n",
       "    </tr>\n",
       "  </tbody>\n",
       "</table>\n",
       "</div>"
      ],
      "text/plain": [
       "           ID  Grades  Hrabsence Finalgrades  Consultations    Attedance\n",
       "0   4974728.2      90       21.0        Pass             25  Highasbence\n",
       "1   4938705.2      67       22.0        Pass             13  Highasbence\n",
       "2   4927889.2      70       12.0        Pass             42   Lowasbence\n",
       "3   4975219.6      60       16.0        Pass             23   Lowasbence\n",
       "4   4927465.4      55       38.0      Retake             21  Highasbence\n",
       "5   4974585.2      65        8.0        Pass             14   Lowasbence\n",
       "6   4975289.8      64       20.0        Pass             19   Lowasbence\n",
       "7   4927634.4      79       20.0        Pass             15   Lowasbence\n",
       "8   4974853.0      70       20.0        Pass             12   Lowasbence\n",
       "9   4975224.8      63       14.0        Pass             25   Lowasbence\n",
       "10  4975354.8      15       32.0        Redo              2  Highasbence"
      ]
     },
     "execution_count": 28,
     "metadata": {},
     "output_type": "execute_result"
    }
   ],
   "source": [
    "featurestd = pd.read_csv('stdhyp1.csv')\n",
    "featurestd.head(11)"
   ]
  },
  {
   "cell_type": "code",
   "execution_count": 29,
   "metadata": {},
   "outputs": [
    {
     "data": {
      "text/plain": [
       "34"
      ]
     },
     "execution_count": 29,
     "metadata": {},
     "output_type": "execute_result"
    }
   ],
   "source": [
    "featurestd.Consultations.count()"
   ]
  },
  {
   "cell_type": "code",
   "execution_count": 30,
   "metadata": {},
   "outputs": [
    {
     "data": {
      "text/html": [
       "<div>\n",
       "<style scoped>\n",
       "    .dataframe tbody tr th:only-of-type {\n",
       "        vertical-align: middle;\n",
       "    }\n",
       "\n",
       "    .dataframe tbody tr th {\n",
       "        vertical-align: top;\n",
       "    }\n",
       "\n",
       "    .dataframe thead th {\n",
       "        text-align: right;\n",
       "    }\n",
       "</style>\n",
       "<table border=\"1\" class=\"dataframe\">\n",
       "  <thead>\n",
       "    <tr style=\"text-align: right;\">\n",
       "      <th></th>\n",
       "      <th>ID</th>\n",
       "      <th>Grades</th>\n",
       "      <th>Hrabsence</th>\n",
       "      <th>Finalgrades</th>\n",
       "      <th>Consultations</th>\n",
       "      <th>Attedance</th>\n",
       "    </tr>\n",
       "  </thead>\n",
       "  <tbody>\n",
       "    <tr>\n",
       "      <td>14</td>\n",
       "      <td>4973880.6</td>\n",
       "      <td>79</td>\n",
       "      <td>4.0</td>\n",
       "      <td>Pass</td>\n",
       "      <td>50</td>\n",
       "      <td>Lowasbence</td>\n",
       "    </tr>\n",
       "  </tbody>\n",
       "</table>\n",
       "</div>"
      ],
      "text/plain": [
       "           ID  Grades  Hrabsence Finalgrades  Consultations   Attedance\n",
       "14  4973880.6      79        4.0        Pass             50  Lowasbence"
      ]
     },
     "execution_count": 30,
     "metadata": {},
     "output_type": "execute_result"
    }
   ],
   "source": [
    "featurestd.loc[(featurestd.Consultations >= 50)]"
   ]
  },
  {
   "cell_type": "code",
   "execution_count": 31,
   "metadata": {},
   "outputs": [],
   "source": [
    "featurestd.loc[(featurestd.Consultations >=41) & (featurestd.Consultations <=50), 'NofVisits'] ='high'\n",
    "featurestd.loc[(featurestd.Consultations >=21) & (featurestd.Consultations <=40), 'NofVisits'] ='medium'\n",
    "featurestd.loc[(featurestd.Consultations >=1) & (featurestd.Consultations <=20), 'NofVisits'] ='low'"
   ]
  },
  {
   "cell_type": "code",
   "execution_count": 32,
   "metadata": {},
   "outputs": [
    {
     "data": {
      "text/html": [
       "<div>\n",
       "<style scoped>\n",
       "    .dataframe tbody tr th:only-of-type {\n",
       "        vertical-align: middle;\n",
       "    }\n",
       "\n",
       "    .dataframe tbody tr th {\n",
       "        vertical-align: top;\n",
       "    }\n",
       "\n",
       "    .dataframe thead th {\n",
       "        text-align: right;\n",
       "    }\n",
       "</style>\n",
       "<table border=\"1\" class=\"dataframe\">\n",
       "  <thead>\n",
       "    <tr style=\"text-align: right;\">\n",
       "      <th></th>\n",
       "      <th>ID</th>\n",
       "      <th>Grades</th>\n",
       "      <th>Hrabsence</th>\n",
       "      <th>Finalgrades</th>\n",
       "      <th>Consultations</th>\n",
       "      <th>Attedance</th>\n",
       "      <th>NofVisits</th>\n",
       "    </tr>\n",
       "  </thead>\n",
       "  <tbody>\n",
       "    <tr>\n",
       "      <td>0</td>\n",
       "      <td>4974728.2</td>\n",
       "      <td>90</td>\n",
       "      <td>21.0</td>\n",
       "      <td>Pass</td>\n",
       "      <td>25</td>\n",
       "      <td>Highasbence</td>\n",
       "      <td>medium</td>\n",
       "    </tr>\n",
       "    <tr>\n",
       "      <td>1</td>\n",
       "      <td>4938705.2</td>\n",
       "      <td>67</td>\n",
       "      <td>22.0</td>\n",
       "      <td>Pass</td>\n",
       "      <td>13</td>\n",
       "      <td>Highasbence</td>\n",
       "      <td>low</td>\n",
       "    </tr>\n",
       "    <tr>\n",
       "      <td>2</td>\n",
       "      <td>4927889.2</td>\n",
       "      <td>70</td>\n",
       "      <td>12.0</td>\n",
       "      <td>Pass</td>\n",
       "      <td>42</td>\n",
       "      <td>Lowasbence</td>\n",
       "      <td>high</td>\n",
       "    </tr>\n",
       "    <tr>\n",
       "      <td>3</td>\n",
       "      <td>4975219.6</td>\n",
       "      <td>60</td>\n",
       "      <td>16.0</td>\n",
       "      <td>Pass</td>\n",
       "      <td>23</td>\n",
       "      <td>Lowasbence</td>\n",
       "      <td>medium</td>\n",
       "    </tr>\n",
       "    <tr>\n",
       "      <td>4</td>\n",
       "      <td>4927465.4</td>\n",
       "      <td>55</td>\n",
       "      <td>38.0</td>\n",
       "      <td>Retake</td>\n",
       "      <td>21</td>\n",
       "      <td>Highasbence</td>\n",
       "      <td>medium</td>\n",
       "    </tr>\n",
       "  </tbody>\n",
       "</table>\n",
       "</div>"
      ],
      "text/plain": [
       "          ID  Grades  Hrabsence Finalgrades  Consultations    Attedance  \\\n",
       "0  4974728.2      90       21.0        Pass             25  Highasbence   \n",
       "1  4938705.2      67       22.0        Pass             13  Highasbence   \n",
       "2  4927889.2      70       12.0        Pass             42   Lowasbence   \n",
       "3  4975219.6      60       16.0        Pass             23   Lowasbence   \n",
       "4  4927465.4      55       38.0      Retake             21  Highasbence   \n",
       "\n",
       "  NofVisits  \n",
       "0    medium  \n",
       "1       low  \n",
       "2      high  \n",
       "3    medium  \n",
       "4    medium  "
      ]
     },
     "execution_count": 32,
     "metadata": {},
     "output_type": "execute_result"
    }
   ],
   "source": [
    "featurestd.head()"
   ]
  },
  {
   "cell_type": "code",
   "execution_count": 33,
   "metadata": {},
   "outputs": [],
   "source": [
    "featured = featurestd.drop(['ID','Grades', 'Hrabsence', 'Consultations'], axis='columns')"
   ]
  },
  {
   "cell_type": "code",
   "execution_count": 34,
   "metadata": {},
   "outputs": [
    {
     "data": {
      "text/html": [
       "<div>\n",
       "<style scoped>\n",
       "    .dataframe tbody tr th:only-of-type {\n",
       "        vertical-align: middle;\n",
       "    }\n",
       "\n",
       "    .dataframe tbody tr th {\n",
       "        vertical-align: top;\n",
       "    }\n",
       "\n",
       "    .dataframe thead th {\n",
       "        text-align: right;\n",
       "    }\n",
       "</style>\n",
       "<table border=\"1\" class=\"dataframe\">\n",
       "  <thead>\n",
       "    <tr style=\"text-align: right;\">\n",
       "      <th></th>\n",
       "      <th>Finalgrades</th>\n",
       "      <th>Attedance</th>\n",
       "      <th>NofVisits</th>\n",
       "    </tr>\n",
       "  </thead>\n",
       "  <tbody>\n",
       "    <tr>\n",
       "      <td>0</td>\n",
       "      <td>Pass</td>\n",
       "      <td>Highasbence</td>\n",
       "      <td>medium</td>\n",
       "    </tr>\n",
       "    <tr>\n",
       "      <td>1</td>\n",
       "      <td>Pass</td>\n",
       "      <td>Highasbence</td>\n",
       "      <td>low</td>\n",
       "    </tr>\n",
       "    <tr>\n",
       "      <td>2</td>\n",
       "      <td>Pass</td>\n",
       "      <td>Lowasbence</td>\n",
       "      <td>high</td>\n",
       "    </tr>\n",
       "    <tr>\n",
       "      <td>3</td>\n",
       "      <td>Pass</td>\n",
       "      <td>Lowasbence</td>\n",
       "      <td>medium</td>\n",
       "    </tr>\n",
       "    <tr>\n",
       "      <td>4</td>\n",
       "      <td>Retake</td>\n",
       "      <td>Highasbence</td>\n",
       "      <td>medium</td>\n",
       "    </tr>\n",
       "  </tbody>\n",
       "</table>\n",
       "</div>"
      ],
      "text/plain": [
       "  Finalgrades    Attedance NofVisits\n",
       "0        Pass  Highasbence    medium\n",
       "1        Pass  Highasbence       low\n",
       "2        Pass   Lowasbence      high\n",
       "3        Pass   Lowasbence    medium\n",
       "4      Retake  Highasbence    medium"
      ]
     },
     "execution_count": 34,
     "metadata": {},
     "output_type": "execute_result"
    }
   ],
   "source": [
    "featured.head()"
   ]
  },
  {
   "cell_type": "code",
   "execution_count": 35,
   "metadata": {},
   "outputs": [
    {
     "data": {
      "text/plain": [
       "array(['medium', 'low', 'high'], dtype=object)"
      ]
     },
     "execution_count": 35,
     "metadata": {},
     "output_type": "execute_result"
    }
   ],
   "source": [
    "featured.NofVisits.unique()"
   ]
  },
  {
   "cell_type": "code",
   "execution_count": 36,
   "metadata": {},
   "outputs": [],
   "source": [
    "label_encoder = LabelEncoder()\n",
    "featured['Finalgrades'] = label_encoder.fit_transform(featured['Finalgrades'])\n",
    "featured['Attedance'] = label_encoder.fit_transform(featured['Attedance'])\n",
    "featured['NofVisits'] = label_encoder.fit_transform(featured['NofVisits'])"
   ]
  },
  {
   "cell_type": "code",
   "execution_count": 37,
   "metadata": {},
   "outputs": [],
   "source": [
    "#featured.loc[(featured.Finalgrades ==0)]"
   ]
  },
  {
   "cell_type": "code",
   "execution_count": 38,
   "metadata": {},
   "outputs": [
    {
     "data": {
      "text/html": [
       "<div>\n",
       "<style scoped>\n",
       "    .dataframe tbody tr th:only-of-type {\n",
       "        vertical-align: middle;\n",
       "    }\n",
       "\n",
       "    .dataframe tbody tr th {\n",
       "        vertical-align: top;\n",
       "    }\n",
       "\n",
       "    .dataframe thead th {\n",
       "        text-align: right;\n",
       "    }\n",
       "</style>\n",
       "<table border=\"1\" class=\"dataframe\">\n",
       "  <thead>\n",
       "    <tr style=\"text-align: right;\">\n",
       "      <th></th>\n",
       "      <th>Finalgrades</th>\n",
       "      <th>Attedance</th>\n",
       "      <th>NofVisits</th>\n",
       "    </tr>\n",
       "  </thead>\n",
       "  <tbody>\n",
       "    <tr>\n",
       "      <td>0</td>\n",
       "      <td>0</td>\n",
       "      <td>1</td>\n",
       "      <td>2</td>\n",
       "    </tr>\n",
       "    <tr>\n",
       "      <td>1</td>\n",
       "      <td>0</td>\n",
       "      <td>1</td>\n",
       "      <td>1</td>\n",
       "    </tr>\n",
       "    <tr>\n",
       "      <td>2</td>\n",
       "      <td>0</td>\n",
       "      <td>2</td>\n",
       "      <td>0</td>\n",
       "    </tr>\n",
       "    <tr>\n",
       "      <td>3</td>\n",
       "      <td>0</td>\n",
       "      <td>2</td>\n",
       "      <td>2</td>\n",
       "    </tr>\n",
       "    <tr>\n",
       "      <td>4</td>\n",
       "      <td>2</td>\n",
       "      <td>1</td>\n",
       "      <td>2</td>\n",
       "    </tr>\n",
       "  </tbody>\n",
       "</table>\n",
       "</div>"
      ],
      "text/plain": [
       "   Finalgrades  Attedance  NofVisits\n",
       "0            0          1          2\n",
       "1            0          1          1\n",
       "2            0          2          0\n",
       "3            0          2          2\n",
       "4            2          1          2"
      ]
     },
     "execution_count": 38,
     "metadata": {},
     "output_type": "execute_result"
    }
   ],
   "source": [
    "featured.head()"
   ]
  },
  {
   "cell_type": "code",
   "execution_count": 39,
   "metadata": {},
   "outputs": [],
   "source": [
    "from sklearn.feature_selection import chi2"
   ]
  },
  {
   "cell_type": "code",
   "execution_count": 40,
   "metadata": {},
   "outputs": [],
   "source": [
    "stdchi1 = featured.drop('Finalgrades', axis=1)\n",
    "stdchi2 = featured['Finalgrades']"
   ]
  },
  {
   "cell_type": "code",
   "execution_count": 41,
   "metadata": {},
   "outputs": [
    {
     "data": {
      "text/html": [
       "<div>\n",
       "<style scoped>\n",
       "    .dataframe tbody tr th:only-of-type {\n",
       "        vertical-align: middle;\n",
       "    }\n",
       "\n",
       "    .dataframe tbody tr th {\n",
       "        vertical-align: top;\n",
       "    }\n",
       "\n",
       "    .dataframe thead th {\n",
       "        text-align: right;\n",
       "    }\n",
       "</style>\n",
       "<table border=\"1\" class=\"dataframe\">\n",
       "  <thead>\n",
       "    <tr style=\"text-align: right;\">\n",
       "      <th></th>\n",
       "      <th>Attedance</th>\n",
       "      <th>NofVisits</th>\n",
       "    </tr>\n",
       "  </thead>\n",
       "  <tbody>\n",
       "    <tr>\n",
       "      <td>0</td>\n",
       "      <td>1</td>\n",
       "      <td>2</td>\n",
       "    </tr>\n",
       "    <tr>\n",
       "      <td>1</td>\n",
       "      <td>1</td>\n",
       "      <td>1</td>\n",
       "    </tr>\n",
       "    <tr>\n",
       "      <td>2</td>\n",
       "      <td>2</td>\n",
       "      <td>0</td>\n",
       "    </tr>\n",
       "    <tr>\n",
       "      <td>3</td>\n",
       "      <td>2</td>\n",
       "      <td>2</td>\n",
       "    </tr>\n",
       "    <tr>\n",
       "      <td>4</td>\n",
       "      <td>1</td>\n",
       "      <td>2</td>\n",
       "    </tr>\n",
       "  </tbody>\n",
       "</table>\n",
       "</div>"
      ],
      "text/plain": [
       "   Attedance  NofVisits\n",
       "0          1          2\n",
       "1          1          1\n",
       "2          2          0\n",
       "3          2          2\n",
       "4          1          2"
      ]
     },
     "execution_count": 41,
     "metadata": {},
     "output_type": "execute_result"
    }
   ],
   "source": [
    "stdchi1.head()"
   ]
  },
  {
   "cell_type": "code",
   "execution_count": 42,
   "metadata": {},
   "outputs": [
    {
     "data": {
      "text/plain": [
       "0    0\n",
       "1    0\n",
       "2    0\n",
       "3    0\n",
       "4    2\n",
       "Name: Finalgrades, dtype: int32"
      ]
     },
     "execution_count": 42,
     "metadata": {},
     "output_type": "execute_result"
    }
   ],
   "source": [
    "stdchi2.head()"
   ]
  },
  {
   "cell_type": "code",
   "execution_count": 43,
   "metadata": {},
   "outputs": [],
   "source": [
    "chi_scores = chi2(stdchi1, stdchi2)"
   ]
  },
  {
   "cell_type": "code",
   "execution_count": 44,
   "metadata": {},
   "outputs": [
    {
     "data": {
      "text/plain": [
       "(array([2.36111111, 1.41937669]), array([0.30710808, 0.49179744]))"
      ]
     },
     "execution_count": 44,
     "metadata": {},
     "output_type": "execute_result"
    }
   ],
   "source": [
    "chi_scores"
   ]
  },
  {
   "cell_type": "code",
   "execution_count": 66,
   "metadata": {},
   "outputs": [],
   "source": [
    "p_value = pd.Series(chi_scores[0], index = stdchi1.columns)\n",
    "#p_value.sort_values(ascending = False, inplace = True)"
   ]
  },
  {
   "cell_type": "code",
   "execution_count": 67,
   "metadata": {},
   "outputs": [
    {
     "data": {
      "text/plain": [
       "<matplotlib.axes._subplots.AxesSubplot at 0x1e1273e9e88>"
      ]
     },
     "execution_count": 67,
     "metadata": {},
     "output_type": "execute_result"
    },
    {
     "data": {
      "image/png": "[encoded data removed]",
      "text/plain": [
       "<Figure size 432x288 with 1 Axes>"
      ]
     },
     "metadata": {},
     "output_type": "display_data"
    }
   ],
   "source": [
    "p_value.plot.bar()"
   ]
  },
  {
   "cell_type": "markdown",
   "metadata": {},
   "source": [
    "# No of Visits has the highest p-value, plot explain no of visits is independent of attedance and it cannot be consider for model training"
   ]
  },
  {
   "cell_type": "code",
   "execution_count": 24,
   "metadata": {},
   "outputs": [
    {
     "name": "stdout",
     "output_type": "stream",
     "text": [
      "Attedance    0.307108\n",
      "NofVisits    0.491797\n",
      "dtype: float64\n"
     ]
    }
   ],
   "source": [
    "print(p_value)"
   ]
  },
  {
   "cell_type": "code",
   "execution_count": 26,
   "metadata": {},
   "outputs": [],
   "source": [
    "#sns.set(style='ticks')\n",
    "#plotchistd = sns.load_dataset('p_value')\n",
    "#plotstd = sns.regplot(x='Attedance', y='NofVisits', data =plotchistd)"
   ]
  }
 ],
 "metadata": {
  "kernelspec": {
   "display_name": "Python 3",
   "language": "python",
   "name": "python3"
  },
  "language_info": {
   "codemirror_mode": {
    "name": "ipython",
    "version": 3
   },
   "file_extension": ".py",
   "mimetype": "text/x-python",
   "name": "python",
   "nbconvert_exporter": "python",
   "pygments_lexer": "ipython3",
   "version": "3.7.4"
  }
 },
 "nbformat": 4,
 "nbformat_minor": 2
}
