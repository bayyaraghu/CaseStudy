{
 "cells": [
  {
   "cell_type": "markdown",
   "metadata": {},
   "source": [
    "Medecins du Monde donor database analysis, Heinrick Lumini, 2016"
   ]
  },
  {
   "cell_type": "code",
   "execution_count": 1,
   "metadata": {
    "collapsed": true
   },
   "outputs": [],
   "source": [
    "\n",
    "import pandas as pd\n",
    "import matplotlib.pyplot as plt\n",
    "import seaborn as sns\n",
    "import numpy as np\n",
    "from scipy.stats import norm\n",
    "from sklearn.preprocessing import StandardScaler\n",
    "from scipy import stats\n",
    "import warnings\n",
    "warnings.filterwarnings('ignore')\n",
    "%matplotlib inline\n",
    "\n",
    "from datetime import datetime\n",
    "from matplotlib import pyplot\n",
    "import plotly.plotly as py\n",
    "import plotly.graph_objs as go\n",
    "import plotly.figure_factory as ff\n",
    "\n"
   ]
  },
  {
   "cell_type": "code",
   "execution_count": 2,
   "metadata": {},
   "outputs": [],
   "source": [
    "data = pd.read_csv('mdm_cleaned.csv')"
   ]
  },
  {
   "cell_type": "code",
   "execution_count": 3,
   "metadata": {},
   "outputs": [],
   "source": [
    "#data.info()"
   ]
  },
  {
   "cell_type": "markdown",
   "metadata": {},
   "source": [
    "Date of birth is not exploitable, however all the other variables except for Nom cie. seem to have enough entries, let's start with a simple graph of the evolution of donation amounts over time."
   ]
  },
  {
   "cell_type": "markdown",
   "metadata": {},
   "source": [
    "X groups of features:\n",
    "* Information about the donor:\n",
    "    * NUC\n",
    "    * PRNOM\n",
    "    * NOM CIE\n",
    "    * CODE P\n",
    "* Information about the donations:\n",
    "    * DATE\n",
    "    * MONTANT\n",
    "    * NB VIE\n",
    "    * DERNIER TR\n",
    "    * CUMULATIVE\n",
    "    * AMOUNT\n",
    "* Information about the time of the donations:\n",
    "    * DATE\n",
    "    * CODE CAMP\n",
    "    * CAMP\n",
    "    * ACTIVIT\n",
    "    * CODE OCA\n",
    "    * OCCA\n"
   ]
  },
  {
   "cell_type": "markdown",
   "metadata": {},
   "source": [
    "# Exploration of the Amount of donations over time "
   ]
  },
  {
   "cell_type": "code",
   "execution_count": 4,
   "metadata": {
    "collapsed": true
   },
   "outputs": [],
   "source": [
    "#Sorting the data by date\n",
    "data = pd.read_csv('mdm_cleaned.csv', parse_dates=['Date'], index_col='Date')\n",
    "data = data.sort_index()\n"
   ]
  },
  {
   "cell_type": "code",
   "execution_count": 5,
   "metadata": {
    "scrolled": false
   },
   "outputs": [
    {
     "data": {
      "image/png": "[encoded data removed]",
      "text/plain": [
       "<matplotlib.figure.Figure at 0x113432ad0>"
      ]
     },
     "metadata": {},
     "output_type": "display_data"
    }
   ],
   "source": [
    "#basic matplotlib graph to get a rough idea of what it looks like\n",
    "\n",
    "plt.figure(1)                # the first figure\n",
    "plt.subplot(211)             # the first subplot in the first figure\n",
    "plt.plot(pd.DataFrame(data=data['Amount']))\n",
    "plt.title('Daily gifts')\n",
    "plt.savefig('raw_daily.png', bbox_inches='tight', dpi = 300)\n",
    "\n"
   ]
  },
  {
   "cell_type": "markdown",
   "metadata": {},
   "source": [
    "The first thing that draws my attention are those huge outliers in 2010 and 2015. It turns out they are two really big individual donations. Since we aim at assessing the behavior of average donors, we will remove outliers"
   ]
  },
  {
   "cell_type": "markdown",
   "metadata": {},
   "source": [
    "### Cleaning the data and splitting between companies and individuals"
   ]
  },
  {
   "cell_type": "code",
   "execution_count": 6,
   "metadata": {},
   "outputs": [],
   "source": [
    "#amount_order = data.set_index('Amount')\n",
    "#amount_order = amount_order.sort_index()\n",
    "#amount_order.head(50)\n",
    "#amount_order.columns"
   ]
  },
  {
   "cell_type": "markdown",
   "metadata": {},
   "source": [
    "We have a significant number of months with 0 donations before 2004, my assumption here will be that the data collection was not as consistant, we will therefore drop pre 2004 data, there seem to also be some inconsistencies in 2005, therefore we will perform the analysis between the 2006-01-01 and 2016-12-31, since 2016 is the last full year recorded currently."
   ]
  },
  {
   "cell_type": "code",
   "execution_count": 7,
   "metadata": {},
   "outputs": [],
   "source": [
    "data = data.truncate(before='2006-01-01', after='2016-12-31')"
   ]
  },
  {
   "cell_type": "markdown",
   "metadata": {},
   "source": [
    "Since my goal here is to assess individual donations, we will split the set using the company name, keeping only records of donations from individual not affiliated to a company."
   ]
  },
  {
   "cell_type": "code",
   "execution_count": 8,
   "metadata": {},
   "outputs": [],
   "source": [
    "#Dropping rows based on the condition that there is no company name as a way to select donations from individuals.\n",
    "\n",
    "mdm_companies = data.dropna(subset=['Nom cie'])\n",
    "mdm_donors = data[pd.isnull(data['Nom cie'])] \n",
    "\n",
    "\n",
    "#Let us clean and rename some of the columns we will be using to make it easier to manipulate the features\n",
    "mdm_donors.rename(\n",
    "  columns={\n",
    "    'Prnom' : 'name', 'Code p.' : 'postcode', 'Code camp.' : 'code_camp', 'Code occa.' : 'code_occa',\n",
    "      'Dern. tr. (act.)' : 'dern_tr_act', 'Nb. vie' : 'nb_vie', 'Dern. tr. (mnt)' : 'dern_tr_amount' },inplace=True)\n",
    "\n",
    "del mdm_donors['Montant'] #Amount is the cleaner version of it \n",
    "del mdm_donors['Nom cie'] #irrelevant to individual donors\n",
    "del mdm_donors['DOB'] #75% nan\n",
    "del mdm_donors['Date nais.'] #Same as DOB"
   ]
  },
  {
   "cell_type": "code",
   "execution_count": 9,
   "metadata": {},
   "outputs": [
    {
     "data": {
      "image/png": "[encoded data removed]",
      "text/plain": [
       "<matplotlib.figure.Figure at 0x10daaf4d0>"
      ]
     },
     "metadata": {},
     "output_type": "display_data"
    }
   ],
   "source": [
    "#Daily donation amount from individuals between 2006 and mid 2016\n",
    "\n",
    "plt.plot(pd.DataFrame(data=mdm_donors['Amount']))\n",
    "plt.show()"
   ]
  },
  {
   "cell_type": "code",
   "execution_count": 10,
   "metadata": {
    "scrolled": true
   },
   "outputs": [
    {
     "data": {
      "image/png": "[encoded data removed]",
      "text/plain": [
       "<matplotlib.figure.Figure at 0x1077f4dd0>"
      ]
     },
     "metadata": {},
     "output_type": "display_data"
    }
   ],
   "source": [
    "#Daily donation amount from companies between 2006 and mid 2016\n",
    "plt.plot(pd.DataFrame(data=mdm_companies['Amount']))\n",
    "plt.show()"
   ]
  },
  {
   "cell_type": "markdown",
   "metadata": {},
   "source": [
    "This quick visual comparison allowed us to confirm that individual donors and company do not give in the same range and justified the split"
   ]
  },
  {
   "cell_type": "markdown",
   "metadata": {},
   "source": [
    "# Exploratory analysis of the set of donations from individuals\n",
    "\n",
    "I will begin by removing the obvious outliers in order to be able to analyze the average donor's behaviour. I believe focusing on what happens with every day donors over time  is more likely to lead us to actionable insights than keeping the data related to outstanding donations from a few fortunate invidividuals.\n"
   ]
  },
  {
   "cell_type": "markdown",
   "metadata": {},
   "source": [
    "### Outliers removal\n"
   ]
  },
  {
   "cell_type": "code",
   "execution_count": 11,
   "metadata": {},
   "outputs": [],
   "source": [
    "#Rounding to integers\n",
    "mdm_donors.head()\n",
    "mdm_donors['Amount'] = mdm_donors['Amount'].apply(lambda x: int(x))\n",
    "mdm_donors['Cumulative'] = mdm_donors['Cumulative'].apply(lambda x: int(x))"
   ]
  },
  {
   "cell_type": "code",
   "execution_count": 12,
   "metadata": {},
   "outputs": [],
   "source": [
    "#Previous method: arbitrarilty removing the donations above $5000, not a very scientific approach\n",
    "\n",
    "#biggest = mdm_donors['Amount'] > 5000\n",
    "#mdm_donors[biggest]\n",
    "#mdm_donors = mdm_donors.drop(mdm_donors[mdm_donors.Amount > 5000].index)\n",
    "#mdm_donors.head()"
   ]
  },
  {
   "cell_type": "markdown",
   "metadata": {},
   "source": [
    "Instead of arbitrarily removing the donations higher than $5000, I will remove the ones that are more than 3 standard variations away from the mean."
   ]
  },
  {
   "cell_type": "code",
   "execution_count": 13,
   "metadata": {},
   "outputs": [
    {
     "data": {
      "image/png": "[encoded data removed]",
      "text/plain": [
       "<matplotlib.figure.Figure at 0x1127b3ed0>"
      ]
     },
     "metadata": {},
     "output_type": "display_data"
    }
   ],
   "source": [
    "#Filtering using variance, I will only keep the donation records that are within +3 / -3 stdv of the whole sample\n",
    "mdm_donors_out = mdm_donors[np.abs(mdm_donors.Amount-mdm_donors.Amount.mean())<=(3*mdm_donors.Amount.std())]\n",
    "\n",
    "\n",
    "#263523 in original set, 260936 after filter: we removed 2587, which means most of the data lied within 3 standard deviations.\n",
    "plt.plot(pd.DataFrame(data=mdm_donors_out['Amount']))\n",
    "plt.show()\n",
    "\n",
    "\n",
    "\n",
    "#here is what the processsed data looks like, after outliers removal\n",
    "#I will eventually bin it per months or week, but for now let us keep the individual donations to analyze the donor's profiles."
   ]
  },
  {
   "cell_type": "markdown",
   "metadata": {},
   "source": [
    "Applying this filter removed less than 1% of the recorded donations, but significantly reduced the variation in the set, that should facilitate the task of analyzing the average donor's profile and giving behavior as well as the trend in donated amount."
   ]
  },
  {
   "cell_type": "markdown",
   "metadata": {},
   "source": [
    "### Most donated amount"
   ]
  },
  {
   "cell_type": "markdown",
   "metadata": {},
   "source": [
    "**We can see here that the 8 most represented donation values account for 220786 donations out of the 270984 entries in the set**"
   ]
  },
  {
   "cell_type": "code",
   "execution_count": 14,
   "metadata": {},
   "outputs": [],
   "source": [
    "#CREATING A LIST OF THE MOST GIVEN AMOUNTS\n",
    "\n",
    "amount_order_donors = mdm_donors.set_index('Amount') #set index to facilitate sorting \n",
    "amount_order_donors = amount_order_donors.sort_index(ascending=False) #Sort \n",
    "top_donations = pd.DataFrame(data=data['Amount'].value_counts().head(20)) #keep only the 20 most significant amounts\n",
    "top_donations.rename(columns={'Amount': 'frequency'}, inplace=True) #rename the column"
   ]
  },
  {
   "cell_type": "code",
   "execution_count": 15,
   "metadata": {},
   "outputs": [],
   "source": [
    "#COMPUTING THE TOTAL OF DONATIONS FOR EACH AMOUNT\n",
    "\n",
    "\n",
    "# getting the last element of the frame with the total sum of donations\n",
    "totam = mdm_donors['Amount'].cumsum()\n",
    "total_amount_indiv = float (totam.iloc[-1])\n",
    "\n",
    "top_donations['total'] = top_donations['frequency'] * top_donations.index.values #total donations for each donation amount\n",
    "top_donations['total'] = top_donations['total'].apply(lambda x: x/total_amount_indiv*100) # % of total donations represented by each value\n",
    "top_donations['total'] = top_donations['total'].round(decimals=1) # rounded to one decimal\n",
    "\n",
    "top_donations.sort_values('total', ascending= False, inplace= True) #Sort in decreasing order\n",
    "\n",
    "#top_donations.head(20)\n",
    "#total is the percentage of the total donated amount this amount of donation represents"
   ]
  },
  {
   "cell_type": "code",
   "execution_count": 16,
   "metadata": {},
   "outputs": [],
   "source": [
    "#PREVIOUS PIE CHART\n",
    "\n",
    "#labels = '$10', '$20', '$8', '$15', '$25', '$50', '$35', '100'\n",
    "#sizes = [75, 40, 26, 25, 20, 15, 11, 11]\n",
    "#explode = (0.1, 0.1, 0.1, 0, 0, 0, 0, 0, 0)\n",
    "\n",
    "#fig1, ax1 = plt.subplots()\n",
    "#ax1.pie(sizes, explode=explode, labels=labels, autopct='%1.1f%%',\n",
    "#        shadow=True, startangle=90)\n",
    "#ax1.axis('equal')  # Equal aspect ratio ensures that pie is drawn as a circle.\n",
    "#\n",
    "#plt.show()"
   ]
  },
  {
   "cell_type": "code",
   "execution_count": 18,
   "metadata": {},
   "outputs": [],
   "source": [
    "#COMPUTING TOTAL AMOUNTS GIVEN IN ORDER TO PERFORM SANITY CHECKS\n",
    "\n",
    "comp_tot = int(mdm_companies.Amount.cumsum().iloc[-1])\n",
    "indiv_tot = int(mdm_donors.Amount.cumsum().iloc[-1])\n",
    "grand_tot = int(data.Amount.cumsum().iloc[-1])\n",
    "\n",
    "#print(\"don. from companies: \", int(comp_tot))\n",
    "#print(\"don. from individuals: \", int(indiv_tot))\n",
    "#print(\"don. from total: \", int(grand_tot))\n",
    "#if((comp_tot + indiv_tot == grand_tot)): print(\"checked\")"
   ]
  },
  {
   "cell_type": "code",
   "execution_count": 1,
   "metadata": {},
   "outputs": [
    {
     "ename": "ModuleNotFoundError",
     "evalue": "No module named 'plotly'",
     "output_type": "error",
     "traceback": [
      "\u001b[1;31m---------------------------------------------------------------------------\u001b[0m",
      "\u001b[1;31mModuleNotFoundError\u001b[0m                       Traceback (most recent call last)",
      "\u001b[1;32m<ipython-input-1-06e3f38f6e0e>\u001b[0m in \u001b[0;36m<module>\u001b[1;34m\u001b[0m\n\u001b[1;32m----> 1\u001b[1;33m \u001b[1;32mimport\u001b[0m \u001b[0mplotly\u001b[0m\u001b[1;33m.\u001b[0m\u001b[0mplotly\u001b[0m \u001b[1;32mas\u001b[0m \u001b[0mpy\u001b[0m\u001b[1;33m\u001b[0m\u001b[1;33m\u001b[0m\u001b[0m\n\u001b[0m\u001b[0;32m      2\u001b[0m \u001b[1;32mimport\u001b[0m \u001b[0mplotly\u001b[0m\u001b[1;33m.\u001b[0m\u001b[0mgraph_objs\u001b[0m \u001b[1;32mas\u001b[0m \u001b[0mgo\u001b[0m\u001b[1;33m\u001b[0m\u001b[1;33m\u001b[0m\u001b[0m\n\u001b[0;32m      3\u001b[0m \u001b[1;33m\u001b[0m\u001b[0m\n\u001b[0;32m      4\u001b[0m \u001b[0mlabels\u001b[0m \u001b[1;33m=\u001b[0m \u001b[1;33m[\u001b[0m\u001b[1;34m'$10'\u001b[0m\u001b[1;33m,\u001b[0m \u001b[1;34m'$20'\u001b[0m\u001b[1;33m,\u001b[0m \u001b[1;34m'$8'\u001b[0m\u001b[1;33m,\u001b[0m \u001b[1;34m'$15'\u001b[0m\u001b[1;33m,\u001b[0m \u001b[1;34m'$25'\u001b[0m\u001b[1;33m,\u001b[0m \u001b[1;34m'$50'\u001b[0m\u001b[1;33m,\u001b[0m \u001b[1;34m'$35'\u001b[0m\u001b[1;33m]\u001b[0m\u001b[1;33m\u001b[0m\u001b[1;33m\u001b[0m\u001b[0m\n\u001b[0;32m      5\u001b[0m \u001b[0mvalues\u001b[0m \u001b[1;33m=\u001b[0m \u001b[1;33m[\u001b[0m\u001b[1;36m75\u001b[0m\u001b[1;33m,\u001b[0m \u001b[1;36m40\u001b[0m\u001b[1;33m,\u001b[0m \u001b[1;36m26\u001b[0m\u001b[1;33m,\u001b[0m \u001b[1;36m25\u001b[0m\u001b[1;33m,\u001b[0m \u001b[1;36m20\u001b[0m\u001b[1;33m,\u001b[0m \u001b[1;36m15\u001b[0m\u001b[1;33m]\u001b[0m\u001b[1;33m\u001b[0m\u001b[1;33m\u001b[0m\u001b[0m\n",
      "\u001b[1;31mModuleNotFoundError\u001b[0m: No module named 'plotly'"
     ]
    }
   ],
   "source": [
    "import plotly.plotly as py\n",
    "import plotly.graph_objs as go\n",
    "\n",
    "labels = ['$10', '$20', '$8', '$15', '$25', '$50', '$35']\n",
    "values = [75, 40, 26, 25, 20, 15]\n",
    "colors = ['#D73027', '#fc8d59', '#fee090', '#ffffbf', '#e0f3f8', '#91bfdb', '#4575b4']\n",
    "\n",
    "trace = go.Pie(labels=labels, values=values,\n",
    "               hoverinfo='label+percent', textinfo='percent', \n",
    "               textfont=dict(size=20),\n",
    "               marker=dict(colors=colors, \n",
    "                           line=dict(color='#000000', width=2)))\n",
    "\n",
    "py.iplot([trace], filename='styled_pie_chart')"
   ]
  },
  {
   "cell_type": "markdown",
   "metadata": {},
   "source": [
    "### Feature Engineering: Gender"
   ]
  },
  {
   "cell_type": "code",
   "execution_count": 19,
   "metadata": {},
   "outputs": [],
   "source": [
    "#USING FIRST NAMES TO ADD A GENDER FEATURE TO THE SET\n",
    "\n",
    "# I will use the script based on the program “gender” by Jorg Michael, it is available \n",
    "# at https://pypi.python.org/pypi/gender-guesser/\n",
    "\n",
    "\n",
    "\n",
    "import gender_guesser.detector as gender\n",
    "\n",
    "detector = gender.Detector()\n",
    "\n",
    "#This is a tiny wrapper I wrote to improve the accuracy\n",
    "#Improvement: 23.3% less \"unknown\" gender\n",
    "\n",
    "def gender_guesser_wrapper (name):\n",
    "    \n",
    "    result = detector.get_gender(name)\n",
    "    \n",
    "    if result == \"mostly_female\":\n",
    "        return \"F\"\n",
    "    if result == \"mostly_male\":\n",
    "        return \"M\"\n",
    "    if result == \"female\":\n",
    "        return \"F\"\n",
    "    if result == \"male\":\n",
    "        return \"M\"\n",
    "    else: \n",
    "        #if the name is composed and unrecognized, try again with only it's first part\n",
    "        if \"-\" in name:\n",
    "            names = name.split(\"-\")\n",
    "            return gender_guesser_wrapper(names[0])\n",
    "        if ((\"&\" in name) or (\"and\" in name) or (\"et\" in name)):\n",
    "            return \"CP\"\n",
    "        else:\n",
    "            return \"unknown\"\n",
    "        \n",
    "    return;"
   ]
  },
  {
   "cell_type": "code",
   "execution_count": 20,
   "metadata": {
    "scrolled": false
   },
   "outputs": [],
   "source": [
    "#APPLYING GENDER FUNCTIO\n",
    "\n",
    "mdm_donors_out['name'] = mdm_donors_out['name'].fillna(\"U\") #To avoid handling nans with gender guesser\n",
    "mdm_donors['name'] = mdm_donors['name'].fillna(\"U\") #To avoid handling nans with gender guesser\n",
    "\n",
    "mdm_donors_out['Gender'] = mdm_donors_out['name'].apply(gender_guesser_wrapper)\n",
    "mdm_donors['Gender'] = mdm_donors['name'].apply(gender_guesser_wrapper)"
   ]
  },
  {
   "cell_type": "markdown",
   "metadata": {},
   "source": [
    "## Reorganization: table of unique donors"
   ]
  },
  {
   "cell_type": "code",
   "execution_count": 21,
   "metadata": {},
   "outputs": [],
   "source": [
    "#Let us take a look at the features we could perform a groupby on\n",
    "#mdm_donors_out.columns"
   ]
  },
  {
   "cell_type": "code",
   "execution_count": 22,
   "metadata": {},
   "outputs": [],
   "source": [
    "#USING GROUPBY TO KEEP FEATURES RELEVANT TO INDIVIDUAL DONOR AND NOT ONE OF THEIR  DONATION\n",
    "\n",
    "#mdm_donors.info()\n",
    "mdm_donors_individuals = mdm_donors.groupby(['NUC','name', 'Cumulative', 'Gender', 'postcode', 'Nb.  vie'])#, &'name', 'Gender'])\n",
    "mdm_ind = mdm_donors_individuals.size()\n",
    "mdm_ind = mdm_ind.reset_index()\n",
    "\n",
    "#mdm_ind now holds one record for each individual donor "
   ]
  },
  {
   "cell_type": "code",
   "execution_count": 23,
   "metadata": {},
   "outputs": [
    {
     "data": {
      "text/html": [
       "<div>\n",
       "<style>\n",
       "    .dataframe thead tr:only-child th {\n",
       "        text-align: right;\n",
       "    }\n",
       "\n",
       "    .dataframe thead th {\n",
       "        text-align: left;\n",
       "    }\n",
       "\n",
       "    .dataframe tbody tr th {\n",
       "        vertical-align: top;\n",
       "    }\n",
       "</style>\n",
       "<table border=\"1\" class=\"dataframe\">\n",
       "  <thead>\n",
       "    <tr style=\"text-align: right;\">\n",
       "      <th></th>\n",
       "      <th>NUC</th>\n",
       "      <th>name</th>\n",
       "      <th>Cumulative</th>\n",
       "      <th>Gender</th>\n",
       "      <th>postcode</th>\n",
       "      <th>Nb.  vie</th>\n",
       "      <th>0</th>\n",
       "    </tr>\n",
       "  </thead>\n",
       "  <tbody>\n",
       "    <tr>\n",
       "      <th>0</th>\n",
       "      <td>000 002</td>\n",
       "      <td>Marcel</td>\n",
       "      <td>810</td>\n",
       "      <td>M</td>\n",
       "      <td>H1V 3N3</td>\n",
       "      <td>25</td>\n",
       "      <td>16</td>\n",
       "    </tr>\n",
       "    <tr>\n",
       "      <th>1</th>\n",
       "      <td>000 004</td>\n",
       "      <td>Hortense</td>\n",
       "      <td>555</td>\n",
       "      <td>F</td>\n",
       "      <td>J8E 2W8</td>\n",
       "      <td>6</td>\n",
       "      <td>2</td>\n",
       "    </tr>\n",
       "    <tr>\n",
       "      <th>2</th>\n",
       "      <td>000 006</td>\n",
       "      <td>Lvis</td>\n",
       "      <td>185</td>\n",
       "      <td>unknown</td>\n",
       "      <td>G3A 2S2</td>\n",
       "      <td>7</td>\n",
       "      <td>2</td>\n",
       "    </tr>\n",
       "    <tr>\n",
       "      <th>3</th>\n",
       "      <td>000 008</td>\n",
       "      <td>Monique</td>\n",
       "      <td>1425</td>\n",
       "      <td>F</td>\n",
       "      <td>G3Z 1Y8</td>\n",
       "      <td>21</td>\n",
       "      <td>10</td>\n",
       "    </tr>\n",
       "    <tr>\n",
       "      <th>4</th>\n",
       "      <td>000 010</td>\n",
       "      <td>Jacqueline</td>\n",
       "      <td>220</td>\n",
       "      <td>F</td>\n",
       "      <td>G5A 1Y5</td>\n",
       "      <td>6</td>\n",
       "      <td>5</td>\n",
       "    </tr>\n",
       "  </tbody>\n",
       "</table>\n",
       "</div>"
      ],
      "text/plain": [
       "       NUC        name  Cumulative   Gender postcode  Nb.  vie   0\n",
       "0  000 002      Marcel         810        M  H1V 3N3         25  16\n",
       "1  000 004    Hortense         555        F  J8E 2W8          6   2\n",
       "2  000 006       Lvis         185  unknown  G3A 2S2          7   2\n",
       "3  000 008     Monique        1425        F  G3Z 1Y8         21  10\n",
       "4  000 010  Jacqueline         220        F  G5A 1Y5          6   5"
      ]
     },
     "execution_count": 23,
     "metadata": {},
     "output_type": "execute_result"
    }
   ],
   "source": [
    "mdm_ind.head()"
   ]
  },
  {
   "cell_type": "markdown",
   "metadata": {},
   "source": [
    "# Exploration of the donors profile"
   ]
  },
  {
   "cell_type": "markdown",
   "metadata": {},
   "source": [
    "### Gender"
   ]
  },
  {
   "cell_type": "code",
   "execution_count": 24,
   "metadata": {},
   "outputs": [],
   "source": [
    "#EXPLOITATION OF THE NEWLY CREATED FEATURE\n",
    "\n",
    "gender_rep = pd.DataFrame(mdm_ind['Gender'].value_counts())\n",
    "\n",
    "#gender_rep.cumsum()\n",
    "\n",
    "#gender_rep #Let us take a look at the gender of our donors\n",
    "\n",
    "#print(\"Fem%, \", (9112.0/20412.0)*100.0)\n",
    "#print(\"M%, \", (6910.0/20412.0)*100.0)\n",
    "#print(\"CP%, \", (278.0/20412.0)*100.0)\n",
    "#print(\"Un%, \", (4112.0/20412.0)*100.0)\n",
    "\n",
    "#total: 20412\n",
    "#F: 45%\n",
    "#M: 35%\n",
    "#Un: 20%\n",
    "\n",
    "#total given by women: 3 428 266\n",
    "#total given by men: 3 131 952\n",
    "\n",
    "#more women but men give more\n",
    "#10% more women donors, 10% less given by men\n",
    "\n",
    "#Filter, compute cumulative sum and select the last element.\n",
    "#mdm_ind[mdm_ind.Gender == 'M']['Cumulative'].cumsum().iloc[-1]"
   ]
  },
  {
   "cell_type": "code",
   "execution_count": 25,
   "metadata": {},
   "outputs": [
    {
     "data": {
      "image/png": "[encoded data removed]",
      "text/plain": [
       "<matplotlib.figure.Figure at 0x111427fd0>"
      ]
     },
     "metadata": {},
     "output_type": "display_data"
    }
   ],
   "source": [
    "ax = sns.barplot(x=gender_rep.index, y=gender_rep['Gender'], data=mdm_ind)"
   ]
  },
  {
   "cell_type": "markdown",
   "metadata": {},
   "source": [
    "### Geographic location - Feature Engineering: Location"
   ]
  },
  {
   "cell_type": "markdown",
   "metadata": {},
   "source": [
    "I will add an FSA column from the postcode and a \"city\" column using the first letter"
   ]
  },
  {
   "cell_type": "code",
   "execution_count": 26,
   "metadata": {},
   "outputs": [],
   "source": [
    "#mdm_ind['postcode'].value_counts()\n",
    "#mdm_geo = mdm_ind\n",
    "mdm_ind['FSA'] = mdm_ind.postcode.apply(lambda x: x.decode('utf-8')[0:3])\n",
    "mdm_ind['city'] = mdm_ind.postcode.apply(lambda x: x.decode('utf-8')[0])\n",
    "\n",
    "\n",
    "tot_donors = 20412.0"
   ]
  },
  {
   "cell_type": "code",
   "execution_count": 27,
   "metadata": {},
   "outputs": [],
   "source": [
    "#print(\"Montreal: \", round((float)(9419/tot_donors)*100,1))\n",
    "#print(\"Western and Northern Quebec\", round((5830/tot_donors)*100,1))\n",
    "#print('Eastern Quebec', round((4667/tot_donors)*100,1))\n",
    "#mdm\n",
    "#around 98% from quebec, 45% from montreal --> map for quebec and map for montreal"
   ]
  },
  {
   "cell_type": "markdown",
   "metadata": {},
   "source": [
    "#### Isolation of number of donors per fsa and donation amounts for mapping in R"
   ]
  },
  {
   "cell_type": "code",
   "execution_count": 28,
   "metadata": {},
   "outputs": [],
   "source": [
    "mdm_mtl_donors_filt = mdm_ind[np.abs(mdm_ind.Cumulative-mdm_ind.Cumulative.mean())<=(3*mdm_ind.Cumulative.std())]\n",
    "mdm_mtl_donors_filt = mdm_mtl_donors_filt[mdm_mtl_donors_filt.city == 'H']#Boolean filtering to select the donors living in Montreal only (45% of the set)\n",
    "\n",
    "\n",
    "mdm_mtl_donors = mdm_ind[mdm_ind.city == 'H'] # donors from montreal\n",
    "\n",
    "#donors_FSA: Number of donors per FSA in Montreal only\n",
    "donors_FSA = pd.DataFrame(data=mdm_mtl_donors.FSA.value_counts())\n",
    "donors_FSA = donors_FSA.reset_index()\n",
    "\n",
    "\n",
    "#correcting the default column names given by the value_counts()\n",
    "donors_FSA = donors_FSA.rename(columns = {'FSA' : 'nb_donors', 'index' : 'FSA'})\n",
    "\n",
    "mdm_mtl_donors = mdm_mtl_donors.groupby('FSA').sum().reset_index()\n",
    "\n",
    "#merges the table with the number of donros and the table with the cumulative amount given in the FSA\n",
    "mtl_fsa = pd.merge(mdm_mtl_donors, donors_FSA, left_on=\"FSA\", right_on=\"FSA\")\n",
    "\n",
    "\n",
    "#Outliers removal: variance filter \n",
    "\n",
    "\n",
    "#Average cumulative gift per person in each FSA\n",
    "mtl_fsa['cumu_person'] = mtl_fsa['Cumulative']/mtl_fsa['nb_donors']\n",
    "mtl_fsa['cumu_person'] = mtl_fsa['cumu_person'].apply(lambda x: int(x))\n",
    "\n",
    "\n",
    "mtl_fsa.to_csv(\"mtl_donations_fsas.csv\", encoding='utf-8')"
   ]
  },
  {
   "cell_type": "code",
   "execution_count": 29,
   "metadata": {},
   "outputs": [
    {
     "data": {
      "text/plain": [
       "count     20342\n",
       "unique      717\n",
       "top         H2J\n",
       "freq        419\n",
       "Name: FSA, dtype: object"
      ]
     },
     "execution_count": 29,
     "metadata": {},
     "output_type": "execute_result"
    }
   ],
   "source": [
    "#mdm_donors.info()\n",
    "#mdm_ind = mdm_donors.set_index('FSA')\n",
    "#mdm_donors_individuals = mdm_donors.groupby(['FSA', 'Cumulative', 'postcode'])#, &'name', 'Gender'])\n",
    "#mdm_ind = mdm_donors_individuals.size()\n",
    "#mdm_ind = mdm_ind.reset_index()\n",
    "#mdm_ind.head(50)\n",
    "mdm_ind.FSA.describe()"
   ]
  },
  {
   "cell_type": "markdown",
   "metadata": {},
   "source": [
    " total 21493 entities , 945 companies and 20548 individuals.\n"
   ]
  },
  {
   "cell_type": "markdown",
   "metadata": {},
   "source": [
    "## Evolution of gift over time"
   ]
  },
  {
   "cell_type": "code",
   "execution_count": 30,
   "metadata": {},
   "outputs": [
    {
     "name": "stdout",
     "output_type": "stream",
     "text": [
      "<class 'pandas.core.frame.DataFrame'>\n",
      "DatetimeIndex: 226244 entries, 2006-01-04 to 2016-12-31\n",
      "Data columns (total 21 columns):\n",
      "Unnamed: 0          226244 non-null int64\n",
      "NUC                 226244 non-null object\n",
      "name                226244 non-null object\n",
      "postcode            225902 non-null object\n",
      "code_camp           206715 non-null object\n",
      "Campagne            206715 non-null object\n",
      "code_occa           226244 non-null object\n",
      "Occasion            226244 non-null object\n",
      "Code act.           157823 non-null object\n",
      "Activit            157823 non-null object\n",
      "Desc. GL            226131 non-null object\n",
      "Code pai.           226244 non-null object\n",
      "Cumulatif  vie     226244 non-null object\n",
      "Nb.  vie           226244 non-null int64\n",
      "dern_tr_act         188964 non-null object\n",
      "Dern. tr. (date)    226244 non-null object\n",
      "dern_tr_amount      226244 non-null object\n",
      "Dern. tr. (occ.)    226244 non-null object\n",
      "Cumulative          226244 non-null int64\n",
      "Amount              226244 non-null int64\n",
      "Gender              226244 non-null object\n",
      "dtypes: int64(4), object(17)\n",
      "memory usage: 38.0+ MB\n"
     ]
    }
   ],
   "source": [
    "from matplotlib.backends.backend_pdf import PdfPages\n",
    "\n",
    "#data = [go.Scatter(x=mdm_donors.index, y=mdm_donors.Amount)]\n",
    "#py.iplot(data)\n",
    "\n",
    "#plt.style.use('ggplot')\n",
    "\n",
    "#mdm_donors.Amount.plot()\n",
    "#plt.plot(mdm_donors.index,mdm_donors.Amount )\n",
    "\n",
    "#WAY TO SELECT BASED ON CONDITION\n",
    "biggest = mdm_donors['Amount'] > 5000\n",
    "mdm_donors[biggest]\n",
    "mdm_donors_outrem = mdm_donors.drop(mdm_donors[mdm_donors.Amount > 5000].index)\n",
    "mdm_donors_outrem.info()"
   ]
  },
  {
   "cell_type": "markdown",
   "metadata": {},
   "source": [
    "#### So, plot with outliers (notably Francine (cum 124k), Louis(cum 75k))"
   ]
  },
  {
   "cell_type": "markdown",
   "metadata": {},
   "source": [
    "#### Mean per Month"
   ]
  },
  {
   "cell_type": "code",
   "execution_count": 31,
   "metadata": {},
   "outputs": [],
   "source": [
    "#Let us create monthly bins to analyze the amount given\n",
    "\n",
    "monthly_summary = pd.DataFrame()\n",
    "#monthly_summary['Amount_mean'] = mdm_donors_outrem.Amount.resample('M').mean()\n",
    "#monthly_summary['Amount_var'] = mdm_donors_outrem.Amount.resample('M').var()\n",
    "monthly_summary['Amount_total'] = mdm_donors_out.Amount.resample('M').sum()\n",
    "\n",
    "#Select only whole weeks\n",
    "#monthly_summary.head(100)\n",
    "#plt.plot(monthly_summary.index,monthly_summary.Amount_total)\n",
    "\n",
    "yearly_summary = pd.DataFrame()\n",
    "yearly_summary['Amount_sum'] = mdm_donors_out.Amount.resample('A').sum()\n",
    "yearly_summary['Amount_var'] = mdm_donors_out.Amount.resample('A').var()\n",
    "\n",
    "raw_yearly_summary = pd.DataFrame()\n",
    "raw_yearly_summary['Amount_sum'] = mdm_donors.Amount.resample('A').sum()\n",
    "raw_yearly_summary['Amount_var'] = mdm_donors.Amount.resample('A').var()"
   ]
  },
  {
   "cell_type": "code",
   "execution_count": 32,
   "metadata": {},
   "outputs": [],
   "source": [
    "#figure = plt.figure()\n",
    "\n",
    "#fig, ax1 = plt.subplots()\n",
    "\n",
    "#ax2 = ax1.twinx()\n",
    "#ax1.plot(monthly_summary.index, monthly_summary['Amount_total'], 'g-')\n",
    "#ax2.plot(monthly_summary.index, monthly_summary['Amount_total'], 'b-')\n",
    "\n",
    "#ax1.set_xlabel('Year')\n",
    "#ax1.set_ylabel('Monthly total', color='g')\n",
    "#ax2.set_ylabel('total', color='b')\n",
    "\n",
    "#plt.plot()\n",
    "#plt.rcParams['figure.figsize'] = 12,5"
   ]
  },
  {
   "cell_type": "code",
   "execution_count": 33,
   "metadata": {},
   "outputs": [
    {
     "data": {
      "text/html": [
       "<iframe id=\"igraph\" scrolling=\"no\" style=\"border:none;\" seamless=\"seamless\" src=\"https://plot.ly/~Heinrick/159.embed\" height=\"525px\" width=\"100%\"></iframe>"
      ],
      "text/plain": [
       "<plotly.tools.PlotlyDisplay object>"
      ]
     },
     "execution_count": 33,
     "metadata": {},
     "output_type": "execute_result"
    }
   ],
   "source": [
    "data = [go.Scatter(x=monthly_summary.index, y=monthly_summary.Amount_total)]\n",
    "\n",
    "py.iplot(data)"
   ]
  },
  {
   "cell_type": "code",
   "execution_count": 34,
   "metadata": {},
   "outputs": [
    {
     "data": {
      "text/html": [
       "<iframe id=\"igraph\" scrolling=\"no\" style=\"border:none;\" seamless=\"seamless\" src=\"https://plot.ly/~Heinrick/149.embed\" height=\"525px\" width=\"100%\"></iframe>"
      ],
      "text/plain": [
       "<plotly.tools.PlotlyDisplay object>"
      ]
     },
     "execution_count": 34,
     "metadata": {},
     "output_type": "execute_result"
    }
   ],
   "source": [
    "#TOTAL DONATIONS PER YEAR WITH THE OUTLIERS\n",
    "import plotly.plotly as py\n",
    "import plotly.graph_objs as go\n",
    "\n",
    "import pandas as pd\n",
    "\n",
    "trace_high = go.Scatter(\n",
    "                x=raw_yearly_summary.index,\n",
    "                y=raw_yearly_summary.Amount_sum,\n",
    "                name = \"Yearly total\",\n",
    "                line = dict(color = '#17BECF'),\n",
    "                opacity = 0.8)\n",
    "\n",
    "data = [trace_high]\n",
    "\n",
    "layout = dict(\n",
    "    title = \"Manually Set Date Range\",\n",
    "    xaxis = dict(\n",
    "        range = ['2016-07-01','2016-12-31'])\n",
    ")\n",
    "\n",
    "fig = dict(data=data)#, layout=layout)\n",
    "py.iplot(fig, filename = \"Manually Set Range\")"
   ]
  },
  {
   "cell_type": "code",
   "execution_count": 35,
   "metadata": {},
   "outputs": [
    {
     "data": {
      "text/html": [
       "<iframe id=\"igraph\" scrolling=\"no\" style=\"border:none;\" seamless=\"seamless\" src=\"https://plot.ly/~Heinrick/161.embed\" height=\"525px\" width=\"100%\"></iframe>"
      ],
      "text/plain": [
       "<plotly.tools.PlotlyDisplay object>"
      ]
     },
     "execution_count": 35,
     "metadata": {},
     "output_type": "execute_result"
    }
   ],
   "source": [
    "#TOTAL DONATIONS PER YEAR WITHOUT THE OUTLIERS\n",
    "layout = go.Layout(\n",
    "    title = \"Total donations per year\"\n",
    ")\n",
    "data = [go.Scatter(x=yearly_summary.index, y=yearly_summary.Amount_sum)]\n",
    "\n",
    "fig = go.Figure(data=data, layout=layout)\n",
    "py.iplot(fig)"
   ]
  },
  {
   "cell_type": "markdown",
   "metadata": {},
   "source": [
    "## Gift from men vs Gift from Women"
   ]
  },
  {
   "cell_type": "code",
   "execution_count": 36,
   "metadata": {},
   "outputs": [
    {
     "data": {
      "text/plain": [
       "<matplotlib.figure.Figure at 0x1127df050>"
      ]
     },
     "metadata": {},
     "output_type": "display_data"
    },
    {
     "data": {
      "image/png": "[encoded data removed]",
      "text/plain": [
       "<matplotlib.figure.Figure at 0x10d29f6d0>"
      ]
     },
     "metadata": {},
     "output_type": "display_data"
    }
   ],
   "source": [
    "#IS THERE A DIFFERENCE IN THE AMOUNT DONATED MEN AND WOMEN ?\n",
    "\n",
    "yearly_summary_F = pd.DataFrame()\n",
    "yearly_summary_M = pd.DataFrame()\n",
    "\n",
    "\n",
    "yearly_summary_F['Amount_sum'] = mdm_donors_out[mdm_donors_out.Gender == 'F'].Amount.resample('A').sum()\n",
    "yearly_summary_M['Amount_sum'] = mdm_donors_out[mdm_donors_out.Gender == 'M'].Amount.resample('A').sum()\n",
    "\n",
    "\n",
    "\n",
    "fig = plt.figure()\n",
    "fig.suptitle('bold figure sutitle', fontsize=14, fontweight='bold')\n",
    "\n",
    "\n",
    "fig, ax1 = plt.subplots()\n",
    "\n",
    "ax2 = ax1.twinx()\n",
    "ax1.plot(yearly_summary_M.index, yearly_summary_M['Amount_sum'], 'darkblue')\n",
    "ax2.plot(yearly_summary_F.index, yearly_summary_F['Amount_sum'], 'red')\n",
    "\n",
    "\n",
    "ax1.set_xlabel('Year')\n",
    "ax1.set_ylabel('Monthly sum', color='g')\n",
    "#ax2.set_ylabel('total', color='b')\n",
    "\n",
    "plt.plot()\n",
    "plt.rcParams['figure.figsize'] = 12,5\n",
    "\n",
    "#Men vs Women: even though there are more women donors, men tend to give more "
   ]
  },
  {
   "cell_type": "code",
   "execution_count": 37,
   "metadata": {},
   "outputs": [
    {
     "data": {
      "text/plain": [
       "DONS MENSUELS       201490\n",
       "MARKETING DIRECT      5581\n",
       "MEMBRES                665\n",
       "EVENEMENTS             259\n",
       "AUTRES                 236\n",
       "8-E-FUNDRAISING         95\n",
       "DONS MAJEURS             1\n",
       "Name: Campagne, dtype: int64"
      ]
     },
     "execution_count": 37,
     "metadata": {},
     "output_type": "execute_result"
    }
   ],
   "source": [
    "mdm_donors_out.Campagne.value_counts()\n",
    "#201490 DONS MENSUELS BEFORE PROCESSING"
   ]
  },
  {
   "cell_type": "markdown",
   "metadata": {},
   "source": [
    "## Amount collected for each Campaign\n",
    "This is an attempt to retrieve the amount collected by different campaigns, however the data entry was inconsistent and I do not have the appropriate data yet."
   ]
  },
  {
   "cell_type": "code",
   "execution_count": null,
   "metadata": {},
   "outputs": [],
   "source": []
  },
  {
   "cell_type": "code",
   "execution_count": 38,
   "metadata": {},
   "outputs": [],
   "source": [
    "#mdm_donors_out.info()\n",
    "#campagne has 9% of missing value, some of the monthly donations are however\n",
    "#signaled in the \"occasion feature\", let us try to complete campaign using that"
   ]
  },
  {
   "cell_type": "code",
   "execution_count": 39,
   "metadata": {},
   "outputs": [],
   "source": [
    "campagnes = pd.DataFrame(data=mdm_donors_out['Occasion'].value_counts()) #keep only the 20 most significant amounts\n",
    "\n",
    "groupedPL = mdm_donors_out.groupby(['Occasion', 'Amount'])\n",
    "groupedPL = groupedPL.size()\n",
    "groupedPL = groupedPL.reset_index()\n",
    "\n",
    "#weekday_counts = berri_bikes.groupby('weekday').aggregate(sum)\n",
    "\n",
    "AmountOcc = groupedPL.groupby('Occasion').aggregate(sum)\n",
    "AmountOcc.sort_values('Amount', ascending = False, inplace = True)\n",
    "AmountOcc = AmountOcc.reset_index()\n",
    "AmountOcc = AmountOcc.set_index('Occasion')\n",
    "\n",
    "del AmountOcc[0]\n",
    "AmountOcc.head(20)\n",
    "\n",
    "AmountOcc = AmountOcc[AmountOcc.index.str.contains(\"mensuels\") == False]"
   ]
  },
  {
   "cell_type": "code",
   "execution_count": 40,
   "metadata": {},
   "outputs": [
    {
     "data": {
      "text/html": [
       "<div>\n",
       "<style>\n",
       "    .dataframe thead tr:only-child th {\n",
       "        text-align: right;\n",
       "    }\n",
       "\n",
       "    .dataframe thead th {\n",
       "        text-align: left;\n",
       "    }\n",
       "\n",
       "    .dataframe tbody tr th {\n",
       "        vertical-align: top;\n",
       "    }\n",
       "</style>\n",
       "<table border=\"1\" class=\"dataframe\">\n",
       "  <thead>\n",
       "    <tr style=\"text-align: right;\">\n",
       "      <th></th>\n",
       "      <th>Amount</th>\n",
       "    </tr>\n",
       "    <tr>\n",
       "      <th>Occasion</th>\n",
       "      <th></th>\n",
       "    </tr>\n",
       "  </thead>\n",
       "  <tbody>\n",
       "    <tr>\n",
       "      <th>Urgence Hati  - 12 janvier 2010</th>\n",
       "      <td>13553</td>\n",
       "    </tr>\n",
       "    <tr>\n",
       "      <th>Non sollicit Web</th>\n",
       "      <td>7848</td>\n",
       "    </tr>\n",
       "    <tr>\n",
       "      <th>Publipostage Humanitaire chez nous Oct 2015</th>\n",
       "      <td>6775</td>\n",
       "    </tr>\n",
       "    <tr>\n",
       "      <th>Publipostage MdM En haut de la liste 30sept2016 162</th>\n",
       "      <td>6414</td>\n",
       "    </tr>\n",
       "    <tr>\n",
       "      <th>Publipostage Journe des Femmes Mars 2016</th>\n",
       "      <td>5684</td>\n",
       "    </tr>\n",
       "  </tbody>\n",
       "</table>\n",
       "</div>"
      ],
      "text/plain": [
       "                                                    Amount\n",
       "Occasion                                                  \n",
       "Urgence Hati  - 12 janvier 2010                     13553\n",
       "Non sollicit Web                                     7848\n",
       "Publipostage Humanitaire chez nous Oct 2015           6775\n",
       "Publipostage MdM En haut de la liste 30sept2016...    6414\n",
       "Publipostage Journe des Femmes Mars 2016             5684"
      ]
     },
     "execution_count": 40,
     "metadata": {},
     "output_type": "execute_result"
    }
   ],
   "source": [
    "AmountOcc.head(5)\n",
    "#$1481 collected on average for each event"
   ]
  },
  {
   "cell_type": "code",
   "execution_count": 41,
   "metadata": {},
   "outputs": [
    {
     "name": "stdout",
     "output_type": "stream",
     "text": [
      "Amount    13553\n",
      "Name: Urgence Hati  - 12 janvier 2010, dtype: int64\n"
     ]
    }
   ],
   "source": [
    "AmountOcc.iloc[0].Name = \"Dons Mensuels\"\n",
    "print(AmountOcc.iloc[0])"
   ]
  },
  {
   "cell_type": "code",
   "execution_count": 42,
   "metadata": {},
   "outputs": [
    {
     "data": {
      "text/html": [
       "<iframe id=\"igraph\" scrolling=\"no\" style=\"border:none;\" seamless=\"seamless\" src=\"https://plot.ly/~Heinrick/153.embed\" height=\"500px\" width=\"500px\"></iframe>"
      ],
      "text/plain": [
       "<plotly.tools.PlotlyDisplay object>"
      ]
     },
     "execution_count": 42,
     "metadata": {},
     "output_type": "execute_result"
    }
   ],
   "source": [
    "import plotly.plotly as py\n",
    "import plotly.graph_objs as go\n",
    "\n",
    "trace0 = go.Bar(\n",
    "    x=AmountOcc.head(20).index,\n",
    "    y=AmountOcc.head(20).Amount,\n",
    "    name='Gifts collected per Occasion',\n",
    "    marker=dict(\n",
    "        color='rgb(49,130,189)'\n",
    "    )\n",
    ")\n",
    "\n",
    "data = [trace0]\n",
    "layout = go.Layout(\n",
    "    xaxis=dict(tickangle=-45),\n",
    "    barmode='group',\n",
    "    autosize=False,\n",
    "    width=500,\n",
    "    height=500,\n",
    "    margin=go.Margin(\n",
    "        l=100,\n",
    "        r=100,\n",
    "        b=150,\n",
    "        t=150,\n",
    "        pad=4  \n",
    "    ),\n",
    "    font=dict(size=10)\n",
    "    \n",
    ")\n",
    "\n",
    "fig = go.Figure(data=data, layout=layout)\n",
    "py.iplot(fig, filename='angled-text-bar')"
   ]
  },
  {
   "cell_type": "markdown",
   "metadata": {},
   "source": [
    "## Let us now assess donor retention"
   ]
  },
  {
   "cell_type": "code",
   "execution_count": 43,
   "metadata": {},
   "outputs": [
    {
     "data": {
      "text/html": [
       "<iframe id=\"igraph\" scrolling=\"no\" style=\"border:none;\" seamless=\"seamless\" src=\"https://plot.ly/~Heinrick/163.embed\" height=\"525px\" width=\"100%\"></iframe>"
      ],
      "text/plain": [
       "<plotly.tools.PlotlyDisplay object>"
      ]
     },
     "execution_count": 43,
     "metadata": {},
     "output_type": "execute_result"
    }
   ],
   "source": [
    "mdm_monthlies = mdm_donors_out[mdm_donors_out.Campagne == 'DONS MENSUELS']\n",
    "yearly_summary['nb_monthlies'] = mdm_monthlies.Campagne.resample('A').size()\n",
    "yearly_summary['monthly_mean_amount'] = mdm_monthlies.Amount.resample('A').mean()\n",
    "yearly_summary.head(20)\n",
    "\n",
    "monthly_summary['nb_monthlies'] = mdm_monthlies.Campagne.resample('M').size()\n",
    "monthly_summary['monthly_mean_amount'] = mdm_monthlies.Amount.resample('M').mean()\n",
    "\n",
    "\n",
    "\n",
    "\n",
    "layout = go.Layout(\n",
    "    title = \"Number of monthly gifts per year\"\n",
    ")\n",
    "data = [go.Scatter(x=yearly_summary.index, y=yearly_summary.nb_monthlies)]\n",
    "\n",
    "fig = go.Figure(data=data, layout=layout)\n",
    "py.iplot(fig)"
   ]
  },
  {
   "cell_type": "code",
   "execution_count": 44,
   "metadata": {},
   "outputs": [
    {
     "data": {
      "text/html": [
       "<iframe id=\"igraph\" scrolling=\"no\" style=\"border:none;\" seamless=\"seamless\" src=\"https://plot.ly/~Heinrick/165.embed\" height=\"525px\" width=\"100%\"></iframe>"
      ],
      "text/plain": [
       "<plotly.tools.PlotlyDisplay object>"
      ]
     },
     "execution_count": 44,
     "metadata": {},
     "output_type": "execute_result"
    }
   ],
   "source": [
    "layout = go.Layout(\n",
    "    title = \"Average amount of monthly donations\"\n",
    ")\n",
    "data = [go.Scatter(x=yearly_summary.index, y=yearly_summary.monthly_mean_amount)]\n",
    "fig = go.Figure(data=data, layout=layout)\n",
    "py.iplot(fig)\n",
    "\n",
    "#mean amount of the monthly donations every year"
   ]
  },
  {
   "cell_type": "code",
   "execution_count": 45,
   "metadata": {},
   "outputs": [
    {
     "data": {
      "text/plain": [
       "count    20342.000000\n",
       "mean        13.078753\n",
       "std         24.225393\n",
       "min          1.000000\n",
       "25%          1.000000\n",
       "50%          5.000000\n",
       "75%         12.000000\n",
       "max        239.000000\n",
       "Name: Nb.  vie, dtype: float64"
      ]
     },
     "execution_count": 45,
     "metadata": {},
     "output_type": "execute_result"
    }
   ],
   "source": [
    "#FOR HOW LONG DO MOST PEOPLE STAY WITH THE CHARITY ?\n",
    "\n",
    "#Let us make an individual table of the monthly donations\n",
    "\n",
    "#mdm_donors.info()\n",
    "mdm_donors_individuals = mdm_monthlies.groupby(['NUC','name', 'Cumulative', 'Gender', 'postcode', 'Nb.  vie'])#, &'name', 'Gender'])\n",
    "mdm_ind_M = mdm_donors_individuals.size()\n",
    "mdm_ind_M = mdm_ind.reset_index()\n",
    "#mdm_ind now holds one record for each individual donor \n",
    "mdm_ind_M = mdm_ind_M.sort_values('Nb.  vie', ascending = False)\n",
    "#mdm_ind_M.head(50)\n",
    "mdm_ind_M['Nb.  vie'].describe()\n",
    "#How long the avaerage person stays."
   ]
  },
  {
   "cell_type": "markdown",
   "metadata": {},
   "source": [
    "### Let's look for seasonal trends"
   ]
  },
  {
   "cell_type": "code",
   "execution_count": 46,
   "metadata": {},
   "outputs": [],
   "source": [
    "#I will first remove the 2010 peak due to a special event to make it easier to look for the usual seasonal trends\n",
    "\n",
    "ts = monthly_summary[np.abs(monthly_summary.Amount_total-monthly_summary.Amount_total.mean())<=(2*monthly_summary.Amount_total.std())]\n",
    "ts = ts.resample('M')\n",
    "ts = ts.truncate(before='2012-01-01', after='2017-01-01')\n",
    "\n",
    "#Now let us decompose the time series and decompose it in order to graph the trends.\n",
    "from statsmodels.tsa.seasonal import seasonal_decompose\n",
    "import matplotlib.dates as dates\n",
    "\n",
    "\n",
    "\n",
    "ts_log = np.log(ts.Amount_total)\n",
    "\n",
    "moving_avg = pd.rolling_mean(ts_log,12)\n",
    "\n",
    "ts_log = np.log(ts.Amount_total)\n",
    "\n",
    "decomposition = seasonal_decompose(ts_log)\n",
    "\n",
    "trend = decomposition.trend\n",
    "seasonal = decomposition.seasonal\n",
    "residual = decomposition.resid"
   ]
  },
  {
   "cell_type": "code",
   "execution_count": 47,
   "metadata": {},
   "outputs": [
    {
     "data": {
      "image/png": "[encoded data removed]",
      "text/plain": [
       "<matplotlib.figure.Figure at 0x113432f10>"
      ]
     },
     "metadata": {},
     "output_type": "display_data"
    }
   ],
   "source": [
    "from statsmodels.tsa.seasonal import seasonal_decompose\n",
    "decomposition = seasonal_decompose(ts_log)\n",
    "import matplotlib.dates as dates\n",
    "\n",
    "trend = decomposition.trend\n",
    "seasonal = decomposition.seasonal\n",
    "residual = decomposition.resid\n",
    "\n",
    "\n",
    "plt.figure(1)                # the first figure\n",
    "\n",
    "plt.subplot(411)\n",
    "plt.plot(ts_log, label='Original')\n",
    "plt.legend(loc='best')\n",
    "plt.subplot(412)\n",
    "plt.plot(trend, label='Trend')\n",
    "plt.legend(loc='best')\n",
    "plt.subplot(413)\n",
    "plt.plot(seasonal)\n",
    "plt.legend(loc='best')\n",
    "plt.tight_layout()\n",
    "plt.savefig('trendsold.png', bbox_inches='tight', dpi = 500)\n",
    "#PRE 2010 (EARTHQUAKE) TRENDS"
   ]
  },
  {
   "cell_type": "code",
   "execution_count": 48,
   "metadata": {},
   "outputs": [],
   "source": [
    "ts = monthly_summary[np.abs(monthly_summary.Amount_total-monthly_summary.Amount_total.mean())<=(2*monthly_summary.Amount_total.std())]\n",
    "ts = ts.resample('M')\n",
    "ts = ts.truncate(before='2006-01-01', after='2010-01-01')\n",
    "\n",
    "\n",
    "from statsmodels.tsa.seasonal import seasonal_decompose\n",
    "import matplotlib.dates as dates\n",
    "\n",
    "\n",
    "\n",
    "ts_log = np.log(ts.Amount_total)\n",
    "moving_avg = pd.rolling_mean(ts_log,12)\n",
    "ts_log = np.log(ts.Amount_total)\n",
    "moving_avg = pd.rolling_mean(ts_log,12)\n",
    "ts_log_moving_avg_diff = ts_log - moving_avg\n",
    "ts_log_moving_avg_diff.dropna(inplace=True)\n",
    "ts_log_diff = ts_log - ts_log.shift()\n",
    "decomposition = seasonal_decompose(ts_log)\n",
    "trend = decomposition.trend\n",
    "seasonal = decomposition.seasonal\n",
    "residual = decomposition.resid"
   ]
  },
  {
   "cell_type": "code",
   "execution_count": 49,
   "metadata": {},
   "outputs": [
    {
     "data": {
      "image/png": "[encoded data removed]",
      "text/plain": [
       "<matplotlib.figure.Figure at 0x112692690>"
      ]
     },
     "metadata": {},
     "output_type": "display_data"
    }
   ],
   "source": [
    "from statsmodels.tsa.seasonal import seasonal_decompose\n",
    "decomposition = seasonal_decompose(ts_log)\n",
    "import matplotlib.dates as dates\n",
    "\n",
    "trend = decomposition.trend\n",
    "seasonal = decomposition.seasonal\n",
    "residual = decomposition.resid\n",
    "\n",
    "\n",
    "plt.figure(1)                # the first figure\n",
    "\n",
    "plt.subplot(411)\n",
    "plt.plot(ts_log, label='Original')\n",
    "plt.legend(loc='best')\n",
    "plt.subplot(412)\n",
    "plt.plot(trend, label='Trend')\n",
    "plt.legend(loc='best')\n",
    "plt.subplot(413)\n",
    "plt.plot(seasonal)\n",
    "plt.legend(loc='best')\n",
    "plt.tight_layout()\n",
    "plt.savefig('trendsold.png', bbox_inches='tight', dpi = 500)\n",
    "#PRE 2010 (EARTHQUAKE) TRENDS"
   ]
  },
  {
   "cell_type": "markdown",
   "metadata": {},
   "source": [
    "# Notes\n",
    "\n",
    "Further work on this database could involve:\n",
    "\n",
    "* Analysis of donations from companies and correlation between assets and gifts\n",
    "* Analysis of profile from the top 1% donors excluded from the file\n",
    "* Further use of statistics canada data to infer more about the donor's profile based on their postal code\n",
    "* Produce a map for Quebec locations\n",
    "* time series forecasting to build a model that could predict the future trends in the donations"
   ]
  }
 ],
 "metadata": {
  "kernelspec": {
   "display_name": "Python 3",
   "language": "python",
   "name": "python3"
  },
  "language_info": {
   "codemirror_mode": {
    "name": "ipython",
    "version": 3
   },
   "file_extension": ".py",
   "mimetype": "text/x-python",
   "name": "python",
   "nbconvert_exporter": "python",
   "pygments_lexer": "ipython3",
   "version": "3.7.4"
  }
 },
 "nbformat": 4,
 "nbformat_minor": 2
}
