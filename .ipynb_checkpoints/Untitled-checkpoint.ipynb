{
 "cells": [
  {
   "cell_type": "code",
   "execution_count": 47,
   "metadata": {},
   "outputs": [],
   "source": [
    "# Student data load \n",
    "\n",
    "import pandas as pd\n"
   ]
  },
  {
   "cell_type": "code",
   "execution_count": 48,
   "metadata": {},
   "outputs": [
    {
     "data": {
      "text/html": [
       "<div>\n",
       "<style scoped>\n",
       "    .dataframe tbody tr th:only-of-type {\n",
       "        vertical-align: middle;\n",
       "    }\n",
       "\n",
       "    .dataframe tbody tr th {\n",
       "        vertical-align: top;\n",
       "    }\n",
       "\n",
       "    .dataframe thead th {\n",
       "        text-align: right;\n",
       "    }\n",
       "</style>\n",
       "<table border=\"1\" class=\"dataframe\">\n",
       "  <thead>\n",
       "    <tr style=\"text-align: right;\">\n",
       "      <th></th>\n",
       "      <th>ID</th>\n",
       "      <th>Name</th>\n",
       "      <th>Grades</th>\n",
       "      <th>ConsultationsD1</th>\n",
       "      <th>ConsultationsD2</th>\n",
       "      <th>Hrabsence</th>\n",
       "    </tr>\n",
       "  </thead>\n",
       "  <tbody>\n",
       "    <tr>\n",
       "      <td>0</td>\n",
       "      <td>1913357</td>\n",
       "      <td>Behal, Harry</td>\n",
       "      <td>90</td>\n",
       "      <td>13.0</td>\n",
       "      <td>12.0</td>\n",
       "      <td>NaN</td>\n",
       "    </tr>\n",
       "    <tr>\n",
       "      <td>1</td>\n",
       "      <td>1899502</td>\n",
       "      <td>Chugh, Gursahib Singh</td>\n",
       "      <td>67</td>\n",
       "      <td>7.0</td>\n",
       "      <td>6.0</td>\n",
       "      <td>22.0</td>\n",
       "    </tr>\n",
       "    <tr>\n",
       "      <td>2</td>\n",
       "      <td>1895342</td>\n",
       "      <td>Davinder Singh, Davinder Singh</td>\n",
       "      <td>70</td>\n",
       "      <td>28.0</td>\n",
       "      <td>14.0</td>\n",
       "      <td>12.0</td>\n",
       "    </tr>\n",
       "    <tr>\n",
       "      <td>3</td>\n",
       "      <td>1913546</td>\n",
       "      <td>Devarapu, Mary Keerthi</td>\n",
       "      <td>60</td>\n",
       "      <td>7.0</td>\n",
       "      <td>16.0</td>\n",
       "      <td>16.0</td>\n",
       "    </tr>\n",
       "    <tr>\n",
       "      <td>4</td>\n",
       "      <td>1895179</td>\n",
       "      <td>Dharam, Naresh</td>\n",
       "      <td>55</td>\n",
       "      <td>16.0</td>\n",
       "      <td>5.0</td>\n",
       "      <td>38.0</td>\n",
       "    </tr>\n",
       "  </tbody>\n",
       "</table>\n",
       "</div>"
      ],
      "text/plain": [
       "        ID                            Name  Grades  ConsultationsD1  \\\n",
       "0  1913357                    Behal, Harry      90             13.0   \n",
       "1  1899502           Chugh, Gursahib Singh      67              7.0   \n",
       "2  1895342  Davinder Singh, Davinder Singh      70             28.0   \n",
       "3  1913546          Devarapu, Mary Keerthi      60              7.0   \n",
       "4  1895179                  Dharam, Naresh      55             16.0   \n",
       "\n",
       "   ConsultationsD2  Hrabsence  \n",
       "0             12.0        NaN  \n",
       "1              6.0       22.0  \n",
       "2             14.0       12.0  \n",
       "3             16.0       16.0  \n",
       "4              5.0       38.0  "
      ]
     },
     "execution_count": 48,
     "metadata": {},
     "output_type": "execute_result"
    }
   ],
   "source": [
    "record = pd.read_csv('studentgrade.csv')\n",
    "\n",
    "record.head()"
   ]
  },
  {
   "cell_type": "code",
   "execution_count": 49,
   "metadata": {},
   "outputs": [
    {
     "data": {
      "text/html": [
       "<div>\n",
       "<style scoped>\n",
       "    .dataframe tbody tr th:only-of-type {\n",
       "        vertical-align: middle;\n",
       "    }\n",
       "\n",
       "    .dataframe tbody tr th {\n",
       "        vertical-align: top;\n",
       "    }\n",
       "\n",
       "    .dataframe thead th {\n",
       "        text-align: right;\n",
       "    }\n",
       "</style>\n",
       "<table border=\"1\" class=\"dataframe\">\n",
       "  <thead>\n",
       "    <tr style=\"text-align: right;\">\n",
       "      <th></th>\n",
       "      <th>ID</th>\n",
       "      <th>Grades</th>\n",
       "      <th>ConsultationsD1</th>\n",
       "      <th>ConsultationsD2</th>\n",
       "      <th>Hrabsence</th>\n",
       "    </tr>\n",
       "  </thead>\n",
       "  <tbody>\n",
       "    <tr>\n",
       "      <td>count</td>\n",
       "      <td>3.400000e+01</td>\n",
       "      <td>34.000000</td>\n",
       "      <td>33.000000</td>\n",
       "      <td>32.000000</td>\n",
       "      <td>31.000000</td>\n",
       "    </tr>\n",
       "    <tr>\n",
       "      <td>mean</td>\n",
       "      <td>1.909819e+06</td>\n",
       "      <td>58.470588</td>\n",
       "      <td>9.454545</td>\n",
       "      <td>10.781250</td>\n",
       "      <td>21.046774</td>\n",
       "    </tr>\n",
       "    <tr>\n",
       "      <td>std</td>\n",
       "      <td>7.240526e+03</td>\n",
       "      <td>24.096064</td>\n",
       "      <td>6.694638</td>\n",
       "      <td>5.933689</td>\n",
       "      <td>13.605801</td>\n",
       "    </tr>\n",
       "    <tr>\n",
       "      <td>min</td>\n",
       "      <td>1.895123e+06</td>\n",
       "      <td>0.000000</td>\n",
       "      <td>1.000000</td>\n",
       "      <td>1.000000</td>\n",
       "      <td>4.000000</td>\n",
       "    </tr>\n",
       "    <tr>\n",
       "      <td>25%</td>\n",
       "      <td>1.913046e+06</td>\n",
       "      <td>48.250000</td>\n",
       "      <td>6.000000</td>\n",
       "      <td>6.000000</td>\n",
       "      <td>12.000000</td>\n",
       "    </tr>\n",
       "    <tr>\n",
       "      <td>50%</td>\n",
       "      <td>1.913451e+06</td>\n",
       "      <td>65.500000</td>\n",
       "      <td>9.000000</td>\n",
       "      <td>9.000000</td>\n",
       "      <td>20.000000</td>\n",
       "    </tr>\n",
       "    <tr>\n",
       "      <td>75%</td>\n",
       "      <td>1.913574e+06</td>\n",
       "      <td>74.750000</td>\n",
       "      <td>12.000000</td>\n",
       "      <td>16.000000</td>\n",
       "      <td>30.000000</td>\n",
       "    </tr>\n",
       "    <tr>\n",
       "      <td>max</td>\n",
       "      <td>1.913599e+06</td>\n",
       "      <td>90.000000</td>\n",
       "      <td>28.000000</td>\n",
       "      <td>25.000000</td>\n",
       "      <td>56.000000</td>\n",
       "    </tr>\n",
       "  </tbody>\n",
       "</table>\n",
       "</div>"
      ],
      "text/plain": [
       "                 ID     Grades  ConsultationsD1  ConsultationsD2  Hrabsence\n",
       "count  3.400000e+01  34.000000        33.000000        32.000000  31.000000\n",
       "mean   1.909819e+06  58.470588         9.454545        10.781250  21.046774\n",
       "std    7.240526e+03  24.096064         6.694638         5.933689  13.605801\n",
       "min    1.895123e+06   0.000000         1.000000         1.000000   4.000000\n",
       "25%    1.913046e+06  48.250000         6.000000         6.000000  12.000000\n",
       "50%    1.913451e+06  65.500000         9.000000         9.000000  20.000000\n",
       "75%    1.913574e+06  74.750000        12.000000        16.000000  30.000000\n",
       "max    1.913599e+06  90.000000        28.000000        25.000000  56.000000"
      ]
     },
     "execution_count": 49,
     "metadata": {},
     "output_type": "execute_result"
    }
   ],
   "source": [
    "record.describe()"
   ]
  },
  {
   "cell_type": "code",
   "execution_count": 50,
   "metadata": {},
   "outputs": [
    {
     "name": "stdout",
     "output_type": "stream",
     "text": [
      "<class 'pandas.core.frame.DataFrame'>\n",
      "RangeIndex: 34 entries, 0 to 33\n",
      "Data columns (total 6 columns):\n",
      "ID                 34 non-null int64\n",
      "Name               34 non-null object\n",
      "Grades             34 non-null int64\n",
      "ConsultationsD1    33 non-null float64\n",
      "ConsultationsD2    32 non-null float64\n",
      "Hrabsence          31 non-null float64\n",
      "dtypes: float64(3), int64(2), object(1)\n",
      "memory usage: 1.7+ KB\n"
     ]
    }
   ],
   "source": [
    "record.info()"
   ]
  },
  {
   "cell_type": "code",
   "execution_count": 51,
   "metadata": {},
   "outputs": [
    {
     "data": {
      "text/plain": [
       "ID                   int64\n",
       "Name                object\n",
       "Grades               int64\n",
       "ConsultationsD1    float64\n",
       "ConsultationsD2    float64\n",
       "Hrabsence          float64\n",
       "dtype: object"
      ]
     },
     "execution_count": 51,
     "metadata": {},
     "output_type": "execute_result"
    }
   ],
   "source": [
    "record.dtypes"
   ]
  },
  {
   "cell_type": "code",
   "execution_count": 52,
   "metadata": {},
   "outputs": [
    {
     "data": {
      "text/plain": [
       "array([  nan, 22.  , 12.  , 16.  , 38.  ,  8.  , 20.  , 14.  , 32.  ,\n",
       "       17.45, 30.  ,  4.  , 56.  ,  6.  , 13.  , 26.  ])"
      ]
     },
     "execution_count": 52,
     "metadata": {},
     "output_type": "execute_result"
    }
   ],
   "source": [
    "record.Hrabsence.unique()"
   ]
  },
  {
   "cell_type": "code",
   "execution_count": 56,
   "metadata": {},
   "outputs": [],
   "source": [
    "#  Replacing nan (null value with mean value)\n",
    "\n",
    "record.Hrabsence.fillna(round(record.Hrabsence.mean()), inplace=True)"
   ]
  },
  {
   "cell_type": "code",
   "execution_count": 58,
   "metadata": {},
   "outputs": [
    {
     "name": "stdout",
     "output_type": "stream",
     "text": [
      "<class 'pandas.core.frame.DataFrame'>\n",
      "RangeIndex: 34 entries, 0 to 33\n",
      "Data columns (total 6 columns):\n",
      "ID                 34 non-null int64\n",
      "Name               34 non-null object\n",
      "Grades             34 non-null int64\n",
      "ConsultationsD1    33 non-null float64\n",
      "ConsultationsD2    32 non-null float64\n",
      "Hrabsence          34 non-null float64\n",
      "dtypes: float64(3), int64(2), object(1)\n",
      "memory usage: 1.7+ KB\n"
     ]
    }
   ],
   "source": [
    "record.info()"
   ]
  },
  {
   "cell_type": "code",
   "execution_count": 45,
   "metadata": {},
   "outputs": [
    {
     "data": {
      "text/plain": [
       "ID                   int64\n",
       "Name                object\n",
       "Grades               int64\n",
       "ConsultationsD1    float64\n",
       "ConsultationsD2    float64\n",
       "Hrabsence          float64\n",
       "dtype: object"
      ]
     },
     "execution_count": 45,
     "metadata": {},
     "output_type": "execute_result"
    }
   ],
   "source": [
    "record.dtypes"
   ]
  },
  {
   "cell_type": "code",
   "execution_count": 57,
   "metadata": {},
   "outputs": [
    {
     "data": {
      "text/plain": [
       "array([21.  , 22.  , 12.  , 16.  , 38.  ,  8.  , 20.  , 14.  , 32.  ,\n",
       "       17.45, 30.  ,  4.  , 56.  ,  6.  , 13.  , 26.  ])"
      ]
     },
     "execution_count": 57,
     "metadata": {},
     "output_type": "execute_result"
    }
   ],
   "source": [
    "record.Hrabsence.unique()"
   ]
  },
  {
   "cell_type": "code",
   "execution_count": 60,
   "metadata": {},
   "outputs": [
    {
     "data": {
      "text/plain": [
       "array([13.,  7., 28., 16.,  8., 10.,  6., 12.,  1.,  9.,  2., 25., 11.,\n",
       "        4., 24., nan])"
      ]
     },
     "execution_count": 60,
     "metadata": {},
     "output_type": "execute_result"
    }
   ],
   "source": [
    "record.ConsultationsD1.unique()"
   ]
  },
  {
   "cell_type": "code",
   "execution_count": null,
   "metadata": {},
   "outputs": [],
   "source": [
    "# Replacing nan value with mean \n"
   ]
  },
  {
   "cell_type": "code",
   "execution_count": 61,
   "metadata": {},
   "outputs": [
    {
     "data": {
      "text/plain": [
       "array([12.,  6., 14., 16.,  5.,  9.,  8., 13.,  1.,  7., 17., 25., 19.,\n",
       "       nan, 24., 10.])"
      ]
     },
     "execution_count": 61,
     "metadata": {},
     "output_type": "execute_result"
    }
   ],
   "source": [
    "record.ConsultationsD2.unique()"
   ]
  },
  {
   "cell_type": "code",
   "execution_count": null,
   "metadata": {},
   "outputs": [],
   "source": [
    "# Replacing nan value with mean"
   ]
  }
 ],
 "metadata": {
  "kernelspec": {
   "display_name": "Python 3",
   "language": "python",
   "name": "python3"
  },
  "language_info": {
   "codemirror_mode": {
    "name": "ipython",
    "version": 3
   },
   "file_extension": ".py",
   "mimetype": "text/x-python",
   "name": "python",
   "nbconvert_exporter": "python",
   "pygments_lexer": "ipython3",
   "version": "3.7.4"
  }
 },
 "nbformat": 4,
 "nbformat_minor": 2
}
