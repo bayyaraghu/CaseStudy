{
 "cells": [
  {
   "cell_type": "markdown",
   "metadata": {},
   "source": [
    "# 0.1"
   ]
  },
  {
   "cell_type": "code",
   "execution_count": 4,
   "metadata": {},
   "outputs": [],
   "source": [
    "# Student data load \n",
    "import pandas as pd"
   ]
  },
  {
   "cell_type": "code",
   "execution_count": 5,
   "metadata": {},
   "outputs": [
    {
     "data": {
      "text/html": [
       "<div>\n",
       "<style scoped>\n",
       "    .dataframe tbody tr th:only-of-type {\n",
       "        vertical-align: middle;\n",
       "    }\n",
       "\n",
       "    .dataframe tbody tr th {\n",
       "        vertical-align: top;\n",
       "    }\n",
       "\n",
       "    .dataframe thead th {\n",
       "        text-align: right;\n",
       "    }\n",
       "</style>\n",
       "<table border=\"1\" class=\"dataframe\">\n",
       "  <thead>\n",
       "    <tr style=\"text-align: right;\">\n",
       "      <th></th>\n",
       "      <th>ID</th>\n",
       "      <th>Name</th>\n",
       "      <th>Grades</th>\n",
       "      <th>ConsultationsD1</th>\n",
       "      <th>ConsultationsD2</th>\n",
       "      <th>Hrabsence</th>\n",
       "    </tr>\n",
       "  </thead>\n",
       "  <tbody>\n",
       "    <tr>\n",
       "      <td>0</td>\n",
       "      <td>1913357</td>\n",
       "      <td>Behal, Harry</td>\n",
       "      <td>90</td>\n",
       "      <td>13.0</td>\n",
       "      <td>12.0</td>\n",
       "      <td>NaN</td>\n",
       "    </tr>\n",
       "    <tr>\n",
       "      <td>1</td>\n",
       "      <td>1899502</td>\n",
       "      <td>Chugh, Gursahib Singh</td>\n",
       "      <td>67</td>\n",
       "      <td>7.0</td>\n",
       "      <td>6.0</td>\n",
       "      <td>22.0</td>\n",
       "    </tr>\n",
       "    <tr>\n",
       "      <td>2</td>\n",
       "      <td>1895342</td>\n",
       "      <td>Davinder Singh, Davinder Singh</td>\n",
       "      <td>70</td>\n",
       "      <td>28.0</td>\n",
       "      <td>14.0</td>\n",
       "      <td>12.0</td>\n",
       "    </tr>\n",
       "    <tr>\n",
       "      <td>3</td>\n",
       "      <td>1913546</td>\n",
       "      <td>Devarapu, Mary Keerthi</td>\n",
       "      <td>60</td>\n",
       "      <td>7.0</td>\n",
       "      <td>16.0</td>\n",
       "      <td>16.0</td>\n",
       "    </tr>\n",
       "    <tr>\n",
       "      <td>4</td>\n",
       "      <td>1895179</td>\n",
       "      <td>Dharam, Naresh</td>\n",
       "      <td>55</td>\n",
       "      <td>16.0</td>\n",
       "      <td>5.0</td>\n",
       "      <td>38.0</td>\n",
       "    </tr>\n",
       "  </tbody>\n",
       "</table>\n",
       "</div>"
      ],
      "text/plain": [
       "        ID                            Name  Grades  ConsultationsD1  \\\n",
       "0  1913357                    Behal, Harry      90             13.0   \n",
       "1  1899502           Chugh, Gursahib Singh      67              7.0   \n",
       "2  1895342  Davinder Singh, Davinder Singh      70             28.0   \n",
       "3  1913546          Devarapu, Mary Keerthi      60              7.0   \n",
       "4  1895179                  Dharam, Naresh      55             16.0   \n",
       "\n",
       "   ConsultationsD2  Hrabsence  \n",
       "0             12.0        NaN  \n",
       "1              6.0       22.0  \n",
       "2             14.0       12.0  \n",
       "3             16.0       16.0  \n",
       "4              5.0       38.0  "
      ]
     },
     "execution_count": 5,
     "metadata": {},
     "output_type": "execute_result"
    }
   ],
   "source": [
    "record = pd.read_csv('studentgrade.csv')\n",
    "\n",
    "record.head()"
   ]
  },
  {
   "cell_type": "markdown",
   "metadata": {},
   "source": [
    "# Describing the pandas data frame of student record, to find count, mean and other values"
   ]
  },
  {
   "cell_type": "code",
   "execution_count": 6,
   "metadata": {},
   "outputs": [
    {
     "data": {
      "text/html": [
       "<div>\n",
       "<style scoped>\n",
       "    .dataframe tbody tr th:only-of-type {\n",
       "        vertical-align: middle;\n",
       "    }\n",
       "\n",
       "    .dataframe tbody tr th {\n",
       "        vertical-align: top;\n",
       "    }\n",
       "\n",
       "    .dataframe thead th {\n",
       "        text-align: right;\n",
       "    }\n",
       "</style>\n",
       "<table border=\"1\" class=\"dataframe\">\n",
       "  <thead>\n",
       "    <tr style=\"text-align: right;\">\n",
       "      <th></th>\n",
       "      <th>ID</th>\n",
       "      <th>Grades</th>\n",
       "      <th>ConsultationsD1</th>\n",
       "      <th>ConsultationsD2</th>\n",
       "      <th>Hrabsence</th>\n",
       "    </tr>\n",
       "  </thead>\n",
       "  <tbody>\n",
       "    <tr>\n",
       "      <td>count</td>\n",
       "      <td>3.400000e+01</td>\n",
       "      <td>34.000000</td>\n",
       "      <td>33.000000</td>\n",
       "      <td>32.000000</td>\n",
       "      <td>31.000000</td>\n",
       "    </tr>\n",
       "    <tr>\n",
       "      <td>mean</td>\n",
       "      <td>1.909819e+06</td>\n",
       "      <td>58.470588</td>\n",
       "      <td>9.454545</td>\n",
       "      <td>10.781250</td>\n",
       "      <td>21.046774</td>\n",
       "    </tr>\n",
       "    <tr>\n",
       "      <td>std</td>\n",
       "      <td>7.240526e+03</td>\n",
       "      <td>24.096064</td>\n",
       "      <td>6.694638</td>\n",
       "      <td>5.933689</td>\n",
       "      <td>13.605801</td>\n",
       "    </tr>\n",
       "    <tr>\n",
       "      <td>min</td>\n",
       "      <td>1.895123e+06</td>\n",
       "      <td>0.000000</td>\n",
       "      <td>1.000000</td>\n",
       "      <td>1.000000</td>\n",
       "      <td>4.000000</td>\n",
       "    </tr>\n",
       "    <tr>\n",
       "      <td>25%</td>\n",
       "      <td>1.913046e+06</td>\n",
       "      <td>48.250000</td>\n",
       "      <td>6.000000</td>\n",
       "      <td>6.000000</td>\n",
       "      <td>12.000000</td>\n",
       "    </tr>\n",
       "    <tr>\n",
       "      <td>50%</td>\n",
       "      <td>1.913451e+06</td>\n",
       "      <td>65.500000</td>\n",
       "      <td>9.000000</td>\n",
       "      <td>9.000000</td>\n",
       "      <td>20.000000</td>\n",
       "    </tr>\n",
       "    <tr>\n",
       "      <td>75%</td>\n",
       "      <td>1.913574e+06</td>\n",
       "      <td>74.750000</td>\n",
       "      <td>12.000000</td>\n",
       "      <td>16.000000</td>\n",
       "      <td>30.000000</td>\n",
       "    </tr>\n",
       "    <tr>\n",
       "      <td>max</td>\n",
       "      <td>1.913599e+06</td>\n",
       "      <td>90.000000</td>\n",
       "      <td>28.000000</td>\n",
       "      <td>25.000000</td>\n",
       "      <td>56.000000</td>\n",
       "    </tr>\n",
       "  </tbody>\n",
       "</table>\n",
       "</div>"
      ],
      "text/plain": [
       "                 ID     Grades  ConsultationsD1  ConsultationsD2  Hrabsence\n",
       "count  3.400000e+01  34.000000        33.000000        32.000000  31.000000\n",
       "mean   1.909819e+06  58.470588         9.454545        10.781250  21.046774\n",
       "std    7.240526e+03  24.096064         6.694638         5.933689  13.605801\n",
       "min    1.895123e+06   0.000000         1.000000         1.000000   4.000000\n",
       "25%    1.913046e+06  48.250000         6.000000         6.000000  12.000000\n",
       "50%    1.913451e+06  65.500000         9.000000         9.000000  20.000000\n",
       "75%    1.913574e+06  74.750000        12.000000        16.000000  30.000000\n",
       "max    1.913599e+06  90.000000        28.000000        25.000000  56.000000"
      ]
     },
     "execution_count": 6,
     "metadata": {},
     "output_type": "execute_result"
    }
   ],
   "source": [
    "record.describe()"
   ]
  },
  {
   "cell_type": "markdown",
   "metadata": {},
   "source": [
    "# Getting the info of the dataset to see any missing value, datatype and number of columns"
   ]
  },
  {
   "cell_type": "code",
   "execution_count": 7,
   "metadata": {},
   "outputs": [
    {
     "name": "stdout",
     "output_type": "stream",
     "text": [
      "<class 'pandas.core.frame.DataFrame'>\n",
      "RangeIndex: 34 entries, 0 to 33\n",
      "Data columns (total 6 columns):\n",
      "ID                 34 non-null int64\n",
      "Name               34 non-null object\n",
      "Grades             34 non-null int64\n",
      "ConsultationsD1    33 non-null float64\n",
      "ConsultationsD2    32 non-null float64\n",
      "Hrabsence          31 non-null float64\n",
      "dtypes: float64(3), int64(2), object(1)\n",
      "memory usage: 1.7+ KB\n"
     ]
    }
   ],
   "source": [
    "record.info()"
   ]
  },
  {
   "cell_type": "markdown",
   "metadata": {},
   "source": [
    "# To count number of missing values also some time you find values like isnull()\n",
    "# from the below we see ConsultationsD1, ConsultationsD2 missing 1 and 2 values and Hrabsence missing 3 values"
   ]
  },
  {
   "cell_type": "code",
   "execution_count": 8,
   "metadata": {},
   "outputs": [
    {
     "data": {
      "text/plain": [
       "ID                 0\n",
       "Name               0\n",
       "Grades             0\n",
       "ConsultationsD1    1\n",
       "ConsultationsD2    2\n",
       "Hrabsence          3\n",
       "dtype: int64"
      ]
     },
     "execution_count": 8,
     "metadata": {},
     "output_type": "execute_result"
    }
   ],
   "source": [
    "record.isna().sum()"
   ]
  },
  {
   "cell_type": "code",
   "execution_count": 9,
   "metadata": {},
   "outputs": [
    {
     "data": {
      "text/plain": [
       "ID                   int64\n",
       "Name                object\n",
       "Grades               int64\n",
       "ConsultationsD1    float64\n",
       "ConsultationsD2    float64\n",
       "Hrabsence          float64\n",
       "dtype: object"
      ]
     },
     "execution_count": 9,
     "metadata": {},
     "output_type": "execute_result"
    }
   ],
   "source": [
    "record.dtypes"
   ]
  },
  {
   "cell_type": "markdown",
   "metadata": {},
   "source": [
    "# using unique() we can find the unique values in specific columns or dataframe which will be easy way to identify the null values"
   ]
  },
  {
   "cell_type": "code",
   "execution_count": 10,
   "metadata": {},
   "outputs": [
    {
     "data": {
      "text/plain": [
       "array([  nan, 22.  , 12.  , 16.  , 38.  ,  8.  , 20.  , 14.  , 32.  ,\n",
       "       17.45, 30.  ,  4.  , 56.  ,  6.  , 13.  , 26.  ])"
      ]
     },
     "execution_count": 10,
     "metadata": {},
     "output_type": "execute_result"
    }
   ],
   "source": [
    "record.Hrabsence.unique()"
   ]
  },
  {
   "cell_type": "markdown",
   "metadata": {},
   "source": [
    "# Here we replace null values or missig value with mean value()"
   ]
  },
  {
   "cell_type": "code",
   "execution_count": 11,
   "metadata": {},
   "outputs": [],
   "source": [
    "record.Hrabsence.fillna(round(record.Hrabsence.mean()), inplace=True)"
   ]
  },
  {
   "cell_type": "code",
   "execution_count": 12,
   "metadata": {},
   "outputs": [
    {
     "name": "stdout",
     "output_type": "stream",
     "text": [
      "<class 'pandas.core.frame.DataFrame'>\n",
      "RangeIndex: 34 entries, 0 to 33\n",
      "Data columns (total 6 columns):\n",
      "ID                 34 non-null int64\n",
      "Name               34 non-null object\n",
      "Grades             34 non-null int64\n",
      "ConsultationsD1    33 non-null float64\n",
      "ConsultationsD2    32 non-null float64\n",
      "Hrabsence          34 non-null float64\n",
      "dtypes: float64(3), int64(2), object(1)\n",
      "memory usage: 1.7+ KB\n"
     ]
    }
   ],
   "source": [
    "record.info()"
   ]
  },
  {
   "cell_type": "code",
   "execution_count": 13,
   "metadata": {},
   "outputs": [
    {
     "data": {
      "text/plain": [
       "ID                   int64\n",
       "Name                object\n",
       "Grades               int64\n",
       "ConsultationsD1    float64\n",
       "ConsultationsD2    float64\n",
       "Hrabsence          float64\n",
       "dtype: object"
      ]
     },
     "execution_count": 13,
     "metadata": {},
     "output_type": "execute_result"
    }
   ],
   "source": [
    "record.dtypes"
   ]
  },
  {
   "cell_type": "code",
   "execution_count": 14,
   "metadata": {},
   "outputs": [
    {
     "data": {
      "text/plain": [
       "array([21.  , 22.  , 12.  , 16.  , 38.  ,  8.  , 20.  , 14.  , 32.  ,\n",
       "       17.45, 30.  ,  4.  , 56.  ,  6.  , 13.  , 26.  ])"
      ]
     },
     "execution_count": 14,
     "metadata": {},
     "output_type": "execute_result"
    }
   ],
   "source": [
    "record.Hrabsence.unique()"
   ]
  },
  {
   "cell_type": "code",
   "execution_count": 15,
   "metadata": {},
   "outputs": [
    {
     "data": {
      "text/plain": [
       "array([13.,  7., 28., 16.,  8., 10.,  6., 12.,  1.,  9.,  2., 25., 11.,\n",
       "        4., 24., nan])"
      ]
     },
     "execution_count": 15,
     "metadata": {},
     "output_type": "execute_result"
    }
   ],
   "source": [
    "# checking unique values for Consultations values\n",
    "\n",
    "record.ConsultationsD1.unique()"
   ]
  },
  {
   "cell_type": "code",
   "execution_count": 16,
   "metadata": {},
   "outputs": [],
   "source": [
    "# Replacing nan value with mean \n",
    "record.ConsultationsD1.fillna(round(record.ConsultationsD1.mean()), inplace=True)"
   ]
  },
  {
   "cell_type": "code",
   "execution_count": 17,
   "metadata": {},
   "outputs": [
    {
     "data": {
      "text/plain": [
       "array([13.,  7., 28., 16.,  8., 10.,  6., 12.,  1.,  9.,  2., 25., 11.,\n",
       "        4., 24.])"
      ]
     },
     "execution_count": 17,
     "metadata": {},
     "output_type": "execute_result"
    }
   ],
   "source": [
    "# check the replace nan value with new mean value\n",
    "\n",
    "record.ConsultationsD1.unique()"
   ]
  },
  {
   "cell_type": "code",
   "execution_count": 18,
   "metadata": {},
   "outputs": [
    {
     "name": "stdout",
     "output_type": "stream",
     "text": [
      "<class 'pandas.core.frame.DataFrame'>\n",
      "RangeIndex: 34 entries, 0 to 33\n",
      "Data columns (total 6 columns):\n",
      "ID                 34 non-null int64\n",
      "Name               34 non-null object\n",
      "Grades             34 non-null int64\n",
      "ConsultationsD1    34 non-null float64\n",
      "ConsultationsD2    32 non-null float64\n",
      "Hrabsence          34 non-null float64\n",
      "dtypes: float64(3), int64(2), object(1)\n",
      "memory usage: 1.7+ KB\n"
     ]
    }
   ],
   "source": [
    "record.info()"
   ]
  },
  {
   "cell_type": "code",
   "execution_count": 19,
   "metadata": {},
   "outputs": [
    {
     "data": {
      "text/plain": [
       "array([12.,  6., 14., 16.,  5.,  9.,  8., 13.,  1.,  7., 17., 25., 19.,\n",
       "       nan, 24., 10.])"
      ]
     },
     "execution_count": 19,
     "metadata": {},
     "output_type": "execute_result"
    }
   ],
   "source": [
    "record.ConsultationsD2.unique()"
   ]
  },
  {
   "cell_type": "code",
   "execution_count": 20,
   "metadata": {},
   "outputs": [],
   "source": [
    "# Replacing nan value with mean\n",
    "record.ConsultationsD2.fillna(round(record.ConsultationsD2.mean()), inplace=True)"
   ]
  },
  {
   "cell_type": "code",
   "execution_count": 21,
   "metadata": {},
   "outputs": [
    {
     "data": {
      "text/plain": [
       "array([12.,  6., 14., 16.,  5.,  9.,  8., 13.,  1.,  7., 17., 25., 19.,\n",
       "       11., 24., 10.])"
      ]
     },
     "execution_count": 21,
     "metadata": {},
     "output_type": "execute_result"
    }
   ],
   "source": [
    "record.ConsultationsD2.unique()\n"
   ]
  },
  {
   "cell_type": "code",
   "execution_count": 22,
   "metadata": {},
   "outputs": [
    {
     "name": "stdout",
     "output_type": "stream",
     "text": [
      "<class 'pandas.core.frame.DataFrame'>\n",
      "RangeIndex: 34 entries, 0 to 33\n",
      "Data columns (total 6 columns):\n",
      "ID                 34 non-null int64\n",
      "Name               34 non-null object\n",
      "Grades             34 non-null int64\n",
      "ConsultationsD1    34 non-null float64\n",
      "ConsultationsD2    34 non-null float64\n",
      "Hrabsence          34 non-null float64\n",
      "dtypes: float64(3), int64(2), object(1)\n",
      "memory usage: 1.7+ KB\n"
     ]
    }
   ],
   "source": [
    "record.info()"
   ]
  },
  {
   "cell_type": "code",
   "execution_count": 23,
   "metadata": {},
   "outputs": [
    {
     "data": {
      "text/html": [
       "<div>\n",
       "<style scoped>\n",
       "    .dataframe tbody tr th:only-of-type {\n",
       "        vertical-align: middle;\n",
       "    }\n",
       "\n",
       "    .dataframe tbody tr th {\n",
       "        vertical-align: top;\n",
       "    }\n",
       "\n",
       "    .dataframe thead th {\n",
       "        text-align: right;\n",
       "    }\n",
       "</style>\n",
       "<table border=\"1\" class=\"dataframe\">\n",
       "  <thead>\n",
       "    <tr style=\"text-align: right;\">\n",
       "      <th></th>\n",
       "      <th>ID</th>\n",
       "      <th>Name</th>\n",
       "      <th>Grades</th>\n",
       "      <th>ConsultationsD1</th>\n",
       "      <th>ConsultationsD2</th>\n",
       "      <th>Hrabsence</th>\n",
       "    </tr>\n",
       "  </thead>\n",
       "  <tbody>\n",
       "    <tr>\n",
       "      <td>10</td>\n",
       "      <td>1913598</td>\n",
       "      <td>Gurwinder Singh, Gurwinder Singh</td>\n",
       "      <td>15</td>\n",
       "      <td>1.0</td>\n",
       "      <td>1.0</td>\n",
       "      <td>32.0</td>\n",
       "    </tr>\n",
       "    <tr>\n",
       "      <td>17</td>\n",
       "      <td>1913406</td>\n",
       "      <td>Mankaranjeet Kaur, Mankaranjeet Kaur</td>\n",
       "      <td>0</td>\n",
       "      <td>1.0</td>\n",
       "      <td>1.0</td>\n",
       "      <td>56.0</td>\n",
       "    </tr>\n",
       "  </tbody>\n",
       "</table>\n",
       "</div>"
      ],
      "text/plain": [
       "         ID                                  Name  Grades  ConsultationsD1  \\\n",
       "10  1913598      Gurwinder Singh, Gurwinder Singh      15              1.0   \n",
       "17  1913406  Mankaranjeet Kaur, Mankaranjeet Kaur       0              1.0   \n",
       "\n",
       "    ConsultationsD2  Hrabsence  \n",
       "10              1.0       32.0  \n",
       "17              1.0       56.0  "
      ]
     },
     "execution_count": 23,
     "metadata": {},
     "output_type": "execute_result"
    }
   ],
   "source": [
    "record.loc[(record.ConsultationsD2 < 5)]"
   ]
  },
  {
   "cell_type": "code",
   "execution_count": 24,
   "metadata": {},
   "outputs": [
    {
     "data": {
      "text/plain": [
       "0     90\n",
       "1     67\n",
       "2     70\n",
       "3     60\n",
       "4     55\n",
       "5     65\n",
       "6     64\n",
       "7     79\n",
       "8     70\n",
       "9     63\n",
       "10    15\n",
       "11    60\n",
       "12    46\n",
       "13    66\n",
       "14    79\n",
       "15    74\n",
       "16    82\n",
       "17     0\n",
       "18    77\n",
       "19    78\n",
       "20    74\n",
       "21    76\n",
       "22    71\n",
       "23    27\n",
       "24    75\n",
       "25    26\n",
       "26    88\n",
       "27    31\n",
       "28    60\n",
       "29    41\n",
       "30    23\n",
       "31     0\n",
       "32    71\n",
       "33    65\n",
       "Name: Grades, dtype: int64"
      ]
     },
     "execution_count": 24,
     "metadata": {},
     "output_type": "execute_result"
    }
   ],
   "source": [
    "record.Grades"
   ]
  },
  {
   "cell_type": "code",
   "execution_count": 25,
   "metadata": {},
   "outputs": [
    {
     "data": {
      "text/html": [
       "<div>\n",
       "<style scoped>\n",
       "    .dataframe tbody tr th:only-of-type {\n",
       "        vertical-align: middle;\n",
       "    }\n",
       "\n",
       "    .dataframe tbody tr th {\n",
       "        vertical-align: top;\n",
       "    }\n",
       "\n",
       "    .dataframe thead th {\n",
       "        text-align: right;\n",
       "    }\n",
       "</style>\n",
       "<table border=\"1\" class=\"dataframe\">\n",
       "  <thead>\n",
       "    <tr style=\"text-align: right;\">\n",
       "      <th></th>\n",
       "      <th>ID</th>\n",
       "      <th>Name</th>\n",
       "      <th>Grades</th>\n",
       "      <th>ConsultationsD1</th>\n",
       "      <th>ConsultationsD2</th>\n",
       "      <th>Hrabsence</th>\n",
       "    </tr>\n",
       "  </thead>\n",
       "  <tbody>\n",
       "    <tr>\n",
       "      <td>17</td>\n",
       "      <td>1913406</td>\n",
       "      <td>Mankaranjeet Kaur, Mankaranjeet Kaur</td>\n",
       "      <td>0</td>\n",
       "      <td>1.0</td>\n",
       "      <td>1.0</td>\n",
       "      <td>56.0</td>\n",
       "    </tr>\n",
       "    <tr>\n",
       "      <td>31</td>\n",
       "      <td>1913099</td>\n",
       "      <td>Simerjeet Kaur, Simerjeet Kaur</td>\n",
       "      <td>0</td>\n",
       "      <td>9.0</td>\n",
       "      <td>11.0</td>\n",
       "      <td>56.0</td>\n",
       "    </tr>\n",
       "  </tbody>\n",
       "</table>\n",
       "</div>"
      ],
      "text/plain": [
       "         ID                                  Name  Grades  ConsultationsD1  \\\n",
       "17  1913406  Mankaranjeet Kaur, Mankaranjeet Kaur       0              1.0   \n",
       "31  1913099        Simerjeet Kaur, Simerjeet Kaur       0              9.0   \n",
       "\n",
       "    ConsultationsD2  Hrabsence  \n",
       "17              1.0       56.0  \n",
       "31             11.0       56.0  "
      ]
     },
     "execution_count": 25,
     "metadata": {},
     "output_type": "execute_result"
    }
   ],
   "source": [
    "record.loc[(record.Grades == 0)]"
   ]
  },
  {
   "cell_type": "markdown",
   "metadata": {},
   "source": [
    "# Convering the Students Grades into catagorical variables with new column Finalgrades\n",
    "\n",
    "# Grades grater then equal 60 and less then equal to 100 pass\n",
    "# Grades greater then equal 50 and less than equal to 59 Re-take\n",
    "# Grades greater then equal to 0 and less then equal to 49 re-do"
   ]
  },
  {
   "cell_type": "markdown",
   "metadata": {},
   "source": [
    "# Creating new column with Finalgrades and allowing to enter null value as na"
   ]
  },
  {
   "cell_type": "code",
   "execution_count": 26,
   "metadata": {},
   "outputs": [],
   "source": [
    "record['Finalgrades'] = 'na'"
   ]
  },
  {
   "cell_type": "code",
   "execution_count": 27,
   "metadata": {},
   "outputs": [
    {
     "data": {
      "text/html": [
       "<div>\n",
       "<style scoped>\n",
       "    .dataframe tbody tr th:only-of-type {\n",
       "        vertical-align: middle;\n",
       "    }\n",
       "\n",
       "    .dataframe tbody tr th {\n",
       "        vertical-align: top;\n",
       "    }\n",
       "\n",
       "    .dataframe thead th {\n",
       "        text-align: right;\n",
       "    }\n",
       "</style>\n",
       "<table border=\"1\" class=\"dataframe\">\n",
       "  <thead>\n",
       "    <tr style=\"text-align: right;\">\n",
       "      <th></th>\n",
       "      <th>ID</th>\n",
       "      <th>Name</th>\n",
       "      <th>Grades</th>\n",
       "      <th>ConsultationsD1</th>\n",
       "      <th>ConsultationsD2</th>\n",
       "      <th>Hrabsence</th>\n",
       "      <th>Finalgrades</th>\n",
       "    </tr>\n",
       "  </thead>\n",
       "  <tbody>\n",
       "    <tr>\n",
       "      <td>0</td>\n",
       "      <td>1913357</td>\n",
       "      <td>Behal, Harry</td>\n",
       "      <td>90</td>\n",
       "      <td>13.0</td>\n",
       "      <td>12.0</td>\n",
       "      <td>21.0</td>\n",
       "      <td>na</td>\n",
       "    </tr>\n",
       "    <tr>\n",
       "      <td>1</td>\n",
       "      <td>1899502</td>\n",
       "      <td>Chugh, Gursahib Singh</td>\n",
       "      <td>67</td>\n",
       "      <td>7.0</td>\n",
       "      <td>6.0</td>\n",
       "      <td>22.0</td>\n",
       "      <td>na</td>\n",
       "    </tr>\n",
       "    <tr>\n",
       "      <td>2</td>\n",
       "      <td>1895342</td>\n",
       "      <td>Davinder Singh, Davinder Singh</td>\n",
       "      <td>70</td>\n",
       "      <td>28.0</td>\n",
       "      <td>14.0</td>\n",
       "      <td>12.0</td>\n",
       "      <td>na</td>\n",
       "    </tr>\n",
       "    <tr>\n",
       "      <td>3</td>\n",
       "      <td>1913546</td>\n",
       "      <td>Devarapu, Mary Keerthi</td>\n",
       "      <td>60</td>\n",
       "      <td>7.0</td>\n",
       "      <td>16.0</td>\n",
       "      <td>16.0</td>\n",
       "      <td>na</td>\n",
       "    </tr>\n",
       "    <tr>\n",
       "      <td>4</td>\n",
       "      <td>1895179</td>\n",
       "      <td>Dharam, Naresh</td>\n",
       "      <td>55</td>\n",
       "      <td>16.0</td>\n",
       "      <td>5.0</td>\n",
       "      <td>38.0</td>\n",
       "      <td>na</td>\n",
       "    </tr>\n",
       "  </tbody>\n",
       "</table>\n",
       "</div>"
      ],
      "text/plain": [
       "        ID                            Name  Grades  ConsultationsD1  \\\n",
       "0  1913357                    Behal, Harry      90             13.0   \n",
       "1  1899502           Chugh, Gursahib Singh      67              7.0   \n",
       "2  1895342  Davinder Singh, Davinder Singh      70             28.0   \n",
       "3  1913546          Devarapu, Mary Keerthi      60              7.0   \n",
       "4  1895179                  Dharam, Naresh      55             16.0   \n",
       "\n",
       "   ConsultationsD2  Hrabsence Finalgrades  \n",
       "0             12.0       21.0          na  \n",
       "1              6.0       22.0          na  \n",
       "2             14.0       12.0          na  \n",
       "3             16.0       16.0          na  \n",
       "4              5.0       38.0          na  "
      ]
     },
     "execution_count": 27,
     "metadata": {},
     "output_type": "execute_result"
    }
   ],
   "source": [
    "record.head()"
   ]
  },
  {
   "cell_type": "code",
   "execution_count": 28,
   "metadata": {},
   "outputs": [],
   "source": [
    "# Making grades into categorial variables, finalgrades\n",
    "record.loc[(record.Grades >= 60 ) & (record.Grades <= 100), 'Finalgrades'] = 'Pass'"
   ]
  },
  {
   "cell_type": "code",
   "execution_count": 29,
   "metadata": {},
   "outputs": [
    {
     "data": {
      "text/plain": [
       "ID                   int64\n",
       "Name                object\n",
       "Grades               int64\n",
       "ConsultationsD1    float64\n",
       "ConsultationsD2    float64\n",
       "Hrabsence          float64\n",
       "Finalgrades         object\n",
       "dtype: object"
      ]
     },
     "execution_count": 29,
     "metadata": {},
     "output_type": "execute_result"
    }
   ],
   "source": [
    "record.dtypes"
   ]
  },
  {
   "cell_type": "code",
   "execution_count": 30,
   "metadata": {},
   "outputs": [
    {
     "data": {
      "text/html": [
       "<div>\n",
       "<style scoped>\n",
       "    .dataframe tbody tr th:only-of-type {\n",
       "        vertical-align: middle;\n",
       "    }\n",
       "\n",
       "    .dataframe tbody tr th {\n",
       "        vertical-align: top;\n",
       "    }\n",
       "\n",
       "    .dataframe thead th {\n",
       "        text-align: right;\n",
       "    }\n",
       "</style>\n",
       "<table border=\"1\" class=\"dataframe\">\n",
       "  <thead>\n",
       "    <tr style=\"text-align: right;\">\n",
       "      <th></th>\n",
       "      <th>ID</th>\n",
       "      <th>Name</th>\n",
       "      <th>Grades</th>\n",
       "      <th>ConsultationsD1</th>\n",
       "      <th>ConsultationsD2</th>\n",
       "      <th>Hrabsence</th>\n",
       "      <th>Finalgrades</th>\n",
       "    </tr>\n",
       "  </thead>\n",
       "  <tbody>\n",
       "    <tr>\n",
       "      <td>4</td>\n",
       "      <td>1895179</td>\n",
       "      <td>Dharam, Naresh</td>\n",
       "      <td>55</td>\n",
       "      <td>16.0</td>\n",
       "      <td>5.0</td>\n",
       "      <td>38.0</td>\n",
       "      <td>na</td>\n",
       "    </tr>\n",
       "    <tr>\n",
       "      <td>10</td>\n",
       "      <td>1913598</td>\n",
       "      <td>Gurwinder Singh, Gurwinder Singh</td>\n",
       "      <td>15</td>\n",
       "      <td>1.0</td>\n",
       "      <td>1.0</td>\n",
       "      <td>32.0</td>\n",
       "      <td>na</td>\n",
       "    </tr>\n",
       "    <tr>\n",
       "      <td>12</td>\n",
       "      <td>1913581</td>\n",
       "      <td>Inderpreet Singh, Inderpreet Singh</td>\n",
       "      <td>46</td>\n",
       "      <td>9.0</td>\n",
       "      <td>6.0</td>\n",
       "      <td>12.0</td>\n",
       "      <td>na</td>\n",
       "    </tr>\n",
       "    <tr>\n",
       "      <td>17</td>\n",
       "      <td>1913406</td>\n",
       "      <td>Mankaranjeet Kaur, Mankaranjeet Kaur</td>\n",
       "      <td>0</td>\n",
       "      <td>1.0</td>\n",
       "      <td>1.0</td>\n",
       "      <td>56.0</td>\n",
       "      <td>na</td>\n",
       "    </tr>\n",
       "    <tr>\n",
       "      <td>23</td>\n",
       "      <td>1913599</td>\n",
       "      <td>Patel, Laxit Maheshbhai</td>\n",
       "      <td>27</td>\n",
       "      <td>6.0</td>\n",
       "      <td>6.0</td>\n",
       "      <td>38.0</td>\n",
       "      <td>na</td>\n",
       "    </tr>\n",
       "    <tr>\n",
       "      <td>25</td>\n",
       "      <td>1913543</td>\n",
       "      <td>Patel, Utsav Mukeshkumar</td>\n",
       "      <td>26</td>\n",
       "      <td>9.0</td>\n",
       "      <td>5.0</td>\n",
       "      <td>30.0</td>\n",
       "      <td>na</td>\n",
       "    </tr>\n",
       "    <tr>\n",
       "      <td>27</td>\n",
       "      <td>1913589</td>\n",
       "      <td>Sandhu, Anmolpreet Kaur</td>\n",
       "      <td>31</td>\n",
       "      <td>1.0</td>\n",
       "      <td>11.0</td>\n",
       "      <td>30.0</td>\n",
       "      <td>na</td>\n",
       "    </tr>\n",
       "    <tr>\n",
       "      <td>29</td>\n",
       "      <td>1913454</td>\n",
       "      <td>Shabadpreet Kaur, Shabadpreet Kaur</td>\n",
       "      <td>41</td>\n",
       "      <td>24.0</td>\n",
       "      <td>24.0</td>\n",
       "      <td>20.0</td>\n",
       "      <td>na</td>\n",
       "    </tr>\n",
       "    <tr>\n",
       "      <td>30</td>\n",
       "      <td>1913591</td>\n",
       "      <td>Shah, Raj Jitenbhai</td>\n",
       "      <td>23</td>\n",
       "      <td>10.0</td>\n",
       "      <td>10.0</td>\n",
       "      <td>30.0</td>\n",
       "      <td>na</td>\n",
       "    </tr>\n",
       "    <tr>\n",
       "      <td>31</td>\n",
       "      <td>1913099</td>\n",
       "      <td>Simerjeet Kaur, Simerjeet Kaur</td>\n",
       "      <td>0</td>\n",
       "      <td>9.0</td>\n",
       "      <td>11.0</td>\n",
       "      <td>56.0</td>\n",
       "      <td>na</td>\n",
       "    </tr>\n",
       "  </tbody>\n",
       "</table>\n",
       "</div>"
      ],
      "text/plain": [
       "         ID                                  Name  Grades  ConsultationsD1  \\\n",
       "4   1895179                        Dharam, Naresh      55             16.0   \n",
       "10  1913598      Gurwinder Singh, Gurwinder Singh      15              1.0   \n",
       "12  1913581    Inderpreet Singh, Inderpreet Singh      46              9.0   \n",
       "17  1913406  Mankaranjeet Kaur, Mankaranjeet Kaur       0              1.0   \n",
       "23  1913599               Patel, Laxit Maheshbhai      27              6.0   \n",
       "25  1913543              Patel, Utsav Mukeshkumar      26              9.0   \n",
       "27  1913589               Sandhu, Anmolpreet Kaur      31              1.0   \n",
       "29  1913454    Shabadpreet Kaur, Shabadpreet Kaur      41             24.0   \n",
       "30  1913591                   Shah, Raj Jitenbhai      23             10.0   \n",
       "31  1913099        Simerjeet Kaur, Simerjeet Kaur       0              9.0   \n",
       "\n",
       "    ConsultationsD2  Hrabsence Finalgrades  \n",
       "4               5.0       38.0          na  \n",
       "10              1.0       32.0          na  \n",
       "12              6.0       12.0          na  \n",
       "17              1.0       56.0          na  \n",
       "23              6.0       38.0          na  \n",
       "25              5.0       30.0          na  \n",
       "27             11.0       30.0          na  \n",
       "29             24.0       20.0          na  \n",
       "30             10.0       30.0          na  \n",
       "31             11.0       56.0          na  "
      ]
     },
     "execution_count": 30,
     "metadata": {},
     "output_type": "execute_result"
    }
   ],
   "source": [
    "record.loc[(record.Grades < 60)]"
   ]
  },
  {
   "cell_type": "code",
   "execution_count": 31,
   "metadata": {},
   "outputs": [],
   "source": [
    "# Making grades into categorial variables, finalgrades\n",
    "record.loc[(record.Grades >= 50 ) & (record.Grades <= 59), 'Finalgrades'] = 'Retake'"
   ]
  },
  {
   "cell_type": "code",
   "execution_count": 32,
   "metadata": {},
   "outputs": [
    {
     "data": {
      "text/html": [
       "<div>\n",
       "<style scoped>\n",
       "    .dataframe tbody tr th:only-of-type {\n",
       "        vertical-align: middle;\n",
       "    }\n",
       "\n",
       "    .dataframe tbody tr th {\n",
       "        vertical-align: top;\n",
       "    }\n",
       "\n",
       "    .dataframe thead th {\n",
       "        text-align: right;\n",
       "    }\n",
       "</style>\n",
       "<table border=\"1\" class=\"dataframe\">\n",
       "  <thead>\n",
       "    <tr style=\"text-align: right;\">\n",
       "      <th></th>\n",
       "      <th>ID</th>\n",
       "      <th>Name</th>\n",
       "      <th>Grades</th>\n",
       "      <th>ConsultationsD1</th>\n",
       "      <th>ConsultationsD2</th>\n",
       "      <th>Hrabsence</th>\n",
       "      <th>Finalgrades</th>\n",
       "    </tr>\n",
       "  </thead>\n",
       "  <tbody>\n",
       "    <tr>\n",
       "      <td>4</td>\n",
       "      <td>1895179</td>\n",
       "      <td>Dharam, Naresh</td>\n",
       "      <td>55</td>\n",
       "      <td>16.0</td>\n",
       "      <td>5.0</td>\n",
       "      <td>38.0</td>\n",
       "      <td>Retake</td>\n",
       "    </tr>\n",
       "  </tbody>\n",
       "</table>\n",
       "</div>"
      ],
      "text/plain": [
       "        ID            Name  Grades  ConsultationsD1  ConsultationsD2  \\\n",
       "4  1895179  Dharam, Naresh      55             16.0              5.0   \n",
       "\n",
       "   Hrabsence Finalgrades  \n",
       "4       38.0      Retake  "
      ]
     },
     "execution_count": 32,
     "metadata": {},
     "output_type": "execute_result"
    }
   ],
   "source": [
    "record.loc[(record.Grades >=50 ) & (record.Grades <= 59)]"
   ]
  },
  {
   "cell_type": "code",
   "execution_count": 33,
   "metadata": {},
   "outputs": [],
   "source": [
    "# Making grades into categorial variables, finalgrades\n",
    "record.loc[(record.Grades >= 0 ) & (record.Grades <= 49), 'Finalgrades'] = 'Redo'"
   ]
  },
  {
   "cell_type": "code",
   "execution_count": 34,
   "metadata": {},
   "outputs": [
    {
     "data": {
      "text/html": [
       "<div>\n",
       "<style scoped>\n",
       "    .dataframe tbody tr th:only-of-type {\n",
       "        vertical-align: middle;\n",
       "    }\n",
       "\n",
       "    .dataframe tbody tr th {\n",
       "        vertical-align: top;\n",
       "    }\n",
       "\n",
       "    .dataframe thead th {\n",
       "        text-align: right;\n",
       "    }\n",
       "</style>\n",
       "<table border=\"1\" class=\"dataframe\">\n",
       "  <thead>\n",
       "    <tr style=\"text-align: right;\">\n",
       "      <th></th>\n",
       "      <th>ID</th>\n",
       "      <th>Name</th>\n",
       "      <th>Grades</th>\n",
       "      <th>ConsultationsD1</th>\n",
       "      <th>ConsultationsD2</th>\n",
       "      <th>Hrabsence</th>\n",
       "      <th>Finalgrades</th>\n",
       "    </tr>\n",
       "  </thead>\n",
       "  <tbody>\n",
       "    <tr>\n",
       "      <td>10</td>\n",
       "      <td>1913598</td>\n",
       "      <td>Gurwinder Singh, Gurwinder Singh</td>\n",
       "      <td>15</td>\n",
       "      <td>1.0</td>\n",
       "      <td>1.0</td>\n",
       "      <td>32.0</td>\n",
       "      <td>Redo</td>\n",
       "    </tr>\n",
       "    <tr>\n",
       "      <td>12</td>\n",
       "      <td>1913581</td>\n",
       "      <td>Inderpreet Singh, Inderpreet Singh</td>\n",
       "      <td>46</td>\n",
       "      <td>9.0</td>\n",
       "      <td>6.0</td>\n",
       "      <td>12.0</td>\n",
       "      <td>Redo</td>\n",
       "    </tr>\n",
       "    <tr>\n",
       "      <td>17</td>\n",
       "      <td>1913406</td>\n",
       "      <td>Mankaranjeet Kaur, Mankaranjeet Kaur</td>\n",
       "      <td>0</td>\n",
       "      <td>1.0</td>\n",
       "      <td>1.0</td>\n",
       "      <td>56.0</td>\n",
       "      <td>Redo</td>\n",
       "    </tr>\n",
       "    <tr>\n",
       "      <td>23</td>\n",
       "      <td>1913599</td>\n",
       "      <td>Patel, Laxit Maheshbhai</td>\n",
       "      <td>27</td>\n",
       "      <td>6.0</td>\n",
       "      <td>6.0</td>\n",
       "      <td>38.0</td>\n",
       "      <td>Redo</td>\n",
       "    </tr>\n",
       "    <tr>\n",
       "      <td>25</td>\n",
       "      <td>1913543</td>\n",
       "      <td>Patel, Utsav Mukeshkumar</td>\n",
       "      <td>26</td>\n",
       "      <td>9.0</td>\n",
       "      <td>5.0</td>\n",
       "      <td>30.0</td>\n",
       "      <td>Redo</td>\n",
       "    </tr>\n",
       "    <tr>\n",
       "      <td>27</td>\n",
       "      <td>1913589</td>\n",
       "      <td>Sandhu, Anmolpreet Kaur</td>\n",
       "      <td>31</td>\n",
       "      <td>1.0</td>\n",
       "      <td>11.0</td>\n",
       "      <td>30.0</td>\n",
       "      <td>Redo</td>\n",
       "    </tr>\n",
       "    <tr>\n",
       "      <td>29</td>\n",
       "      <td>1913454</td>\n",
       "      <td>Shabadpreet Kaur, Shabadpreet Kaur</td>\n",
       "      <td>41</td>\n",
       "      <td>24.0</td>\n",
       "      <td>24.0</td>\n",
       "      <td>20.0</td>\n",
       "      <td>Redo</td>\n",
       "    </tr>\n",
       "    <tr>\n",
       "      <td>30</td>\n",
       "      <td>1913591</td>\n",
       "      <td>Shah, Raj Jitenbhai</td>\n",
       "      <td>23</td>\n",
       "      <td>10.0</td>\n",
       "      <td>10.0</td>\n",
       "      <td>30.0</td>\n",
       "      <td>Redo</td>\n",
       "    </tr>\n",
       "    <tr>\n",
       "      <td>31</td>\n",
       "      <td>1913099</td>\n",
       "      <td>Simerjeet Kaur, Simerjeet Kaur</td>\n",
       "      <td>0</td>\n",
       "      <td>9.0</td>\n",
       "      <td>11.0</td>\n",
       "      <td>56.0</td>\n",
       "      <td>Redo</td>\n",
       "    </tr>\n",
       "  </tbody>\n",
       "</table>\n",
       "</div>"
      ],
      "text/plain": [
       "         ID                                  Name  Grades  ConsultationsD1  \\\n",
       "10  1913598      Gurwinder Singh, Gurwinder Singh      15              1.0   \n",
       "12  1913581    Inderpreet Singh, Inderpreet Singh      46              9.0   \n",
       "17  1913406  Mankaranjeet Kaur, Mankaranjeet Kaur       0              1.0   \n",
       "23  1913599               Patel, Laxit Maheshbhai      27              6.0   \n",
       "25  1913543              Patel, Utsav Mukeshkumar      26              9.0   \n",
       "27  1913589               Sandhu, Anmolpreet Kaur      31              1.0   \n",
       "29  1913454    Shabadpreet Kaur, Shabadpreet Kaur      41             24.0   \n",
       "30  1913591                   Shah, Raj Jitenbhai      23             10.0   \n",
       "31  1913099        Simerjeet Kaur, Simerjeet Kaur       0              9.0   \n",
       "\n",
       "    ConsultationsD2  Hrabsence Finalgrades  \n",
       "10              1.0       32.0        Redo  \n",
       "12              6.0       12.0        Redo  \n",
       "17              1.0       56.0        Redo  \n",
       "23              6.0       38.0        Redo  \n",
       "25              5.0       30.0        Redo  \n",
       "27             11.0       30.0        Redo  \n",
       "29             24.0       20.0        Redo  \n",
       "30             10.0       30.0        Redo  \n",
       "31             11.0       56.0        Redo  "
      ]
     },
     "execution_count": 34,
     "metadata": {},
     "output_type": "execute_result"
    }
   ],
   "source": [
    "record.loc[(record.Grades >= 0) & (record.Grades <= 49)]"
   ]
  },
  {
   "cell_type": "code",
   "execution_count": 35,
   "metadata": {},
   "outputs": [
    {
     "data": {
      "text/plain": [
       "array([21.  , 22.  , 12.  , 16.  , 38.  ,  8.  , 20.  , 14.  , 32.  ,\n",
       "       17.45, 30.  ,  4.  , 56.  ,  6.  , 13.  , 26.  ])"
      ]
     },
     "execution_count": 35,
     "metadata": {},
     "output_type": "execute_result"
    }
   ],
   "source": [
    "record.Hrabsence.unique()"
   ]
  },
  {
   "cell_type": "code",
   "execution_count": 36,
   "metadata": {},
   "outputs": [],
   "source": [
    "record.Hrabsence.fillna(round(record.Hrabsence.mean()), inplace=True)"
   ]
  },
  {
   "cell_type": "code",
   "execution_count": 37,
   "metadata": {},
   "outputs": [
    {
     "data": {
      "text/plain": [
       "array([21.  , 22.  , 12.  , 16.  , 38.  ,  8.  , 20.  , 14.  , 32.  ,\n",
       "       17.45, 30.  ,  4.  , 56.  ,  6.  , 13.  , 26.  ])"
      ]
     },
     "execution_count": 37,
     "metadata": {},
     "output_type": "execute_result"
    }
   ],
   "source": [
    "record.Hrabsence.unique()"
   ]
  },
  {
   "cell_type": "markdown",
   "metadata": {},
   "source": [
    "# Data is prepared for the futher EDA and machine learning implementation"
   ]
  },
  {
   "cell_type": "code",
   "execution_count": 38,
   "metadata": {},
   "outputs": [
    {
     "data": {
      "text/html": [
       "<div>\n",
       "<style scoped>\n",
       "    .dataframe tbody tr th:only-of-type {\n",
       "        vertical-align: middle;\n",
       "    }\n",
       "\n",
       "    .dataframe tbody tr th {\n",
       "        vertical-align: top;\n",
       "    }\n",
       "\n",
       "    .dataframe thead th {\n",
       "        text-align: right;\n",
       "    }\n",
       "</style>\n",
       "<table border=\"1\" class=\"dataframe\">\n",
       "  <thead>\n",
       "    <tr style=\"text-align: right;\">\n",
       "      <th></th>\n",
       "      <th>ID</th>\n",
       "      <th>Name</th>\n",
       "      <th>Grades</th>\n",
       "      <th>ConsultationsD1</th>\n",
       "      <th>ConsultationsD2</th>\n",
       "      <th>Hrabsence</th>\n",
       "      <th>Finalgrades</th>\n",
       "    </tr>\n",
       "  </thead>\n",
       "  <tbody>\n",
       "    <tr>\n",
       "      <td>0</td>\n",
       "      <td>1913357</td>\n",
       "      <td>Behal, Harry</td>\n",
       "      <td>90</td>\n",
       "      <td>13.0</td>\n",
       "      <td>12.0</td>\n",
       "      <td>21.00</td>\n",
       "      <td>Pass</td>\n",
       "    </tr>\n",
       "    <tr>\n",
       "      <td>1</td>\n",
       "      <td>1899502</td>\n",
       "      <td>Chugh, Gursahib Singh</td>\n",
       "      <td>67</td>\n",
       "      <td>7.0</td>\n",
       "      <td>6.0</td>\n",
       "      <td>22.00</td>\n",
       "      <td>Pass</td>\n",
       "    </tr>\n",
       "    <tr>\n",
       "      <td>2</td>\n",
       "      <td>1895342</td>\n",
       "      <td>Davinder Singh, Davinder Singh</td>\n",
       "      <td>70</td>\n",
       "      <td>28.0</td>\n",
       "      <td>14.0</td>\n",
       "      <td>12.00</td>\n",
       "      <td>Pass</td>\n",
       "    </tr>\n",
       "    <tr>\n",
       "      <td>3</td>\n",
       "      <td>1913546</td>\n",
       "      <td>Devarapu, Mary Keerthi</td>\n",
       "      <td>60</td>\n",
       "      <td>7.0</td>\n",
       "      <td>16.0</td>\n",
       "      <td>16.00</td>\n",
       "      <td>Pass</td>\n",
       "    </tr>\n",
       "    <tr>\n",
       "      <td>4</td>\n",
       "      <td>1895179</td>\n",
       "      <td>Dharam, Naresh</td>\n",
       "      <td>55</td>\n",
       "      <td>16.0</td>\n",
       "      <td>5.0</td>\n",
       "      <td>38.00</td>\n",
       "      <td>Retake</td>\n",
       "    </tr>\n",
       "    <tr>\n",
       "      <td>5</td>\n",
       "      <td>1913302</td>\n",
       "      <td>Dilpreet Singh, Dilpreet Singh</td>\n",
       "      <td>65</td>\n",
       "      <td>8.0</td>\n",
       "      <td>6.0</td>\n",
       "      <td>8.00</td>\n",
       "      <td>Pass</td>\n",
       "    </tr>\n",
       "    <tr>\n",
       "      <td>6</td>\n",
       "      <td>1913573</td>\n",
       "      <td>Ekta, Ekta</td>\n",
       "      <td>64</td>\n",
       "      <td>10.0</td>\n",
       "      <td>9.0</td>\n",
       "      <td>20.00</td>\n",
       "      <td>Pass</td>\n",
       "    </tr>\n",
       "    <tr>\n",
       "      <td>7</td>\n",
       "      <td>1895244</td>\n",
       "      <td>Gill, Dilpreet Kaur</td>\n",
       "      <td>79</td>\n",
       "      <td>7.0</td>\n",
       "      <td>8.0</td>\n",
       "      <td>20.00</td>\n",
       "      <td>Pass</td>\n",
       "    </tr>\n",
       "    <tr>\n",
       "      <td>8</td>\n",
       "      <td>1913405</td>\n",
       "      <td>Gopu, Manisha</td>\n",
       "      <td>70</td>\n",
       "      <td>6.0</td>\n",
       "      <td>6.0</td>\n",
       "      <td>20.00</td>\n",
       "      <td>Pass</td>\n",
       "    </tr>\n",
       "    <tr>\n",
       "      <td>9</td>\n",
       "      <td>1913548</td>\n",
       "      <td>Gundeti, Gokul Reddy</td>\n",
       "      <td>63</td>\n",
       "      <td>12.0</td>\n",
       "      <td>13.0</td>\n",
       "      <td>14.00</td>\n",
       "      <td>Pass</td>\n",
       "    </tr>\n",
       "    <tr>\n",
       "      <td>10</td>\n",
       "      <td>1913598</td>\n",
       "      <td>Gurwinder Singh, Gurwinder Singh</td>\n",
       "      <td>15</td>\n",
       "      <td>1.0</td>\n",
       "      <td>1.0</td>\n",
       "      <td>32.00</td>\n",
       "      <td>Redo</td>\n",
       "    </tr>\n",
       "    <tr>\n",
       "      <td>11</td>\n",
       "      <td>1913507</td>\n",
       "      <td>Hamza, Ameer</td>\n",
       "      <td>60</td>\n",
       "      <td>1.0</td>\n",
       "      <td>7.0</td>\n",
       "      <td>17.45</td>\n",
       "      <td>Pass</td>\n",
       "    </tr>\n",
       "    <tr>\n",
       "      <td>12</td>\n",
       "      <td>1913581</td>\n",
       "      <td>Inderpreet Singh, Inderpreet Singh</td>\n",
       "      <td>46</td>\n",
       "      <td>9.0</td>\n",
       "      <td>6.0</td>\n",
       "      <td>12.00</td>\n",
       "      <td>Redo</td>\n",
       "    </tr>\n",
       "    <tr>\n",
       "      <td>13</td>\n",
       "      <td>1913575</td>\n",
       "      <td>Jobanjeet Singh, Jobanjeet Singh</td>\n",
       "      <td>66</td>\n",
       "      <td>2.0</td>\n",
       "      <td>17.0</td>\n",
       "      <td>30.00</td>\n",
       "      <td>Pass</td>\n",
       "    </tr>\n",
       "    <tr>\n",
       "      <td>14</td>\n",
       "      <td>1913031</td>\n",
       "      <td>Kosaraju, Kalyan</td>\n",
       "      <td>79</td>\n",
       "      <td>25.0</td>\n",
       "      <td>25.0</td>\n",
       "      <td>4.00</td>\n",
       "      <td>Pass</td>\n",
       "    </tr>\n",
       "    <tr>\n",
       "      <td>15</td>\n",
       "      <td>1913582</td>\n",
       "      <td>Kulwinder Singh, Kulwinder Singh</td>\n",
       "      <td>74</td>\n",
       "      <td>6.0</td>\n",
       "      <td>9.0</td>\n",
       "      <td>8.00</td>\n",
       "      <td>Pass</td>\n",
       "    </tr>\n",
       "    <tr>\n",
       "      <td>16</td>\n",
       "      <td>1913586</td>\n",
       "      <td>Manjinder Kaur, Manjinder Kaur</td>\n",
       "      <td>82</td>\n",
       "      <td>8.0</td>\n",
       "      <td>6.0</td>\n",
       "      <td>12.00</td>\n",
       "      <td>Pass</td>\n",
       "    </tr>\n",
       "    <tr>\n",
       "      <td>17</td>\n",
       "      <td>1913406</td>\n",
       "      <td>Mankaranjeet Kaur, Mankaranjeet Kaur</td>\n",
       "      <td>0</td>\n",
       "      <td>1.0</td>\n",
       "      <td>1.0</td>\n",
       "      <td>56.00</td>\n",
       "      <td>Redo</td>\n",
       "    </tr>\n",
       "    <tr>\n",
       "      <td>18</td>\n",
       "      <td>1913098</td>\n",
       "      <td>Manvir Kaur, Manvir Kaur</td>\n",
       "      <td>77</td>\n",
       "      <td>11.0</td>\n",
       "      <td>16.0</td>\n",
       "      <td>6.00</td>\n",
       "      <td>Pass</td>\n",
       "    </tr>\n",
       "    <tr>\n",
       "      <td>19</td>\n",
       "      <td>1913036</td>\n",
       "      <td>Narravula, Lakshmi Spandana</td>\n",
       "      <td>78</td>\n",
       "      <td>4.0</td>\n",
       "      <td>16.0</td>\n",
       "      <td>13.00</td>\n",
       "      <td>Pass</td>\n",
       "    </tr>\n",
       "    <tr>\n",
       "      <td>20</td>\n",
       "      <td>1913579</td>\n",
       "      <td>Navpreet Singh, Navpreet Singh</td>\n",
       "      <td>74</td>\n",
       "      <td>12.0</td>\n",
       "      <td>13.0</td>\n",
       "      <td>6.00</td>\n",
       "      <td>Pass</td>\n",
       "    </tr>\n",
       "    <tr>\n",
       "      <td>21</td>\n",
       "      <td>1895123</td>\n",
       "      <td>Palakeerthi, Anil</td>\n",
       "      <td>76</td>\n",
       "      <td>16.0</td>\n",
       "      <td>17.0</td>\n",
       "      <td>30.00</td>\n",
       "      <td>Pass</td>\n",
       "    </tr>\n",
       "    <tr>\n",
       "      <td>22</td>\n",
       "      <td>1895317</td>\n",
       "      <td>Parminder Singh, Parminder Singh</td>\n",
       "      <td>71</td>\n",
       "      <td>12.0</td>\n",
       "      <td>16.0</td>\n",
       "      <td>21.00</td>\n",
       "      <td>Pass</td>\n",
       "    </tr>\n",
       "    <tr>\n",
       "      <td>23</td>\n",
       "      <td>1913599</td>\n",
       "      <td>Patel, Laxit Maheshbhai</td>\n",
       "      <td>27</td>\n",
       "      <td>6.0</td>\n",
       "      <td>6.0</td>\n",
       "      <td>38.00</td>\n",
       "      <td>Redo</td>\n",
       "    </tr>\n",
       "    <tr>\n",
       "      <td>24</td>\n",
       "      <td>1913448</td>\n",
       "      <td>Patel, Rushi Kanubhai</td>\n",
       "      <td>75</td>\n",
       "      <td>12.0</td>\n",
       "      <td>19.0</td>\n",
       "      <td>6.00</td>\n",
       "      <td>Pass</td>\n",
       "    </tr>\n",
       "    <tr>\n",
       "      <td>25</td>\n",
       "      <td>1913543</td>\n",
       "      <td>Patel, Utsav Mukeshkumar</td>\n",
       "      <td>26</td>\n",
       "      <td>9.0</td>\n",
       "      <td>5.0</td>\n",
       "      <td>30.00</td>\n",
       "      <td>Redo</td>\n",
       "    </tr>\n",
       "    <tr>\n",
       "      <td>26</td>\n",
       "      <td>1913537</td>\n",
       "      <td>Prajapati, Riyaben Jagdishchandra</td>\n",
       "      <td>88</td>\n",
       "      <td>7.0</td>\n",
       "      <td>9.0</td>\n",
       "      <td>21.00</td>\n",
       "      <td>Pass</td>\n",
       "    </tr>\n",
       "    <tr>\n",
       "      <td>27</td>\n",
       "      <td>1913589</td>\n",
       "      <td>Sandhu, Anmolpreet Kaur</td>\n",
       "      <td>31</td>\n",
       "      <td>1.0</td>\n",
       "      <td>11.0</td>\n",
       "      <td>30.00</td>\n",
       "      <td>Redo</td>\n",
       "    </tr>\n",
       "    <tr>\n",
       "      <td>28</td>\n",
       "      <td>1913078</td>\n",
       "      <td>Sarasani, Srujal Reddy</td>\n",
       "      <td>60</td>\n",
       "      <td>1.0</td>\n",
       "      <td>9.0</td>\n",
       "      <td>26.00</td>\n",
       "      <td>Pass</td>\n",
       "    </tr>\n",
       "    <tr>\n",
       "      <td>29</td>\n",
       "      <td>1913454</td>\n",
       "      <td>Shabadpreet Kaur, Shabadpreet Kaur</td>\n",
       "      <td>41</td>\n",
       "      <td>24.0</td>\n",
       "      <td>24.0</td>\n",
       "      <td>20.00</td>\n",
       "      <td>Redo</td>\n",
       "    </tr>\n",
       "    <tr>\n",
       "      <td>30</td>\n",
       "      <td>1913591</td>\n",
       "      <td>Shah, Raj Jitenbhai</td>\n",
       "      <td>23</td>\n",
       "      <td>10.0</td>\n",
       "      <td>10.0</td>\n",
       "      <td>30.00</td>\n",
       "      <td>Redo</td>\n",
       "    </tr>\n",
       "    <tr>\n",
       "      <td>31</td>\n",
       "      <td>1913099</td>\n",
       "      <td>Simerjeet Kaur, Simerjeet Kaur</td>\n",
       "      <td>0</td>\n",
       "      <td>9.0</td>\n",
       "      <td>11.0</td>\n",
       "      <td>56.00</td>\n",
       "      <td>Redo</td>\n",
       "    </tr>\n",
       "    <tr>\n",
       "      <td>32</td>\n",
       "      <td>1913460</td>\n",
       "      <td>Tejpal, Shubham</td>\n",
       "      <td>71</td>\n",
       "      <td>9.0</td>\n",
       "      <td>8.0</td>\n",
       "      <td>6.00</td>\n",
       "      <td>Pass</td>\n",
       "    </tr>\n",
       "    <tr>\n",
       "      <td>33</td>\n",
       "      <td>1895424</td>\n",
       "      <td>Thakur, Risabh</td>\n",
       "      <td>65</td>\n",
       "      <td>11.0</td>\n",
       "      <td>10.0</td>\n",
       "      <td>14.00</td>\n",
       "      <td>Pass</td>\n",
       "    </tr>\n",
       "  </tbody>\n",
       "</table>\n",
       "</div>"
      ],
      "text/plain": [
       "         ID                                  Name  Grades  ConsultationsD1  \\\n",
       "0   1913357                          Behal, Harry      90             13.0   \n",
       "1   1899502                 Chugh, Gursahib Singh      67              7.0   \n",
       "2   1895342        Davinder Singh, Davinder Singh      70             28.0   \n",
       "3   1913546                Devarapu, Mary Keerthi      60              7.0   \n",
       "4   1895179                        Dharam, Naresh      55             16.0   \n",
       "5   1913302        Dilpreet Singh, Dilpreet Singh      65              8.0   \n",
       "6   1913573                            Ekta, Ekta      64             10.0   \n",
       "7   1895244                   Gill, Dilpreet Kaur      79              7.0   \n",
       "8   1913405                         Gopu, Manisha      70              6.0   \n",
       "9   1913548                  Gundeti, Gokul Reddy      63             12.0   \n",
       "10  1913598      Gurwinder Singh, Gurwinder Singh      15              1.0   \n",
       "11  1913507                          Hamza, Ameer      60              1.0   \n",
       "12  1913581    Inderpreet Singh, Inderpreet Singh      46              9.0   \n",
       "13  1913575      Jobanjeet Singh, Jobanjeet Singh      66              2.0   \n",
       "14  1913031                      Kosaraju, Kalyan      79             25.0   \n",
       "15  1913582      Kulwinder Singh, Kulwinder Singh      74              6.0   \n",
       "16  1913586        Manjinder Kaur, Manjinder Kaur      82              8.0   \n",
       "17  1913406  Mankaranjeet Kaur, Mankaranjeet Kaur       0              1.0   \n",
       "18  1913098              Manvir Kaur, Manvir Kaur      77             11.0   \n",
       "19  1913036           Narravula, Lakshmi Spandana      78              4.0   \n",
       "20  1913579        Navpreet Singh, Navpreet Singh      74             12.0   \n",
       "21  1895123                     Palakeerthi, Anil      76             16.0   \n",
       "22  1895317      Parminder Singh, Parminder Singh      71             12.0   \n",
       "23  1913599               Patel, Laxit Maheshbhai      27              6.0   \n",
       "24  1913448                 Patel, Rushi Kanubhai      75             12.0   \n",
       "25  1913543              Patel, Utsav Mukeshkumar      26              9.0   \n",
       "26  1913537     Prajapati, Riyaben Jagdishchandra      88              7.0   \n",
       "27  1913589               Sandhu, Anmolpreet Kaur      31              1.0   \n",
       "28  1913078                Sarasani, Srujal Reddy      60              1.0   \n",
       "29  1913454    Shabadpreet Kaur, Shabadpreet Kaur      41             24.0   \n",
       "30  1913591                   Shah, Raj Jitenbhai      23             10.0   \n",
       "31  1913099        Simerjeet Kaur, Simerjeet Kaur       0              9.0   \n",
       "32  1913460                       Tejpal, Shubham      71              9.0   \n",
       "33  1895424                        Thakur, Risabh      65             11.0   \n",
       "\n",
       "    ConsultationsD2  Hrabsence Finalgrades  \n",
       "0              12.0      21.00        Pass  \n",
       "1               6.0      22.00        Pass  \n",
       "2              14.0      12.00        Pass  \n",
       "3              16.0      16.00        Pass  \n",
       "4               5.0      38.00      Retake  \n",
       "5               6.0       8.00        Pass  \n",
       "6               9.0      20.00        Pass  \n",
       "7               8.0      20.00        Pass  \n",
       "8               6.0      20.00        Pass  \n",
       "9              13.0      14.00        Pass  \n",
       "10              1.0      32.00        Redo  \n",
       "11              7.0      17.45        Pass  \n",
       "12              6.0      12.00        Redo  \n",
       "13             17.0      30.00        Pass  \n",
       "14             25.0       4.00        Pass  \n",
       "15              9.0       8.00        Pass  \n",
       "16              6.0      12.00        Pass  \n",
       "17              1.0      56.00        Redo  \n",
       "18             16.0       6.00        Pass  \n",
       "19             16.0      13.00        Pass  \n",
       "20             13.0       6.00        Pass  \n",
       "21             17.0      30.00        Pass  \n",
       "22             16.0      21.00        Pass  \n",
       "23              6.0      38.00        Redo  \n",
       "24             19.0       6.00        Pass  \n",
       "25              5.0      30.00        Redo  \n",
       "26              9.0      21.00        Pass  \n",
       "27             11.0      30.00        Redo  \n",
       "28              9.0      26.00        Pass  \n",
       "29             24.0      20.00        Redo  \n",
       "30             10.0      30.00        Redo  \n",
       "31             11.0      56.00        Redo  \n",
       "32              8.0       6.00        Pass  \n",
       "33             10.0      14.00        Pass  "
      ]
     },
     "execution_count": 38,
     "metadata": {},
     "output_type": "execute_result"
    }
   ],
   "source": [
    "record"
   ]
  },
  {
   "cell_type": "markdown",
   "metadata": {},
   "source": [
    "# Save the file in to local system in csv format "
   ]
  },
  {
   "cell_type": "code",
   "execution_count": 39,
   "metadata": {},
   "outputs": [],
   "source": [
    "final = 'record.csv'\n",
    "record.to_csv(final)"
   ]
  },
  {
   "cell_type": "code",
   "execution_count": 40,
   "metadata": {},
   "outputs": [],
   "source": [
    "import seaborn as sns\n",
    "sns.set_style('whitegrid')\n",
    "import matplotlib.pyplot as plt\n",
    "%matplotlib inline"
   ]
  },
  {
   "cell_type": "markdown",
   "metadata": {},
   "source": [
    "# Grade countplot with student finalgrades with pass, retake, redo visualization"
   ]
  },
  {
   "cell_type": "code",
   "execution_count": 41,
   "metadata": {},
   "outputs": [
    {
     "data": {
      "text/plain": [
       "Text(0, 0.5, 'No of std')"
      ]
     },
     "execution_count": 41,
     "metadata": {},
     "output_type": "execute_result"
    },
    {
     "data": {
      "image/png": "[encoded data removed]",
      "text/plain": [
       "<Figure size 576x432 with 1 Axes>"
      ]
     },
     "metadata": {
      "needs_background": "light"
     },
     "output_type": "display_data"
    }
   ],
   "source": [
    "\n",
    "plt.figure(figsize=(8,6))\n",
    "sns.countplot(record.Finalgrades, order=[\"Pass\", \"Retake\", \"Redo\" ], palette='BuPu')\n",
    "plt.title(\"Final grade: No of students\")\n",
    "plt.xlabel(\"Final Grade\")\n",
    "plt.ylabel(\"No of std\")"
   ]
  },
  {
   "cell_type": "markdown",
   "metadata": {},
   "source": [
    "Colormap Possible values are: Accent, Accent_r, Blues, Blues_r, BrBG, BrBG_r, BuGn, BuGn_r, BuPu, BuPu_r, CMRmap, CMRmap_r, Dark2, Dark2_r, GnBu, GnBu_r, Greens, Greens_r, Greys, Greys_r, OrRd, OrRd_r, Oranges, Oranges_r, PRGn, PRGn_r, Paired, Paired_r, Pastel1, Pastel1_r, Pastel2, Pastel2_r, PiYG, PiYG_r, PuBu, PuBuGn, PuBuGn_r, PuBu_r, PuOr, PuOr_r, PuRd, PuRd_r, Purples, Purples_r, RdBu, RdBu_r, RdGy, RdGy_r, RdPu, RdPu_r, RdYlBu, RdYlBu_r, RdYlGn, RdYlGn_r, Reds, Reds_r, Set1, Set1_r, Set2, Set2_r, Set3, Set3_r, Spectral, Spectral_r, Wistia, Wistia_r, YlGn, YlGnBu, YlGnBu_r, YlGn_r, YlOrBr, YlOrBr_r, YlOrRd, YlOrRd_r, afmhot, afmhot_r, autumn, autumn_r, binary, binary_r, bone, bone_r, brg, brg_r, bwr, bwr_r, cividis, cividis_r, cool, cool_r, coolwarm, coolwarm_r, copper, copper_r, cubehelix, cubehelix_r, flag, flag_r, gist_earth, gist_earth_r, gist_gray, gist_gray_r, gist_heat, gist_heat_r, gist_ncar, gist_ncar_r, gist_rainbow, gist_rainbow_r, gist_stern, gist_stern_r, gist_yarg, gist_yarg_r, gnuplot, gnuplot2, gnuplot2_r, gnuplot_r, gray, gray_r, hot, hot_r, hsv, hsv_r, icefire, icefire_r, inferno, inferno_r, jet, jet_r, magma, magma_r, mako, mako_r, nipy_spectral, nipy_spectral_r, ocean, ocean_r, pink, pink_r, plasma, plasma_r, prism, prism_r, rainbow, rainbow_r, rocket, rocket_r, seismic, seismic_r, spring, spring_r, summer, summer_r, tab10, tab10_r, tab20, tab20_r, tab20b, tab20b_r, tab20c, tab20c_r, terrain, terrain_r, twilight, twilight_r, twilight_shifted, twilight_shifted_r, viridis, viridis_r, vlag, vlag_r, winter, winter_r\n"
   ]
  },
  {
   "cell_type": "markdown",
   "metadata": {},
   "source": [
    "# Crosstab which compares the index and column to get the count"
   ]
  },
  {
   "cell_type": "code",
   "execution_count": 42,
   "metadata": {},
   "outputs": [
    {
     "data": {
      "text/html": [
       "<div>\n",
       "<style scoped>\n",
       "    .dataframe tbody tr th:only-of-type {\n",
       "        vertical-align: middle;\n",
       "    }\n",
       "\n",
       "    .dataframe tbody tr th {\n",
       "        vertical-align: top;\n",
       "    }\n",
       "\n",
       "    .dataframe thead th {\n",
       "        text-align: right;\n",
       "    }\n",
       "</style>\n",
       "<table border=\"1\" class=\"dataframe\">\n",
       "  <thead>\n",
       "    <tr style=\"text-align: right;\">\n",
       "      <th></th>\n",
       "      <th></th>\n",
       "      <th>Finalgrades</th>\n",
       "      <th>Pass</th>\n",
       "      <th>Redo</th>\n",
       "      <th>Retake</th>\n",
       "    </tr>\n",
       "    <tr>\n",
       "      <th>Name</th>\n",
       "      <th>ConsultationsD1</th>\n",
       "      <th>ConsultationsD2</th>\n",
       "      <th></th>\n",
       "      <th></th>\n",
       "      <th></th>\n",
       "    </tr>\n",
       "  </thead>\n",
       "  <tbody>\n",
       "    <tr>\n",
       "      <td>Behal, Harry</td>\n",
       "      <td>13.0</td>\n",
       "      <td>12.0</td>\n",
       "      <td>1</td>\n",
       "      <td>0</td>\n",
       "      <td>0</td>\n",
       "    </tr>\n",
       "    <tr>\n",
       "      <td>Chugh, Gursahib Singh</td>\n",
       "      <td>7.0</td>\n",
       "      <td>6.0</td>\n",
       "      <td>1</td>\n",
       "      <td>0</td>\n",
       "      <td>0</td>\n",
       "    </tr>\n",
       "    <tr>\n",
       "      <td>Davinder Singh, Davinder Singh</td>\n",
       "      <td>28.0</td>\n",
       "      <td>14.0</td>\n",
       "      <td>1</td>\n",
       "      <td>0</td>\n",
       "      <td>0</td>\n",
       "    </tr>\n",
       "    <tr>\n",
       "      <td>Devarapu, Mary Keerthi</td>\n",
       "      <td>7.0</td>\n",
       "      <td>16.0</td>\n",
       "      <td>1</td>\n",
       "      <td>0</td>\n",
       "      <td>0</td>\n",
       "    </tr>\n",
       "    <tr>\n",
       "      <td>Dharam, Naresh</td>\n",
       "      <td>16.0</td>\n",
       "      <td>5.0</td>\n",
       "      <td>0</td>\n",
       "      <td>0</td>\n",
       "      <td>1</td>\n",
       "    </tr>\n",
       "    <tr>\n",
       "      <td>Dilpreet Singh, Dilpreet Singh</td>\n",
       "      <td>8.0</td>\n",
       "      <td>6.0</td>\n",
       "      <td>1</td>\n",
       "      <td>0</td>\n",
       "      <td>0</td>\n",
       "    </tr>\n",
       "    <tr>\n",
       "      <td>Ekta, Ekta</td>\n",
       "      <td>10.0</td>\n",
       "      <td>9.0</td>\n",
       "      <td>1</td>\n",
       "      <td>0</td>\n",
       "      <td>0</td>\n",
       "    </tr>\n",
       "    <tr>\n",
       "      <td>Gill, Dilpreet Kaur</td>\n",
       "      <td>7.0</td>\n",
       "      <td>8.0</td>\n",
       "      <td>1</td>\n",
       "      <td>0</td>\n",
       "      <td>0</td>\n",
       "    </tr>\n",
       "    <tr>\n",
       "      <td>Gopu, Manisha</td>\n",
       "      <td>6.0</td>\n",
       "      <td>6.0</td>\n",
       "      <td>1</td>\n",
       "      <td>0</td>\n",
       "      <td>0</td>\n",
       "    </tr>\n",
       "    <tr>\n",
       "      <td>Gundeti, Gokul Reddy</td>\n",
       "      <td>12.0</td>\n",
       "      <td>13.0</td>\n",
       "      <td>1</td>\n",
       "      <td>0</td>\n",
       "      <td>0</td>\n",
       "    </tr>\n",
       "    <tr>\n",
       "      <td>Gurwinder Singh, Gurwinder Singh</td>\n",
       "      <td>1.0</td>\n",
       "      <td>1.0</td>\n",
       "      <td>0</td>\n",
       "      <td>1</td>\n",
       "      <td>0</td>\n",
       "    </tr>\n",
       "    <tr>\n",
       "      <td>Hamza, Ameer</td>\n",
       "      <td>1.0</td>\n",
       "      <td>7.0</td>\n",
       "      <td>1</td>\n",
       "      <td>0</td>\n",
       "      <td>0</td>\n",
       "    </tr>\n",
       "    <tr>\n",
       "      <td>Inderpreet Singh, Inderpreet Singh</td>\n",
       "      <td>9.0</td>\n",
       "      <td>6.0</td>\n",
       "      <td>0</td>\n",
       "      <td>1</td>\n",
       "      <td>0</td>\n",
       "    </tr>\n",
       "    <tr>\n",
       "      <td>Jobanjeet Singh, Jobanjeet Singh</td>\n",
       "      <td>2.0</td>\n",
       "      <td>17.0</td>\n",
       "      <td>1</td>\n",
       "      <td>0</td>\n",
       "      <td>0</td>\n",
       "    </tr>\n",
       "    <tr>\n",
       "      <td>Kosaraju, Kalyan</td>\n",
       "      <td>25.0</td>\n",
       "      <td>25.0</td>\n",
       "      <td>1</td>\n",
       "      <td>0</td>\n",
       "      <td>0</td>\n",
       "    </tr>\n",
       "    <tr>\n",
       "      <td>Kulwinder Singh, Kulwinder Singh</td>\n",
       "      <td>6.0</td>\n",
       "      <td>9.0</td>\n",
       "      <td>1</td>\n",
       "      <td>0</td>\n",
       "      <td>0</td>\n",
       "    </tr>\n",
       "    <tr>\n",
       "      <td>Manjinder Kaur, Manjinder Kaur</td>\n",
       "      <td>8.0</td>\n",
       "      <td>6.0</td>\n",
       "      <td>1</td>\n",
       "      <td>0</td>\n",
       "      <td>0</td>\n",
       "    </tr>\n",
       "    <tr>\n",
       "      <td>Mankaranjeet Kaur, Mankaranjeet Kaur</td>\n",
       "      <td>1.0</td>\n",
       "      <td>1.0</td>\n",
       "      <td>0</td>\n",
       "      <td>1</td>\n",
       "      <td>0</td>\n",
       "    </tr>\n",
       "    <tr>\n",
       "      <td>Manvir Kaur, Manvir Kaur</td>\n",
       "      <td>11.0</td>\n",
       "      <td>16.0</td>\n",
       "      <td>1</td>\n",
       "      <td>0</td>\n",
       "      <td>0</td>\n",
       "    </tr>\n",
       "    <tr>\n",
       "      <td>Narravula, Lakshmi Spandana</td>\n",
       "      <td>4.0</td>\n",
       "      <td>16.0</td>\n",
       "      <td>1</td>\n",
       "      <td>0</td>\n",
       "      <td>0</td>\n",
       "    </tr>\n",
       "    <tr>\n",
       "      <td>Navpreet Singh, Navpreet Singh</td>\n",
       "      <td>12.0</td>\n",
       "      <td>13.0</td>\n",
       "      <td>1</td>\n",
       "      <td>0</td>\n",
       "      <td>0</td>\n",
       "    </tr>\n",
       "    <tr>\n",
       "      <td>Palakeerthi, Anil</td>\n",
       "      <td>16.0</td>\n",
       "      <td>17.0</td>\n",
       "      <td>1</td>\n",
       "      <td>0</td>\n",
       "      <td>0</td>\n",
       "    </tr>\n",
       "    <tr>\n",
       "      <td>Parminder Singh, Parminder Singh</td>\n",
       "      <td>12.0</td>\n",
       "      <td>16.0</td>\n",
       "      <td>1</td>\n",
       "      <td>0</td>\n",
       "      <td>0</td>\n",
       "    </tr>\n",
       "    <tr>\n",
       "      <td>Patel, Laxit Maheshbhai</td>\n",
       "      <td>6.0</td>\n",
       "      <td>6.0</td>\n",
       "      <td>0</td>\n",
       "      <td>1</td>\n",
       "      <td>0</td>\n",
       "    </tr>\n",
       "    <tr>\n",
       "      <td>Patel, Rushi Kanubhai</td>\n",
       "      <td>12.0</td>\n",
       "      <td>19.0</td>\n",
       "      <td>1</td>\n",
       "      <td>0</td>\n",
       "      <td>0</td>\n",
       "    </tr>\n",
       "    <tr>\n",
       "      <td>Patel, Utsav Mukeshkumar</td>\n",
       "      <td>9.0</td>\n",
       "      <td>5.0</td>\n",
       "      <td>0</td>\n",
       "      <td>1</td>\n",
       "      <td>0</td>\n",
       "    </tr>\n",
       "    <tr>\n",
       "      <td>Prajapati, Riyaben Jagdishchandra</td>\n",
       "      <td>7.0</td>\n",
       "      <td>9.0</td>\n",
       "      <td>1</td>\n",
       "      <td>0</td>\n",
       "      <td>0</td>\n",
       "    </tr>\n",
       "    <tr>\n",
       "      <td>Sandhu, Anmolpreet Kaur</td>\n",
       "      <td>1.0</td>\n",
       "      <td>11.0</td>\n",
       "      <td>0</td>\n",
       "      <td>1</td>\n",
       "      <td>0</td>\n",
       "    </tr>\n",
       "    <tr>\n",
       "      <td>Sarasani, Srujal Reddy</td>\n",
       "      <td>1.0</td>\n",
       "      <td>9.0</td>\n",
       "      <td>1</td>\n",
       "      <td>0</td>\n",
       "      <td>0</td>\n",
       "    </tr>\n",
       "    <tr>\n",
       "      <td>Shabadpreet Kaur, Shabadpreet Kaur</td>\n",
       "      <td>24.0</td>\n",
       "      <td>24.0</td>\n",
       "      <td>0</td>\n",
       "      <td>1</td>\n",
       "      <td>0</td>\n",
       "    </tr>\n",
       "    <tr>\n",
       "      <td>Shah, Raj Jitenbhai</td>\n",
       "      <td>10.0</td>\n",
       "      <td>10.0</td>\n",
       "      <td>0</td>\n",
       "      <td>1</td>\n",
       "      <td>0</td>\n",
       "    </tr>\n",
       "    <tr>\n",
       "      <td>Simerjeet Kaur, Simerjeet Kaur</td>\n",
       "      <td>9.0</td>\n",
       "      <td>11.0</td>\n",
       "      <td>0</td>\n",
       "      <td>1</td>\n",
       "      <td>0</td>\n",
       "    </tr>\n",
       "    <tr>\n",
       "      <td>Tejpal, Shubham</td>\n",
       "      <td>9.0</td>\n",
       "      <td>8.0</td>\n",
       "      <td>1</td>\n",
       "      <td>0</td>\n",
       "      <td>0</td>\n",
       "    </tr>\n",
       "    <tr>\n",
       "      <td>Thakur, Risabh</td>\n",
       "      <td>11.0</td>\n",
       "      <td>10.0</td>\n",
       "      <td>1</td>\n",
       "      <td>0</td>\n",
       "      <td>0</td>\n",
       "    </tr>\n",
       "  </tbody>\n",
       "</table>\n",
       "</div>"
      ],
      "text/plain": [
       "Finalgrades                                                           Pass  \\\n",
       "Name                                 ConsultationsD1 ConsultationsD2         \n",
       "Behal, Harry                         13.0            12.0                1   \n",
       "Chugh, Gursahib Singh                7.0             6.0                 1   \n",
       "Davinder Singh, Davinder Singh       28.0            14.0                1   \n",
       "Devarapu, Mary Keerthi               7.0             16.0                1   \n",
       "Dharam, Naresh                       16.0            5.0                 0   \n",
       "Dilpreet Singh, Dilpreet Singh       8.0             6.0                 1   \n",
       "Ekta, Ekta                           10.0            9.0                 1   \n",
       "Gill, Dilpreet Kaur                  7.0             8.0                 1   \n",
       "Gopu, Manisha                        6.0             6.0                 1   \n",
       "Gundeti, Gokul Reddy                 12.0            13.0                1   \n",
       "Gurwinder Singh, Gurwinder Singh     1.0             1.0                 0   \n",
       "Hamza, Ameer                         1.0             7.0                 1   \n",
       "Inderpreet Singh, Inderpreet Singh   9.0             6.0                 0   \n",
       "Jobanjeet Singh, Jobanjeet Singh     2.0             17.0                1   \n",
       "Kosaraju, Kalyan                     25.0            25.0                1   \n",
       "Kulwinder Singh, Kulwinder Singh     6.0             9.0                 1   \n",
       "Manjinder Kaur, Manjinder Kaur       8.0             6.0                 1   \n",
       "Mankaranjeet Kaur, Mankaranjeet Kaur 1.0             1.0                 0   \n",
       "Manvir Kaur, Manvir Kaur             11.0            16.0                1   \n",
       "Narravula, Lakshmi Spandana          4.0             16.0                1   \n",
       "Navpreet Singh, Navpreet Singh       12.0            13.0                1   \n",
       "Palakeerthi, Anil                    16.0            17.0                1   \n",
       "Parminder Singh, Parminder Singh     12.0            16.0                1   \n",
       "Patel, Laxit Maheshbhai              6.0             6.0                 0   \n",
       "Patel, Rushi Kanubhai                12.0            19.0                1   \n",
       "Patel, Utsav Mukeshkumar             9.0             5.0                 0   \n",
       "Prajapati, Riyaben Jagdishchandra    7.0             9.0                 1   \n",
       "Sandhu, Anmolpreet Kaur              1.0             11.0                0   \n",
       "Sarasani, Srujal Reddy               1.0             9.0                 1   \n",
       "Shabadpreet Kaur, Shabadpreet Kaur   24.0            24.0                0   \n",
       "Shah, Raj Jitenbhai                  10.0            10.0                0   \n",
       "Simerjeet Kaur, Simerjeet Kaur       9.0             11.0                0   \n",
       "Tejpal, Shubham                      9.0             8.0                 1   \n",
       "Thakur, Risabh                       11.0            10.0                1   \n",
       "\n",
       "Finalgrades                                                           Redo  \\\n",
       "Name                                 ConsultationsD1 ConsultationsD2         \n",
       "Behal, Harry                         13.0            12.0                0   \n",
       "Chugh, Gursahib Singh                7.0             6.0                 0   \n",
       "Davinder Singh, Davinder Singh       28.0            14.0                0   \n",
       "Devarapu, Mary Keerthi               7.0             16.0                0   \n",
       "Dharam, Naresh                       16.0            5.0                 0   \n",
       "Dilpreet Singh, Dilpreet Singh       8.0             6.0                 0   \n",
       "Ekta, Ekta                           10.0            9.0                 0   \n",
       "Gill, Dilpreet Kaur                  7.0             8.0                 0   \n",
       "Gopu, Manisha                        6.0             6.0                 0   \n",
       "Gundeti, Gokul Reddy                 12.0            13.0                0   \n",
       "Gurwinder Singh, Gurwinder Singh     1.0             1.0                 1   \n",
       "Hamza, Ameer                         1.0             7.0                 0   \n",
       "Inderpreet Singh, Inderpreet Singh   9.0             6.0                 1   \n",
       "Jobanjeet Singh, Jobanjeet Singh     2.0             17.0                0   \n",
       "Kosaraju, Kalyan                     25.0            25.0                0   \n",
       "Kulwinder Singh, Kulwinder Singh     6.0             9.0                 0   \n",
       "Manjinder Kaur, Manjinder Kaur       8.0             6.0                 0   \n",
       "Mankaranjeet Kaur, Mankaranjeet Kaur 1.0             1.0                 1   \n",
       "Manvir Kaur, Manvir Kaur             11.0            16.0                0   \n",
       "Narravula, Lakshmi Spandana          4.0             16.0                0   \n",
       "Navpreet Singh, Navpreet Singh       12.0            13.0                0   \n",
       "Palakeerthi, Anil                    16.0            17.0                0   \n",
       "Parminder Singh, Parminder Singh     12.0            16.0                0   \n",
       "Patel, Laxit Maheshbhai              6.0             6.0                 1   \n",
       "Patel, Rushi Kanubhai                12.0            19.0                0   \n",
       "Patel, Utsav Mukeshkumar             9.0             5.0                 1   \n",
       "Prajapati, Riyaben Jagdishchandra    7.0             9.0                 0   \n",
       "Sandhu, Anmolpreet Kaur              1.0             11.0                1   \n",
       "Sarasani, Srujal Reddy               1.0             9.0                 0   \n",
       "Shabadpreet Kaur, Shabadpreet Kaur   24.0            24.0                1   \n",
       "Shah, Raj Jitenbhai                  10.0            10.0                1   \n",
       "Simerjeet Kaur, Simerjeet Kaur       9.0             11.0                1   \n",
       "Tejpal, Shubham                      9.0             8.0                 0   \n",
       "Thakur, Risabh                       11.0            10.0                0   \n",
       "\n",
       "Finalgrades                                                           Retake  \n",
       "Name                                 ConsultationsD1 ConsultationsD2          \n",
       "Behal, Harry                         13.0            12.0                  0  \n",
       "Chugh, Gursahib Singh                7.0             6.0                   0  \n",
       "Davinder Singh, Davinder Singh       28.0            14.0                  0  \n",
       "Devarapu, Mary Keerthi               7.0             16.0                  0  \n",
       "Dharam, Naresh                       16.0            5.0                   1  \n",
       "Dilpreet Singh, Dilpreet Singh       8.0             6.0                   0  \n",
       "Ekta, Ekta                           10.0            9.0                   0  \n",
       "Gill, Dilpreet Kaur                  7.0             8.0                   0  \n",
       "Gopu, Manisha                        6.0             6.0                   0  \n",
       "Gundeti, Gokul Reddy                 12.0            13.0                  0  \n",
       "Gurwinder Singh, Gurwinder Singh     1.0             1.0                   0  \n",
       "Hamza, Ameer                         1.0             7.0                   0  \n",
       "Inderpreet Singh, Inderpreet Singh   9.0             6.0                   0  \n",
       "Jobanjeet Singh, Jobanjeet Singh     2.0             17.0                  0  \n",
       "Kosaraju, Kalyan                     25.0            25.0                  0  \n",
       "Kulwinder Singh, Kulwinder Singh     6.0             9.0                   0  \n",
       "Manjinder Kaur, Manjinder Kaur       8.0             6.0                   0  \n",
       "Mankaranjeet Kaur, Mankaranjeet Kaur 1.0             1.0                   0  \n",
       "Manvir Kaur, Manvir Kaur             11.0            16.0                  0  \n",
       "Narravula, Lakshmi Spandana          4.0             16.0                  0  \n",
       "Navpreet Singh, Navpreet Singh       12.0            13.0                  0  \n",
       "Palakeerthi, Anil                    16.0            17.0                  0  \n",
       "Parminder Singh, Parminder Singh     12.0            16.0                  0  \n",
       "Patel, Laxit Maheshbhai              6.0             6.0                   0  \n",
       "Patel, Rushi Kanubhai                12.0            19.0                  0  \n",
       "Patel, Utsav Mukeshkumar             9.0             5.0                   0  \n",
       "Prajapati, Riyaben Jagdishchandra    7.0             9.0                   0  \n",
       "Sandhu, Anmolpreet Kaur              1.0             11.0                  0  \n",
       "Sarasani, Srujal Reddy               1.0             9.0                   0  \n",
       "Shabadpreet Kaur, Shabadpreet Kaur   24.0            24.0                  0  \n",
       "Shah, Raj Jitenbhai                  10.0            10.0                  0  \n",
       "Simerjeet Kaur, Simerjeet Kaur       9.0             11.0                  0  \n",
       "Tejpal, Shubham                      9.0             8.0                   0  \n",
       "Thakur, Risabh                       11.0            10.0                  0  "
      ]
     },
     "execution_count": 42,
     "metadata": {},
     "output_type": "execute_result"
    }
   ],
   "source": [
    "pd.crosstab(index=[record['Name'], record['ConsultationsD1'], record['ConsultationsD2']],  columns=record['Finalgrades'])"
   ]
  },
  {
   "cell_type": "code",
   "execution_count": 43,
   "metadata": {},
   "outputs": [
    {
     "data": {
      "text/plain": [
       "Index(['ID', 'Name', 'Grades', 'ConsultationsD1', 'ConsultationsD2',\n",
       "       'Hrabsence', 'Finalgrades'],\n",
       "      dtype='object')"
      ]
     },
     "execution_count": 43,
     "metadata": {},
     "output_type": "execute_result"
    }
   ],
   "source": [
    "record.columns"
   ]
  },
  {
   "cell_type": "markdown",
   "metadata": {},
   "source": [
    "# Final Grades by no of hours absance in course"
   ]
  },
  {
   "cell_type": "code",
   "execution_count": 44,
   "metadata": {},
   "outputs": [
    {
     "name": "stderr",
     "output_type": "stream",
     "text": [
      "C:\\Users\\bayya\\Anaconda3\\lib\\site-packages\\ipykernel_launcher.py:7: RuntimeWarning: divide by zero encountered in log\n",
      "  import sys\n"
     ]
    }
   ],
   "source": [
    "import numpy as np\n",
    "import pandas as pd\n",
    "perc = (lambda col:col/col.sum())\n",
    "index=['Pass', 'Retake', 'Redo']\n",
    "\n",
    "hrabs = pd.crosstab(index=record.Finalgrades, columns=record.Hrabsence)\n",
    "hrabs_tab = np.log(hrabs)\n",
    "hrabs_tab1=hrabs_tab.apply(perc).reindex(index)"
   ]
  },
  {
   "cell_type": "code",
   "execution_count": 45,
   "metadata": {
    "scrolled": true
   },
   "outputs": [
    {
     "data": {
      "text/plain": [
       "<Figure size 432x288 with 0 Axes>"
      ]
     },
     "metadata": {},
     "output_type": "display_data"
    },
    {
     "data": {
      "image/png": "[encoded data removed]",
      "text/plain": [
       "<Figure size 576x576 with 1 Axes>"
      ]
     },
     "metadata": {
      "needs_background": "light"
     },
     "output_type": "display_data"
    }
   ],
   "source": [
    "plt.figure()\n",
    "hrabs_tab1.plot.bar(colormap=\"PiYG_r\", fontsize=16, figsize=(8,8))\n",
    "plt.title('Final Grades by No hr of absance')\n",
    "plt.ylabel('Percentage of log std count')\n",
    "plt.xlabel('Final grades')\n",
    "plt.show()"
   ]
  },
  {
   "cell_type": "code",
   "execution_count": 46,
   "metadata": {},
   "outputs": [
    {
     "data": {
      "text/plain": [
       "0.999860759672406"
      ]
     },
     "execution_count": 46,
     "metadata": {},
     "output_type": "execute_result"
    }
   ],
   "source": [
    "import statsmodels.api as sm\n",
    "\n",
    "abs1 = sm.stats.Table(hrabs)\n",
    "abs2 = abs1.test_nominal_association()\n",
    "abs2.pvalue"
   ]
  },
  {
   "cell_type": "markdown",
   "metadata": {},
   "source": [
    "# Preparing datasets for modelling"
   ]
  },
  {
   "cell_type": "code",
   "execution_count": 47,
   "metadata": {},
   "outputs": [],
   "source": [
    " # in new python file"
   ]
  },
  {
   "cell_type": "code",
   "execution_count": null,
   "metadata": {},
   "outputs": [],
   "source": []
  }
 ],
 "metadata": {
  "kernelspec": {
   "display_name": "Python 3",
   "language": "python",
   "name": "python3"
  },
  "language_info": {
   "codemirror_mode": {
    "name": "ipython",
    "version": 3
   },
   "file_extension": ".py",
   "mimetype": "text/x-python",
   "name": "python",
   "nbconvert_exporter": "python",
   "pygments_lexer": "ipython3",
   "version": "3.7.4"
  }
 },
 "nbformat": 4,
 "nbformat_minor": 2
}
