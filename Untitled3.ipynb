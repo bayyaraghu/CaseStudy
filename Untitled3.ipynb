{
 "cells": [
  {
   "cell_type": "code",
   "execution_count": 305,
   "metadata": {},
   "outputs": [],
   "source": [
    "import pandas as pd\n",
    "from scipy import stats\n",
    "from statsmodels.stats import weightstats as stests"
   ]
  },
  {
   "cell_type": "code",
   "execution_count": 306,
   "metadata": {},
   "outputs": [
    {
     "data": {
      "text/html": [
       "<div>\n",
       "<style scoped>\n",
       "    .dataframe tbody tr th:only-of-type {\n",
       "        vertical-align: middle;\n",
       "    }\n",
       "\n",
       "    .dataframe tbody tr th {\n",
       "        vertical-align: top;\n",
       "    }\n",
       "\n",
       "    .dataframe thead th {\n",
       "        text-align: right;\n",
       "    }\n",
       "</style>\n",
       "<table border=\"1\" class=\"dataframe\">\n",
       "  <thead>\n",
       "    <tr style=\"text-align: right;\">\n",
       "      <th></th>\n",
       "      <th>ID</th>\n",
       "      <th>Grades</th>\n",
       "      <th>ConsultationsD1</th>\n",
       "      <th>ConsultationsD2</th>\n",
       "      <th>Hrabsence</th>\n",
       "      <th>Finalgrades</th>\n",
       "    </tr>\n",
       "  </thead>\n",
       "  <tbody>\n",
       "    <tr>\n",
       "      <td>0</td>\n",
       "      <td>4974728.2</td>\n",
       "      <td>90</td>\n",
       "      <td>13</td>\n",
       "      <td>12</td>\n",
       "      <td>21.0</td>\n",
       "      <td>Pass</td>\n",
       "    </tr>\n",
       "    <tr>\n",
       "      <td>1</td>\n",
       "      <td>4938705.2</td>\n",
       "      <td>67</td>\n",
       "      <td>7</td>\n",
       "      <td>6</td>\n",
       "      <td>22.0</td>\n",
       "      <td>Pass</td>\n",
       "    </tr>\n",
       "    <tr>\n",
       "      <td>2</td>\n",
       "      <td>4927889.2</td>\n",
       "      <td>70</td>\n",
       "      <td>28</td>\n",
       "      <td>14</td>\n",
       "      <td>12.0</td>\n",
       "      <td>Pass</td>\n",
       "    </tr>\n",
       "    <tr>\n",
       "      <td>3</td>\n",
       "      <td>4975219.6</td>\n",
       "      <td>60</td>\n",
       "      <td>7</td>\n",
       "      <td>16</td>\n",
       "      <td>16.0</td>\n",
       "      <td>Pass</td>\n",
       "    </tr>\n",
       "    <tr>\n",
       "      <td>4</td>\n",
       "      <td>4927465.4</td>\n",
       "      <td>55</td>\n",
       "      <td>16</td>\n",
       "      <td>5</td>\n",
       "      <td>38.0</td>\n",
       "      <td>Retake</td>\n",
       "    </tr>\n",
       "  </tbody>\n",
       "</table>\n",
       "</div>"
      ],
      "text/plain": [
       "          ID  Grades  ConsultationsD1  ConsultationsD2  Hrabsence Finalgrades\n",
       "0  4974728.2      90               13               12       21.0        Pass\n",
       "1  4938705.2      67                7                6       22.0        Pass\n",
       "2  4927889.2      70               28               14       12.0        Pass\n",
       "3  4975219.6      60                7               16       16.0        Pass\n",
       "4  4927465.4      55               16                5       38.0      Retake"
      ]
     },
     "execution_count": 306,
     "metadata": {},
     "output_type": "execute_result"
    }
   ],
   "source": [
    "stdhyp = pd.read_csv('record.csv')\n",
    "stdhyp.head()"
   ]
  },
  {
   "cell_type": "code",
   "execution_count": 307,
   "metadata": {},
   "outputs": [
    {
     "data": {
      "text/html": [
       "<div>\n",
       "<style scoped>\n",
       "    .dataframe tbody tr th:only-of-type {\n",
       "        vertical-align: middle;\n",
       "    }\n",
       "\n",
       "    .dataframe tbody tr th {\n",
       "        vertical-align: top;\n",
       "    }\n",
       "\n",
       "    .dataframe thead th {\n",
       "        text-align: right;\n",
       "    }\n",
       "</style>\n",
       "<table border=\"1\" class=\"dataframe\">\n",
       "  <thead>\n",
       "    <tr style=\"text-align: right;\">\n",
       "      <th></th>\n",
       "      <th>ID</th>\n",
       "      <th>Grades</th>\n",
       "      <th>ConsultationsD1</th>\n",
       "      <th>ConsultationsD2</th>\n",
       "      <th>Hrabsence</th>\n",
       "    </tr>\n",
       "  </thead>\n",
       "  <tbody>\n",
       "    <tr>\n",
       "      <td>count</td>\n",
       "      <td>3.400000e+01</td>\n",
       "      <td>34.000000</td>\n",
       "      <td>34.000000</td>\n",
       "      <td>34.000000</td>\n",
       "      <td>34.000000</td>\n",
       "    </tr>\n",
       "    <tr>\n",
       "      <td>mean</td>\n",
       "      <td>4.965529e+06</td>\n",
       "      <td>58.470588</td>\n",
       "      <td>9.441176</td>\n",
       "      <td>10.794118</td>\n",
       "      <td>21.042647</td>\n",
       "    </tr>\n",
       "    <tr>\n",
       "      <td>std</td>\n",
       "      <td>1.882537e+04</td>\n",
       "      <td>24.096064</td>\n",
       "      <td>6.592885</td>\n",
       "      <td>5.751308</td>\n",
       "      <td>12.972629</td>\n",
       "    </tr>\n",
       "    <tr>\n",
       "      <td>min</td>\n",
       "      <td>4.927320e+06</td>\n",
       "      <td>0.000000</td>\n",
       "      <td>1.000000</td>\n",
       "      <td>1.000000</td>\n",
       "      <td>4.000000</td>\n",
       "    </tr>\n",
       "    <tr>\n",
       "      <td>25%</td>\n",
       "      <td>4.973921e+06</td>\n",
       "      <td>48.250000</td>\n",
       "      <td>6.000000</td>\n",
       "      <td>6.000000</td>\n",
       "      <td>12.000000</td>\n",
       "    </tr>\n",
       "    <tr>\n",
       "      <td>50%</td>\n",
       "      <td>4.974973e+06</td>\n",
       "      <td>65.500000</td>\n",
       "      <td>9.000000</td>\n",
       "      <td>9.500000</td>\n",
       "      <td>20.000000</td>\n",
       "    </tr>\n",
       "    <tr>\n",
       "      <td>75%</td>\n",
       "      <td>4.975294e+06</td>\n",
       "      <td>74.750000</td>\n",
       "      <td>12.000000</td>\n",
       "      <td>15.500000</td>\n",
       "      <td>30.000000</td>\n",
       "    </tr>\n",
       "    <tr>\n",
       "      <td>max</td>\n",
       "      <td>4.975357e+06</td>\n",
       "      <td>90.000000</td>\n",
       "      <td>28.000000</td>\n",
       "      <td>25.000000</td>\n",
       "      <td>56.000000</td>\n",
       "    </tr>\n",
       "  </tbody>\n",
       "</table>\n",
       "</div>"
      ],
      "text/plain": [
       "                 ID     Grades  ConsultationsD1  ConsultationsD2  Hrabsence\n",
       "count  3.400000e+01  34.000000        34.000000        34.000000  34.000000\n",
       "mean   4.965529e+06  58.470588         9.441176        10.794118  21.042647\n",
       "std    1.882537e+04  24.096064         6.592885         5.751308  12.972629\n",
       "min    4.927320e+06   0.000000         1.000000         1.000000   4.000000\n",
       "25%    4.973921e+06  48.250000         6.000000         6.000000  12.000000\n",
       "50%    4.974973e+06  65.500000         9.000000         9.500000  20.000000\n",
       "75%    4.975294e+06  74.750000        12.000000        15.500000  30.000000\n",
       "max    4.975357e+06  90.000000        28.000000        25.000000  56.000000"
      ]
     },
     "execution_count": 307,
     "metadata": {},
     "output_type": "execute_result"
    }
   ],
   "source": [
    "stdhyp.describe()"
   ]
  },
  {
   "cell_type": "code",
   "execution_count": 308,
   "metadata": {},
   "outputs": [],
   "source": [
    "stdhyp['Consultations'] = (stdhyp['ConsultationsD1'] + stdhyp['ConsultationsD2'])"
   ]
  },
  {
   "cell_type": "code",
   "execution_count": 320,
   "metadata": {},
   "outputs": [
    {
     "data": {
      "text/html": [
       "<div>\n",
       "<style scoped>\n",
       "    .dataframe tbody tr th:only-of-type {\n",
       "        vertical-align: middle;\n",
       "    }\n",
       "\n",
       "    .dataframe tbody tr th {\n",
       "        vertical-align: top;\n",
       "    }\n",
       "\n",
       "    .dataframe thead th {\n",
       "        text-align: right;\n",
       "    }\n",
       "</style>\n",
       "<table border=\"1\" class=\"dataframe\">\n",
       "  <thead>\n",
       "    <tr style=\"text-align: right;\">\n",
       "      <th></th>\n",
       "      <th>ID</th>\n",
       "      <th>Grades</th>\n",
       "      <th>Hrabsence</th>\n",
       "      <th>Finalgrades</th>\n",
       "      <th>Consultations</th>\n",
       "    </tr>\n",
       "  </thead>\n",
       "  <tbody>\n",
       "    <tr>\n",
       "      <td>0</td>\n",
       "      <td>4974728.2</td>\n",
       "      <td>90</td>\n",
       "      <td>21.0</td>\n",
       "      <td>Pass</td>\n",
       "      <td>25</td>\n",
       "    </tr>\n",
       "    <tr>\n",
       "      <td>1</td>\n",
       "      <td>4938705.2</td>\n",
       "      <td>67</td>\n",
       "      <td>22.0</td>\n",
       "      <td>Pass</td>\n",
       "      <td>13</td>\n",
       "    </tr>\n",
       "    <tr>\n",
       "      <td>2</td>\n",
       "      <td>4927889.2</td>\n",
       "      <td>70</td>\n",
       "      <td>12.0</td>\n",
       "      <td>Pass</td>\n",
       "      <td>42</td>\n",
       "    </tr>\n",
       "    <tr>\n",
       "      <td>3</td>\n",
       "      <td>4975219.6</td>\n",
       "      <td>60</td>\n",
       "      <td>16.0</td>\n",
       "      <td>Pass</td>\n",
       "      <td>23</td>\n",
       "    </tr>\n",
       "    <tr>\n",
       "      <td>4</td>\n",
       "      <td>4927465.4</td>\n",
       "      <td>55</td>\n",
       "      <td>38.0</td>\n",
       "      <td>Retake</td>\n",
       "      <td>21</td>\n",
       "    </tr>\n",
       "  </tbody>\n",
       "</table>\n",
       "</div>"
      ],
      "text/plain": [
       "          ID  Grades  Hrabsence Finalgrades  Consultations\n",
       "0  4974728.2      90       21.0        Pass             25\n",
       "1  4938705.2      67       22.0        Pass             13\n",
       "2  4927889.2      70       12.0        Pass             42\n",
       "3  4975219.6      60       16.0        Pass             23\n",
       "4  4927465.4      55       38.0      Retake             21"
      ]
     },
     "execution_count": 320,
     "metadata": {},
     "output_type": "execute_result"
    }
   ],
   "source": [
    "stdhyp1 = stdhyp.drop(['ConsultationsD1', 'ConsultationsD2'], axis='columns')\n",
    "stdhyp1.head()"
   ]
  },
  {
   "cell_type": "code",
   "execution_count": 322,
   "metadata": {},
   "outputs": [
    {
     "data": {
      "text/plain": [
       "ID               float64\n",
       "Grades             int64\n",
       "Hrabsence        float64\n",
       "Finalgrades       object\n",
       "Consultations      int64\n",
       "dtype: object"
      ]
     },
     "execution_count": 322,
     "metadata": {},
     "output_type": "execute_result"
    }
   ],
   "source": [
    "stdhyp1.dtypes"
   ]
  },
  {
   "cell_type": "markdown",
   "metadata": {},
   "source": [
    "# creating categorical variable for hrasbance"
   ]
  },
  {
   "cell_type": "code",
   "execution_count": 329,
   "metadata": {},
   "outputs": [],
   "source": [
    "stdhyp1.loc[(stdhyp1.Hrabsence >=41) & (stdhyp1.Hrabsence <= 100), 'Attedance'] ='Extremabsence'\n",
    "stdhyp1.loc[(stdhyp1.Hrabsence >=21) & (stdhyp1.Hrabsence <= 40), 'Attedance'] = 'Highasbence'\n",
    "stdhyp1.loc[(stdhyp1.Hrabsence >=1) & (stdhyp1.Hrabsence <= 20), 'Attedance'] = 'Lowasbence'"
   ]
  },
  {
   "cell_type": "code",
   "execution_count": 330,
   "metadata": {},
   "outputs": [
    {
     "data": {
      "text/html": [
       "<div>\n",
       "<style scoped>\n",
       "    .dataframe tbody tr th:only-of-type {\n",
       "        vertical-align: middle;\n",
       "    }\n",
       "\n",
       "    .dataframe tbody tr th {\n",
       "        vertical-align: top;\n",
       "    }\n",
       "\n",
       "    .dataframe thead th {\n",
       "        text-align: right;\n",
       "    }\n",
       "</style>\n",
       "<table border=\"1\" class=\"dataframe\">\n",
       "  <thead>\n",
       "    <tr style=\"text-align: right;\">\n",
       "      <th></th>\n",
       "      <th>ID</th>\n",
       "      <th>Grades</th>\n",
       "      <th>Hrabsence</th>\n",
       "      <th>Finalgrades</th>\n",
       "      <th>Consultations</th>\n",
       "      <th>Attedance</th>\n",
       "    </tr>\n",
       "  </thead>\n",
       "  <tbody>\n",
       "    <tr>\n",
       "      <td>0</td>\n",
       "      <td>4974728.2</td>\n",
       "      <td>90</td>\n",
       "      <td>21.0</td>\n",
       "      <td>Pass</td>\n",
       "      <td>25</td>\n",
       "      <td>Highasbence</td>\n",
       "    </tr>\n",
       "    <tr>\n",
       "      <td>1</td>\n",
       "      <td>4938705.2</td>\n",
       "      <td>67</td>\n",
       "      <td>22.0</td>\n",
       "      <td>Pass</td>\n",
       "      <td>13</td>\n",
       "      <td>Highasbence</td>\n",
       "    </tr>\n",
       "    <tr>\n",
       "      <td>2</td>\n",
       "      <td>4927889.2</td>\n",
       "      <td>70</td>\n",
       "      <td>12.0</td>\n",
       "      <td>Pass</td>\n",
       "      <td>42</td>\n",
       "      <td>Lowasbence</td>\n",
       "    </tr>\n",
       "    <tr>\n",
       "      <td>3</td>\n",
       "      <td>4975219.6</td>\n",
       "      <td>60</td>\n",
       "      <td>16.0</td>\n",
       "      <td>Pass</td>\n",
       "      <td>23</td>\n",
       "      <td>Lowasbence</td>\n",
       "    </tr>\n",
       "    <tr>\n",
       "      <td>4</td>\n",
       "      <td>4927465.4</td>\n",
       "      <td>55</td>\n",
       "      <td>38.0</td>\n",
       "      <td>Retake</td>\n",
       "      <td>21</td>\n",
       "      <td>Highasbence</td>\n",
       "    </tr>\n",
       "  </tbody>\n",
       "</table>\n",
       "</div>"
      ],
      "text/plain": [
       "          ID  Grades  Hrabsence Finalgrades  Consultations    Attedance\n",
       "0  4974728.2      90       21.0        Pass             25  Highasbence\n",
       "1  4938705.2      67       22.0        Pass             13  Highasbence\n",
       "2  4927889.2      70       12.0        Pass             42   Lowasbence\n",
       "3  4975219.6      60       16.0        Pass             23   Lowasbence\n",
       "4  4927465.4      55       38.0      Retake             21  Highasbence"
      ]
     },
     "execution_count": 330,
     "metadata": {},
     "output_type": "execute_result"
    }
   ],
   "source": [
    "stdhyp1.head()"
   ]
  },
  {
   "cell_type": "code",
   "execution_count": 331,
   "metadata": {},
   "outputs": [
    {
     "data": {
      "text/plain": [
       "34"
      ]
     },
     "execution_count": 331,
     "metadata": {},
     "output_type": "execute_result"
    }
   ],
   "source": [
    "stdhyp1['Attedance'].count()"
   ]
  },
  {
   "cell_type": "code",
   "execution_count": 333,
   "metadata": {},
   "outputs": [
    {
     "name": "stdout",
     "output_type": "stream",
     "text": [
      "4.787917351497828e-07\n"
     ]
    }
   ],
   "source": [
    "ttest, pval = stats.ttest_rel(stdhyp1['Hrabsence'], stdhyp1['Grades'])\n",
    "print(pval)"
   ]
  },
  {
   "cell_type": "code",
   "execution_count": 334,
   "metadata": {},
   "outputs": [
    {
     "name": "stdout",
     "output_type": "stream",
     "text": [
      "1.526062989970757e-15\n"
     ]
    }
   ],
   "source": [
    "ztest, pval1 = stests.ztest(stdhyp1['Hrabsence'], stdhyp1['Grades'])\n",
    "print(pval1)"
   ]
  },
  {
   "cell_type": "markdown",
   "metadata": {},
   "source": [
    "# chi-square test"
   ]
  },
  {
   "cell_type": "code",
   "execution_count": 353,
   "metadata": {},
   "outputs": [
    {
     "name": "stdout",
     "output_type": "stream",
     "text": [
      "contingency_table : Finalgrades    Pass  Redo  Retake\n",
      "Attedance                        \n",
      "Extremabsence     0     2       0\n",
      "Highasbence       7     5       1\n",
      "Lowasbence       17     2       0\n"
     ]
    }
   ],
   "source": [
    "contingency_table = pd.crosstab(stdhyp1['Attedance'], stdhyp1['Finalgrades'])\n",
    "print('contingency_table :', contingency_table)"
   ]
  },
  {
   "cell_type": "code",
   "execution_count": 354,
   "metadata": {},
   "outputs": [
    {
     "name": "stdout",
     "output_type": "stream",
     "text": [
      "observed value: [[ 0  2  0]\n",
      " [ 7  5  1]\n",
      " [17  2  0]]\n"
     ]
    }
   ],
   "source": [
    "# Observed values\n",
    "observed_values = contingency_table.values\n",
    "print('observed value:', observed_values)"
   ]
  },
  {
   "cell_type": "code",
   "execution_count": 355,
   "metadata": {},
   "outputs": [
    {
     "name": "stdout",
     "output_type": "stream",
     "text": [
      "expected valus: [[ 1.41176471  0.52941176  0.05882353]\n",
      " [ 9.17647059  3.44117647  0.38235294]\n",
      " [13.41176471  5.02941176  0.55882353]]\n"
     ]
    }
   ],
   "source": [
    "exp = stats.chi2_contingency(contingency_table)\n",
    "Expected_Values = exp[3]\n",
    "print(\"expected valus:\", Expected_Values)"
   ]
  },
  {
   "cell_type": "code",
   "execution_count": 356,
   "metadata": {},
   "outputs": [],
   "source": [
    "no_of_rows=len(contingency_table.iloc[0:2,0])"
   ]
  },
  {
   "cell_type": "code",
   "execution_count": 357,
   "metadata": {},
   "outputs": [
    {
     "name": "stdout",
     "output_type": "stream",
     "text": [
      "2\n"
     ]
    }
   ],
   "source": [
    "print(no_of_rows)"
   ]
  },
  {
   "cell_type": "code",
   "execution_count": 358,
   "metadata": {},
   "outputs": [],
   "source": [
    "no_of_columns=len(contingency_table.iloc[0,0:2])"
   ]
  },
  {
   "cell_type": "code",
   "execution_count": 359,
   "metadata": {},
   "outputs": [
    {
     "name": "stdout",
     "output_type": "stream",
     "text": [
      "2\n"
     ]
    }
   ],
   "source": [
    "print(no_of_columns)"
   ]
  },
  {
   "cell_type": "code",
   "execution_count": 360,
   "metadata": {},
   "outputs": [
    {
     "name": "stdout",
     "output_type": "stream",
     "text": [
      "Degree of freedome: 1\n"
     ]
    }
   ],
   "source": [
    "df11=(no_of_rows-1)*(no_of_columns-1)\n",
    "\n",
    "print(\"Degree of freedome:\",df11)\n",
    "alpha= 0.05"
   ]
  },
  {
   "cell_type": "code",
   "execution_count": 361,
   "metadata": {},
   "outputs": [
    {
     "name": "stdout",
     "output_type": "stream",
     "text": [
      "chi-square statistic: 9.503823661718398\n"
     ]
    }
   ],
   "source": [
    "from scipy.stats import chi2\n",
    "chisqur = sum([(o-e)**2./e for o,e in zip(observed_values, Expected_Values)])\n",
    "chi_squr_stat = chisqur[0]+chisqur[1]\n",
    "print(\"chi-square statistic:\",chi_squr_stat)"
   ]
  },
  {
   "cell_type": "code",
   "execution_count": 362,
   "metadata": {},
   "outputs": [
    {
     "name": "stdout",
     "output_type": "stream",
     "text": [
      "critical value: 3.841458820694124\n"
     ]
    }
   ],
   "source": [
    "critical_value = chi2.ppf(q=1-alpha, df=df11)\n",
    "print(\"critical value:\", critical_value)"
   ]
  },
  {
   "cell_type": "code",
   "execution_count": 363,
   "metadata": {},
   "outputs": [
    {
     "name": "stdout",
     "output_type": "stream",
     "text": [
      "pvalue: 0.002050441671567871\n"
     ]
    }
   ],
   "source": [
    "# p-value\n",
    "p_value=1-chi2.cdf(x=chi_squr_stat, df=df11)\n",
    "print('pvalue:', p_value)"
   ]
  },
  {
   "cell_type": "code",
   "execution_count": 364,
   "metadata": {},
   "outputs": [
    {
     "name": "stdout",
     "output_type": "stream",
     "text": [
      "Reject H0, There is a relationship btw 2 categorical variables\n"
     ]
    }
   ],
   "source": [
    "if chi_squr_stat >=critical_value:\n",
    "    print(\"Reject H0, There is a relationship btw 2 categorical variables\")\n",
    "else:\n",
    "    print(\"Accept H0, there is no relationship btw 2 categorical variables\")"
   ]
  },
  {
   "cell_type": "code",
   "execution_count": 365,
   "metadata": {},
   "outputs": [
    {
     "name": "stdout",
     "output_type": "stream",
     "text": [
      "Reject H0, there is a relationship btw 2 categorical variables\n"
     ]
    }
   ],
   "source": [
    "if p_value <= alpha:\n",
    "    print(\"Reject H0, there is a relationship btw 2 categorical variables\")\n",
    "else:\n",
    "    print(\"Retain H0, there is no relationship btw 2 categorical variables\")"
   ]
  },
  {
   "cell_type": "code",
   "execution_count": null,
   "metadata": {},
   "outputs": [],
   "source": []
  }
 ],
 "metadata": {
  "kernelspec": {
   "display_name": "Python 3",
   "language": "python",
   "name": "python3"
  },
  "language_info": {
   "codemirror_mode": {
    "name": "ipython",
    "version": 3
   },
   "file_extension": ".py",
   "mimetype": "text/x-python",
   "name": "python",
   "nbconvert_exporter": "python",
   "pygments_lexer": "ipython3",
   "version": "3.7.4"
  }
 },
 "nbformat": 4,
 "nbformat_minor": 2
}
