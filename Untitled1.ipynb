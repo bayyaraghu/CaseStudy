{
 "cells": [
  {
   "cell_type": "markdown",
   "metadata": {},
   "source": [
    "#  0.2 "
   ]
  },
  {
   "cell_type": "code",
   "execution_count": 4,
   "metadata": {},
   "outputs": [],
   "source": [
    "import pandas as pd\n",
    "import numpy as np\n",
    "import matplotlib.pyplot as plt\n",
    "from sklearn.linear_model import LinearRegression\n",
    "from sklearn.metrics import mean_squared_error"
   ]
  },
  {
   "cell_type": "code",
   "execution_count": 5,
   "metadata": {
    "scrolled": true
   },
   "outputs": [
    {
     "data": {
      "text/html": [
       "<div>\n",
       "<style scoped>\n",
       "    .dataframe tbody tr th:only-of-type {\n",
       "        vertical-align: middle;\n",
       "    }\n",
       "\n",
       "    .dataframe tbody tr th {\n",
       "        vertical-align: top;\n",
       "    }\n",
       "\n",
       "    .dataframe thead th {\n",
       "        text-align: right;\n",
       "    }\n",
       "</style>\n",
       "<table border=\"1\" class=\"dataframe\">\n",
       "  <thead>\n",
       "    <tr style=\"text-align: right;\">\n",
       "      <th></th>\n",
       "      <th>Unnamed: 0</th>\n",
       "      <th>ID</th>\n",
       "      <th>Name</th>\n",
       "      <th>Grades</th>\n",
       "      <th>ConsultationsD1</th>\n",
       "      <th>ConsultationsD2</th>\n",
       "      <th>Hrabsence</th>\n",
       "      <th>Finalgrades</th>\n",
       "    </tr>\n",
       "  </thead>\n",
       "  <tbody>\n",
       "    <tr>\n",
       "      <td>0</td>\n",
       "      <td>0</td>\n",
       "      <td>1913357</td>\n",
       "      <td>Behal, Harry</td>\n",
       "      <td>90</td>\n",
       "      <td>13.0</td>\n",
       "      <td>12.0</td>\n",
       "      <td>21.0</td>\n",
       "      <td>Pass</td>\n",
       "    </tr>\n",
       "    <tr>\n",
       "      <td>1</td>\n",
       "      <td>1</td>\n",
       "      <td>1899502</td>\n",
       "      <td>Chugh, Gursahib Singh</td>\n",
       "      <td>67</td>\n",
       "      <td>7.0</td>\n",
       "      <td>6.0</td>\n",
       "      <td>22.0</td>\n",
       "      <td>Pass</td>\n",
       "    </tr>\n",
       "    <tr>\n",
       "      <td>2</td>\n",
       "      <td>2</td>\n",
       "      <td>1895342</td>\n",
       "      <td>Davinder Singh, Davinder Singh</td>\n",
       "      <td>70</td>\n",
       "      <td>28.0</td>\n",
       "      <td>14.0</td>\n",
       "      <td>12.0</td>\n",
       "      <td>Pass</td>\n",
       "    </tr>\n",
       "    <tr>\n",
       "      <td>3</td>\n",
       "      <td>3</td>\n",
       "      <td>1913546</td>\n",
       "      <td>Devarapu, Mary Keerthi</td>\n",
       "      <td>60</td>\n",
       "      <td>7.0</td>\n",
       "      <td>16.0</td>\n",
       "      <td>16.0</td>\n",
       "      <td>Pass</td>\n",
       "    </tr>\n",
       "    <tr>\n",
       "      <td>4</td>\n",
       "      <td>4</td>\n",
       "      <td>1895179</td>\n",
       "      <td>Dharam, Naresh</td>\n",
       "      <td>55</td>\n",
       "      <td>16.0</td>\n",
       "      <td>5.0</td>\n",
       "      <td>38.0</td>\n",
       "      <td>Retake</td>\n",
       "    </tr>\n",
       "  </tbody>\n",
       "</table>\n",
       "</div>"
      ],
      "text/plain": [
       "   Unnamed: 0       ID                            Name  Grades  \\\n",
       "0           0  1913357                    Behal, Harry      90   \n",
       "1           1  1899502           Chugh, Gursahib Singh      67   \n",
       "2           2  1895342  Davinder Singh, Davinder Singh      70   \n",
       "3           3  1913546          Devarapu, Mary Keerthi      60   \n",
       "4           4  1895179                  Dharam, Naresh      55   \n",
       "\n",
       "   ConsultationsD1  ConsultationsD2  Hrabsence Finalgrades  \n",
       "0             13.0             12.0       21.0        Pass  \n",
       "1              7.0              6.0       22.0        Pass  \n",
       "2             28.0             14.0       12.0        Pass  \n",
       "3              7.0             16.0       16.0        Pass  \n",
       "4             16.0              5.0       38.0      Retake  "
      ]
     },
     "execution_count": 5,
     "metadata": {},
     "output_type": "execute_result"
    }
   ],
   "source": [
    "std = pd.read_csv('record.csv')\n",
    "std.head(5)"
   ]
  },
  {
   "cell_type": "code",
   "execution_count": 6,
   "metadata": {},
   "outputs": [
    {
     "data": {
      "text/plain": [
       "0                             Behal, Harry\n",
       "1                    Chugh, Gursahib Singh\n",
       "2           Davinder Singh, Davinder Singh\n",
       "3                   Devarapu, Mary Keerthi\n",
       "4                           Dharam, Naresh\n",
       "5           Dilpreet Singh, Dilpreet Singh\n",
       "6                               Ekta, Ekta\n",
       "7                      Gill, Dilpreet Kaur\n",
       "8                            Gopu, Manisha\n",
       "9                     Gundeti, Gokul Reddy\n",
       "10        Gurwinder Singh, Gurwinder Singh\n",
       "11                            Hamza, Ameer\n",
       "12      Inderpreet Singh, Inderpreet Singh\n",
       "13        Jobanjeet Singh, Jobanjeet Singh\n",
       "14                        Kosaraju, Kalyan\n",
       "15        Kulwinder Singh, Kulwinder Singh\n",
       "16          Manjinder Kaur, Manjinder Kaur\n",
       "17    Mankaranjeet Kaur, Mankaranjeet Kaur\n",
       "18                Manvir Kaur, Manvir Kaur\n",
       "19             Narravula, Lakshmi Spandana\n",
       "20          Navpreet Singh, Navpreet Singh\n",
       "21                       Palakeerthi, Anil\n",
       "22        Parminder Singh, Parminder Singh\n",
       "23                 Patel, Laxit Maheshbhai\n",
       "24                   Patel, Rushi Kanubhai\n",
       "25                Patel, Utsav Mukeshkumar\n",
       "26       Prajapati, Riyaben Jagdishchandra\n",
       "27                 Sandhu, Anmolpreet Kaur\n",
       "28                  Sarasani, Srujal Reddy\n",
       "29      Shabadpreet Kaur, Shabadpreet Kaur\n",
       "30                     Shah, Raj Jitenbhai\n",
       "31          Simerjeet Kaur, Simerjeet Kaur\n",
       "32                         Tejpal, Shubham\n",
       "33                          Thakur, Risabh\n",
       "Name: Name, dtype: object"
      ]
     },
     "execution_count": 6,
     "metadata": {},
     "output_type": "execute_result"
    }
   ],
   "source": [
    "std['Name']"
   ]
  },
  {
   "cell_type": "markdown",
   "metadata": {},
   "source": [
    "# Data Preprocessing for model training"
   ]
  },
  {
   "cell_type": "markdown",
   "metadata": {},
   "source": [
    " # Using Label encoder"
   ]
  },
  {
   "cell_type": "code",
   "execution_count": 7,
   "metadata": {},
   "outputs": [
    {
     "data": {
      "text/plain": [
       "array([ 0,  1,  2,  3,  4,  5,  6,  7,  8,  9, 10, 11, 12, 13, 14, 15, 16,\n",
       "       17, 18, 19, 20, 21, 22, 23, 24, 25, 26, 27, 28, 29, 30, 31, 32, 33],\n",
       "      dtype=int64)"
      ]
     },
     "execution_count": 7,
     "metadata": {},
     "output_type": "execute_result"
    }
   ],
   "source": [
    "# Applying label encofing\n",
    "\n",
    "from sklearn import preprocessing\n",
    "\n",
    "label_encoder = preprocessing.LabelEncoder()\n",
    "\n",
    "std['Name'] = label_encoder.fit_transform(std['Name'])\n",
    "\n",
    "std['Name'].unique()"
   ]
  },
  {
   "cell_type": "code",
   "execution_count": 8,
   "metadata": {},
   "outputs": [
    {
     "data": {
      "text/plain": [
       "Index(['Unnamed: 0', 'ID', 'Name', 'Grades', 'ConsultationsD1',\n",
       "       'ConsultationsD2', 'Hrabsence', 'Finalgrades'],\n",
       "      dtype='object')"
      ]
     },
     "execution_count": 8,
     "metadata": {},
     "output_type": "execute_result"
    }
   ],
   "source": [
    "std.columns"
   ]
  },
  {
   "cell_type": "code",
   "execution_count": 9,
   "metadata": {},
   "outputs": [
    {
     "data": {
      "text/plain": [
       "array([0, 2, 1], dtype=int64)"
      ]
     },
     "execution_count": 9,
     "metadata": {},
     "output_type": "execute_result"
    }
   ],
   "source": [
    "std['Finalgrades'] = label_encoder.fit_transform(std['Finalgrades'])\n",
    "\n",
    "std['Finalgrades'].unique()"
   ]
  },
  {
   "cell_type": "code",
   "execution_count": 10,
   "metadata": {},
   "outputs": [
    {
     "data": {
      "text/plain": [
       "0    0\n",
       "1    0\n",
       "2    0\n",
       "3    0\n",
       "4    2\n",
       "Name: Finalgrades, dtype: int32"
      ]
     },
     "execution_count": 10,
     "metadata": {},
     "output_type": "execute_result"
    }
   ],
   "source": [
    "std['Finalgrades'].head()"
   ]
  },
  {
   "cell_type": "code",
   "execution_count": 11,
   "metadata": {},
   "outputs": [
    {
     "data": {
      "text/html": [
       "<div>\n",
       "<style scoped>\n",
       "    .dataframe tbody tr th:only-of-type {\n",
       "        vertical-align: middle;\n",
       "    }\n",
       "\n",
       "    .dataframe tbody tr th {\n",
       "        vertical-align: top;\n",
       "    }\n",
       "\n",
       "    .dataframe thead th {\n",
       "        text-align: right;\n",
       "    }\n",
       "</style>\n",
       "<table border=\"1\" class=\"dataframe\">\n",
       "  <thead>\n",
       "    <tr style=\"text-align: right;\">\n",
       "      <th></th>\n",
       "      <th>Unnamed: 0</th>\n",
       "      <th>ID</th>\n",
       "      <th>Name</th>\n",
       "      <th>Grades</th>\n",
       "      <th>ConsultationsD1</th>\n",
       "      <th>ConsultationsD2</th>\n",
       "      <th>Hrabsence</th>\n",
       "      <th>Finalgrades</th>\n",
       "    </tr>\n",
       "  </thead>\n",
       "  <tbody>\n",
       "    <tr>\n",
       "      <td>0</td>\n",
       "      <td>0</td>\n",
       "      <td>1913357</td>\n",
       "      <td>0</td>\n",
       "      <td>90</td>\n",
       "      <td>13.0</td>\n",
       "      <td>12.0</td>\n",
       "      <td>21.0</td>\n",
       "      <td>0</td>\n",
       "    </tr>\n",
       "    <tr>\n",
       "      <td>1</td>\n",
       "      <td>1</td>\n",
       "      <td>1899502</td>\n",
       "      <td>1</td>\n",
       "      <td>67</td>\n",
       "      <td>7.0</td>\n",
       "      <td>6.0</td>\n",
       "      <td>22.0</td>\n",
       "      <td>0</td>\n",
       "    </tr>\n",
       "    <tr>\n",
       "      <td>2</td>\n",
       "      <td>2</td>\n",
       "      <td>1895342</td>\n",
       "      <td>2</td>\n",
       "      <td>70</td>\n",
       "      <td>28.0</td>\n",
       "      <td>14.0</td>\n",
       "      <td>12.0</td>\n",
       "      <td>0</td>\n",
       "    </tr>\n",
       "    <tr>\n",
       "      <td>3</td>\n",
       "      <td>3</td>\n",
       "      <td>1913546</td>\n",
       "      <td>3</td>\n",
       "      <td>60</td>\n",
       "      <td>7.0</td>\n",
       "      <td>16.0</td>\n",
       "      <td>16.0</td>\n",
       "      <td>0</td>\n",
       "    </tr>\n",
       "    <tr>\n",
       "      <td>4</td>\n",
       "      <td>4</td>\n",
       "      <td>1895179</td>\n",
       "      <td>4</td>\n",
       "      <td>55</td>\n",
       "      <td>16.0</td>\n",
       "      <td>5.0</td>\n",
       "      <td>38.0</td>\n",
       "      <td>2</td>\n",
       "    </tr>\n",
       "  </tbody>\n",
       "</table>\n",
       "</div>"
      ],
      "text/plain": [
       "   Unnamed: 0       ID  Name  Grades  ConsultationsD1  ConsultationsD2  \\\n",
       "0           0  1913357     0      90             13.0             12.0   \n",
       "1           1  1899502     1      67              7.0              6.0   \n",
       "2           2  1895342     2      70             28.0             14.0   \n",
       "3           3  1913546     3      60              7.0             16.0   \n",
       "4           4  1895179     4      55             16.0              5.0   \n",
       "\n",
       "   Hrabsence  Finalgrades  \n",
       "0       21.0            0  \n",
       "1       22.0            0  \n",
       "2       12.0            0  \n",
       "3       16.0            0  \n",
       "4       38.0            2  "
      ]
     },
     "execution_count": 11,
     "metadata": {},
     "output_type": "execute_result"
    }
   ],
   "source": [
    "std.head()"
   ]
  },
  {
   "cell_type": "code",
   "execution_count": 12,
   "metadata": {},
   "outputs": [
    {
     "data": {
      "text/html": [
       "<div>\n",
       "<style scoped>\n",
       "    .dataframe tbody tr th:only-of-type {\n",
       "        vertical-align: middle;\n",
       "    }\n",
       "\n",
       "    .dataframe tbody tr th {\n",
       "        vertical-align: top;\n",
       "    }\n",
       "\n",
       "    .dataframe thead th {\n",
       "        text-align: right;\n",
       "    }\n",
       "</style>\n",
       "<table border=\"1\" class=\"dataframe\">\n",
       "  <thead>\n",
       "    <tr style=\"text-align: right;\">\n",
       "      <th></th>\n",
       "      <th>Unnamed: 0</th>\n",
       "      <th>ID</th>\n",
       "      <th>Name</th>\n",
       "      <th>Grades</th>\n",
       "      <th>ConsultationsD1</th>\n",
       "      <th>ConsultationsD2</th>\n",
       "      <th>Hrabsence</th>\n",
       "      <th>Finalgrades</th>\n",
       "    </tr>\n",
       "  </thead>\n",
       "  <tbody>\n",
       "    <tr>\n",
       "      <td>10</td>\n",
       "      <td>10</td>\n",
       "      <td>1913598</td>\n",
       "      <td>10</td>\n",
       "      <td>15</td>\n",
       "      <td>1.0</td>\n",
       "      <td>1.0</td>\n",
       "      <td>32.0</td>\n",
       "      <td>1</td>\n",
       "    </tr>\n",
       "    <tr>\n",
       "      <td>12</td>\n",
       "      <td>12</td>\n",
       "      <td>1913581</td>\n",
       "      <td>12</td>\n",
       "      <td>46</td>\n",
       "      <td>9.0</td>\n",
       "      <td>6.0</td>\n",
       "      <td>12.0</td>\n",
       "      <td>1</td>\n",
       "    </tr>\n",
       "    <tr>\n",
       "      <td>17</td>\n",
       "      <td>17</td>\n",
       "      <td>1913406</td>\n",
       "      <td>17</td>\n",
       "      <td>0</td>\n",
       "      <td>1.0</td>\n",
       "      <td>1.0</td>\n",
       "      <td>56.0</td>\n",
       "      <td>1</td>\n",
       "    </tr>\n",
       "    <tr>\n",
       "      <td>23</td>\n",
       "      <td>23</td>\n",
       "      <td>1913599</td>\n",
       "      <td>23</td>\n",
       "      <td>27</td>\n",
       "      <td>6.0</td>\n",
       "      <td>6.0</td>\n",
       "      <td>38.0</td>\n",
       "      <td>1</td>\n",
       "    </tr>\n",
       "    <tr>\n",
       "      <td>25</td>\n",
       "      <td>25</td>\n",
       "      <td>1913543</td>\n",
       "      <td>25</td>\n",
       "      <td>26</td>\n",
       "      <td>9.0</td>\n",
       "      <td>5.0</td>\n",
       "      <td>30.0</td>\n",
       "      <td>1</td>\n",
       "    </tr>\n",
       "    <tr>\n",
       "      <td>27</td>\n",
       "      <td>27</td>\n",
       "      <td>1913589</td>\n",
       "      <td>27</td>\n",
       "      <td>31</td>\n",
       "      <td>1.0</td>\n",
       "      <td>11.0</td>\n",
       "      <td>30.0</td>\n",
       "      <td>1</td>\n",
       "    </tr>\n",
       "    <tr>\n",
       "      <td>29</td>\n",
       "      <td>29</td>\n",
       "      <td>1913454</td>\n",
       "      <td>29</td>\n",
       "      <td>41</td>\n",
       "      <td>24.0</td>\n",
       "      <td>24.0</td>\n",
       "      <td>20.0</td>\n",
       "      <td>1</td>\n",
       "    </tr>\n",
       "    <tr>\n",
       "      <td>30</td>\n",
       "      <td>30</td>\n",
       "      <td>1913591</td>\n",
       "      <td>30</td>\n",
       "      <td>23</td>\n",
       "      <td>10.0</td>\n",
       "      <td>10.0</td>\n",
       "      <td>30.0</td>\n",
       "      <td>1</td>\n",
       "    </tr>\n",
       "    <tr>\n",
       "      <td>31</td>\n",
       "      <td>31</td>\n",
       "      <td>1913099</td>\n",
       "      <td>31</td>\n",
       "      <td>0</td>\n",
       "      <td>9.0</td>\n",
       "      <td>11.0</td>\n",
       "      <td>56.0</td>\n",
       "      <td>1</td>\n",
       "    </tr>\n",
       "  </tbody>\n",
       "</table>\n",
       "</div>"
      ],
      "text/plain": [
       "    Unnamed: 0       ID  Name  Grades  ConsultationsD1  ConsultationsD2  \\\n",
       "10          10  1913598    10      15              1.0              1.0   \n",
       "12          12  1913581    12      46              9.0              6.0   \n",
       "17          17  1913406    17       0              1.0              1.0   \n",
       "23          23  1913599    23      27              6.0              6.0   \n",
       "25          25  1913543    25      26              9.0              5.0   \n",
       "27          27  1913589    27      31              1.0             11.0   \n",
       "29          29  1913454    29      41             24.0             24.0   \n",
       "30          30  1913591    30      23             10.0             10.0   \n",
       "31          31  1913099    31       0              9.0             11.0   \n",
       "\n",
       "    Hrabsence  Finalgrades  \n",
       "10       32.0            1  \n",
       "12       12.0            1  \n",
       "17       56.0            1  \n",
       "23       38.0            1  \n",
       "25       30.0            1  \n",
       "27       30.0            1  \n",
       "29       20.0            1  \n",
       "30       30.0            1  \n",
       "31       56.0            1  "
      ]
     },
     "execution_count": 12,
     "metadata": {},
     "output_type": "execute_result"
    }
   ],
   "source": [
    "std.loc[std.Finalgrades == 1]"
   ]
  },
  {
   "cell_type": "markdown",
   "metadata": {},
   "source": [
    "# Using Pandas dummy variable "
   ]
  },
  {
   "cell_type": "code",
   "execution_count": 13,
   "metadata": {},
   "outputs": [
    {
     "data": {
      "text/html": [
       "<div>\n",
       "<style scoped>\n",
       "    .dataframe tbody tr th:only-of-type {\n",
       "        vertical-align: middle;\n",
       "    }\n",
       "\n",
       "    .dataframe tbody tr th {\n",
       "        vertical-align: top;\n",
       "    }\n",
       "\n",
       "    .dataframe thead th {\n",
       "        text-align: right;\n",
       "    }\n",
       "</style>\n",
       "<table border=\"1\" class=\"dataframe\">\n",
       "  <thead>\n",
       "    <tr style=\"text-align: right;\">\n",
       "      <th></th>\n",
       "      <th>Unnamed: 0</th>\n",
       "      <th>ID</th>\n",
       "      <th>Name</th>\n",
       "      <th>Grades</th>\n",
       "      <th>ConsultationsD1</th>\n",
       "      <th>ConsultationsD2</th>\n",
       "      <th>Hrabsence</th>\n",
       "      <th>Finalgrades</th>\n",
       "    </tr>\n",
       "  </thead>\n",
       "  <tbody>\n",
       "    <tr>\n",
       "      <td>0</td>\n",
       "      <td>0</td>\n",
       "      <td>1913357</td>\n",
       "      <td>Behal, Harry</td>\n",
       "      <td>90</td>\n",
       "      <td>13.0</td>\n",
       "      <td>12.0</td>\n",
       "      <td>21.0</td>\n",
       "      <td>Pass</td>\n",
       "    </tr>\n",
       "    <tr>\n",
       "      <td>1</td>\n",
       "      <td>1</td>\n",
       "      <td>1899502</td>\n",
       "      <td>Chugh, Gursahib Singh</td>\n",
       "      <td>67</td>\n",
       "      <td>7.0</td>\n",
       "      <td>6.0</td>\n",
       "      <td>22.0</td>\n",
       "      <td>Pass</td>\n",
       "    </tr>\n",
       "    <tr>\n",
       "      <td>2</td>\n",
       "      <td>2</td>\n",
       "      <td>1895342</td>\n",
       "      <td>Davinder Singh, Davinder Singh</td>\n",
       "      <td>70</td>\n",
       "      <td>28.0</td>\n",
       "      <td>14.0</td>\n",
       "      <td>12.0</td>\n",
       "      <td>Pass</td>\n",
       "    </tr>\n",
       "    <tr>\n",
       "      <td>3</td>\n",
       "      <td>3</td>\n",
       "      <td>1913546</td>\n",
       "      <td>Devarapu, Mary Keerthi</td>\n",
       "      <td>60</td>\n",
       "      <td>7.0</td>\n",
       "      <td>16.0</td>\n",
       "      <td>16.0</td>\n",
       "      <td>Pass</td>\n",
       "    </tr>\n",
       "    <tr>\n",
       "      <td>4</td>\n",
       "      <td>4</td>\n",
       "      <td>1895179</td>\n",
       "      <td>Dharam, Naresh</td>\n",
       "      <td>55</td>\n",
       "      <td>16.0</td>\n",
       "      <td>5.0</td>\n",
       "      <td>38.0</td>\n",
       "      <td>Retake</td>\n",
       "    </tr>\n",
       "  </tbody>\n",
       "</table>\n",
       "</div>"
      ],
      "text/plain": [
       "   Unnamed: 0       ID                            Name  Grades  \\\n",
       "0           0  1913357                    Behal, Harry      90   \n",
       "1           1  1899502           Chugh, Gursahib Singh      67   \n",
       "2           2  1895342  Davinder Singh, Davinder Singh      70   \n",
       "3           3  1913546          Devarapu, Mary Keerthi      60   \n",
       "4           4  1895179                  Dharam, Naresh      55   \n",
       "\n",
       "   ConsultationsD1  ConsultationsD2  Hrabsence Finalgrades  \n",
       "0             13.0             12.0       21.0        Pass  \n",
       "1              7.0              6.0       22.0        Pass  \n",
       "2             28.0             14.0       12.0        Pass  \n",
       "3              7.0             16.0       16.0        Pass  \n",
       "4             16.0              5.0       38.0      Retake  "
      ]
     },
     "execution_count": 13,
     "metadata": {},
     "output_type": "execute_result"
    }
   ],
   "source": [
    "std1= pd.read_csv('record.csv')\n",
    "\n",
    "std1.head(5)"
   ]
  },
  {
   "cell_type": "code",
   "execution_count": 14,
   "metadata": {},
   "outputs": [
    {
     "name": "stdout",
     "output_type": "stream",
     "text": [
      "    Pass  Redo  Retake\n",
      "0      1     0       0\n",
      "1      1     0       0\n",
      "2      1     0       0\n",
      "3      1     0       0\n",
      "4      0     0       1\n",
      "5      1     0       0\n",
      "6      1     0       0\n",
      "7      1     0       0\n",
      "8      1     0       0\n",
      "9      1     0       0\n",
      "10     0     1       0\n",
      "11     1     0       0\n",
      "12     0     1       0\n",
      "13     1     0       0\n",
      "14     1     0       0\n",
      "15     1     0       0\n",
      "16     1     0       0\n",
      "17     0     1       0\n",
      "18     1     0       0\n",
      "19     1     0       0\n",
      "20     1     0       0\n",
      "21     1     0       0\n",
      "22     1     0       0\n",
      "23     0     1       0\n",
      "24     1     0       0\n",
      "25     0     1       0\n",
      "26     1     0       0\n",
      "27     0     1       0\n",
      "28     1     0       0\n",
      "29     0     1       0\n",
      "30     0     1       0\n",
      "31     0     1       0\n",
      "32     1     0       0\n",
      "33     1     0       0\n"
     ]
    }
   ],
   "source": [
    "dummies = pd.get_dummies(std1.Finalgrades)\n",
    "print(dummies)"
   ]
  },
  {
   "cell_type": "markdown",
   "metadata": {},
   "source": [
    "# Join to dataframe using pandas concat"
   ]
  },
  {
   "cell_type": "code",
   "execution_count": 15,
   "metadata": {},
   "outputs": [
    {
     "data": {
      "text/html": [
       "<div>\n",
       "<style scoped>\n",
       "    .dataframe tbody tr th:only-of-type {\n",
       "        vertical-align: middle;\n",
       "    }\n",
       "\n",
       "    .dataframe tbody tr th {\n",
       "        vertical-align: top;\n",
       "    }\n",
       "\n",
       "    .dataframe thead th {\n",
       "        text-align: right;\n",
       "    }\n",
       "</style>\n",
       "<table border=\"1\" class=\"dataframe\">\n",
       "  <thead>\n",
       "    <tr style=\"text-align: right;\">\n",
       "      <th></th>\n",
       "      <th>Unnamed: 0</th>\n",
       "      <th>ID</th>\n",
       "      <th>Name</th>\n",
       "      <th>Grades</th>\n",
       "      <th>ConsultationsD1</th>\n",
       "      <th>ConsultationsD2</th>\n",
       "      <th>Hrabsence</th>\n",
       "      <th>Finalgrades</th>\n",
       "      <th>Pass</th>\n",
       "      <th>Redo</th>\n",
       "      <th>Retake</th>\n",
       "    </tr>\n",
       "  </thead>\n",
       "  <tbody>\n",
       "    <tr>\n",
       "      <td>0</td>\n",
       "      <td>0</td>\n",
       "      <td>1913357</td>\n",
       "      <td>Behal, Harry</td>\n",
       "      <td>90</td>\n",
       "      <td>13.0</td>\n",
       "      <td>12.0</td>\n",
       "      <td>21.0</td>\n",
       "      <td>Pass</td>\n",
       "      <td>1</td>\n",
       "      <td>0</td>\n",
       "      <td>0</td>\n",
       "    </tr>\n",
       "    <tr>\n",
       "      <td>1</td>\n",
       "      <td>1</td>\n",
       "      <td>1899502</td>\n",
       "      <td>Chugh, Gursahib Singh</td>\n",
       "      <td>67</td>\n",
       "      <td>7.0</td>\n",
       "      <td>6.0</td>\n",
       "      <td>22.0</td>\n",
       "      <td>Pass</td>\n",
       "      <td>1</td>\n",
       "      <td>0</td>\n",
       "      <td>0</td>\n",
       "    </tr>\n",
       "    <tr>\n",
       "      <td>2</td>\n",
       "      <td>2</td>\n",
       "      <td>1895342</td>\n",
       "      <td>Davinder Singh, Davinder Singh</td>\n",
       "      <td>70</td>\n",
       "      <td>28.0</td>\n",
       "      <td>14.0</td>\n",
       "      <td>12.0</td>\n",
       "      <td>Pass</td>\n",
       "      <td>1</td>\n",
       "      <td>0</td>\n",
       "      <td>0</td>\n",
       "    </tr>\n",
       "    <tr>\n",
       "      <td>3</td>\n",
       "      <td>3</td>\n",
       "      <td>1913546</td>\n",
       "      <td>Devarapu, Mary Keerthi</td>\n",
       "      <td>60</td>\n",
       "      <td>7.0</td>\n",
       "      <td>16.0</td>\n",
       "      <td>16.0</td>\n",
       "      <td>Pass</td>\n",
       "      <td>1</td>\n",
       "      <td>0</td>\n",
       "      <td>0</td>\n",
       "    </tr>\n",
       "    <tr>\n",
       "      <td>4</td>\n",
       "      <td>4</td>\n",
       "      <td>1895179</td>\n",
       "      <td>Dharam, Naresh</td>\n",
       "      <td>55</td>\n",
       "      <td>16.0</td>\n",
       "      <td>5.0</td>\n",
       "      <td>38.0</td>\n",
       "      <td>Retake</td>\n",
       "      <td>0</td>\n",
       "      <td>0</td>\n",
       "      <td>1</td>\n",
       "    </tr>\n",
       "  </tbody>\n",
       "</table>\n",
       "</div>"
      ],
      "text/plain": [
       "   Unnamed: 0       ID                            Name  Grades  \\\n",
       "0           0  1913357                    Behal, Harry      90   \n",
       "1           1  1899502           Chugh, Gursahib Singh      67   \n",
       "2           2  1895342  Davinder Singh, Davinder Singh      70   \n",
       "3           3  1913546          Devarapu, Mary Keerthi      60   \n",
       "4           4  1895179                  Dharam, Naresh      55   \n",
       "\n",
       "   ConsultationsD1  ConsultationsD2  Hrabsence Finalgrades  Pass  Redo  Retake  \n",
       "0             13.0             12.0       21.0        Pass     1     0       0  \n",
       "1              7.0              6.0       22.0        Pass     1     0       0  \n",
       "2             28.0             14.0       12.0        Pass     1     0       0  \n",
       "3              7.0             16.0       16.0        Pass     1     0       0  \n",
       "4             16.0              5.0       38.0      Retake     0     0       1  "
      ]
     },
     "execution_count": 15,
     "metadata": {},
     "output_type": "execute_result"
    }
   ],
   "source": [
    "merged = pd.concat([std1, dummies], axis='columns')\n",
    "merged.head()"
   ]
  },
  {
   "cell_type": "markdown",
   "metadata": {},
   "source": [
    "# dropping columsn of original dataset and dummi variable"
   ]
  },
  {
   "cell_type": "code",
   "execution_count": 16,
   "metadata": {},
   "outputs": [
    {
     "data": {
      "text/html": [
       "<div>\n",
       "<style scoped>\n",
       "    .dataframe tbody tr th:only-of-type {\n",
       "        vertical-align: middle;\n",
       "    }\n",
       "\n",
       "    .dataframe tbody tr th {\n",
       "        vertical-align: top;\n",
       "    }\n",
       "\n",
       "    .dataframe thead th {\n",
       "        text-align: right;\n",
       "    }\n",
       "</style>\n",
       "<table border=\"1\" class=\"dataframe\">\n",
       "  <thead>\n",
       "    <tr style=\"text-align: right;\">\n",
       "      <th></th>\n",
       "      <th>Unnamed: 0</th>\n",
       "      <th>Grades</th>\n",
       "      <th>ConsultationsD1</th>\n",
       "      <th>ConsultationsD2</th>\n",
       "      <th>Hrabsence</th>\n",
       "      <th>Pass</th>\n",
       "      <th>Redo</th>\n",
       "    </tr>\n",
       "  </thead>\n",
       "  <tbody>\n",
       "    <tr>\n",
       "      <td>0</td>\n",
       "      <td>0</td>\n",
       "      <td>90</td>\n",
       "      <td>13.0</td>\n",
       "      <td>12.0</td>\n",
       "      <td>21.0</td>\n",
       "      <td>1</td>\n",
       "      <td>0</td>\n",
       "    </tr>\n",
       "    <tr>\n",
       "      <td>1</td>\n",
       "      <td>1</td>\n",
       "      <td>67</td>\n",
       "      <td>7.0</td>\n",
       "      <td>6.0</td>\n",
       "      <td>22.0</td>\n",
       "      <td>1</td>\n",
       "      <td>0</td>\n",
       "    </tr>\n",
       "    <tr>\n",
       "      <td>2</td>\n",
       "      <td>2</td>\n",
       "      <td>70</td>\n",
       "      <td>28.0</td>\n",
       "      <td>14.0</td>\n",
       "      <td>12.0</td>\n",
       "      <td>1</td>\n",
       "      <td>0</td>\n",
       "    </tr>\n",
       "    <tr>\n",
       "      <td>3</td>\n",
       "      <td>3</td>\n",
       "      <td>60</td>\n",
       "      <td>7.0</td>\n",
       "      <td>16.0</td>\n",
       "      <td>16.0</td>\n",
       "      <td>1</td>\n",
       "      <td>0</td>\n",
       "    </tr>\n",
       "    <tr>\n",
       "      <td>4</td>\n",
       "      <td>4</td>\n",
       "      <td>55</td>\n",
       "      <td>16.0</td>\n",
       "      <td>5.0</td>\n",
       "      <td>38.0</td>\n",
       "      <td>0</td>\n",
       "      <td>0</td>\n",
       "    </tr>\n",
       "  </tbody>\n",
       "</table>\n",
       "</div>"
      ],
      "text/plain": [
       "   Unnamed: 0  Grades  ConsultationsD1  ConsultationsD2  Hrabsence  Pass  Redo\n",
       "0           0      90             13.0             12.0       21.0     1     0\n",
       "1           1      67              7.0              6.0       22.0     1     0\n",
       "2           2      70             28.0             14.0       12.0     1     0\n",
       "3           3      60              7.0             16.0       16.0     1     0\n",
       "4           4      55             16.0              5.0       38.0     0     0"
      ]
     },
     "execution_count": 16,
     "metadata": {},
     "output_type": "execute_result"
    }
   ],
   "source": [
    "stdfinal = merged.drop(['Finalgrades', 'Retake', 'Name', 'ID'], axis='columns')\n",
    "\n",
    "stdfinal.head()"
   ]
  },
  {
   "cell_type": "code",
   "execution_count": 17,
   "metadata": {},
   "outputs": [],
   "source": [
    "stdfinal['Consultations'] = (stdfinal['ConsultationsD1'] + stdfinal['ConsultationsD2'] )"
   ]
  },
  {
   "cell_type": "code",
   "execution_count": 18,
   "metadata": {},
   "outputs": [
    {
     "data": {
      "text/html": [
       "<div>\n",
       "<style scoped>\n",
       "    .dataframe tbody tr th:only-of-type {\n",
       "        vertical-align: middle;\n",
       "    }\n",
       "\n",
       "    .dataframe tbody tr th {\n",
       "        vertical-align: top;\n",
       "    }\n",
       "\n",
       "    .dataframe thead th {\n",
       "        text-align: right;\n",
       "    }\n",
       "</style>\n",
       "<table border=\"1\" class=\"dataframe\">\n",
       "  <thead>\n",
       "    <tr style=\"text-align: right;\">\n",
       "      <th></th>\n",
       "      <th>Unnamed: 0</th>\n",
       "      <th>Grades</th>\n",
       "      <th>Hrabsence</th>\n",
       "      <th>Pass</th>\n",
       "      <th>Redo</th>\n",
       "      <th>Consultations</th>\n",
       "    </tr>\n",
       "  </thead>\n",
       "  <tbody>\n",
       "    <tr>\n",
       "      <td>0</td>\n",
       "      <td>0</td>\n",
       "      <td>90</td>\n",
       "      <td>21.0</td>\n",
       "      <td>1</td>\n",
       "      <td>0</td>\n",
       "      <td>25.0</td>\n",
       "    </tr>\n",
       "    <tr>\n",
       "      <td>1</td>\n",
       "      <td>1</td>\n",
       "      <td>67</td>\n",
       "      <td>22.0</td>\n",
       "      <td>1</td>\n",
       "      <td>0</td>\n",
       "      <td>13.0</td>\n",
       "    </tr>\n",
       "    <tr>\n",
       "      <td>2</td>\n",
       "      <td>2</td>\n",
       "      <td>70</td>\n",
       "      <td>12.0</td>\n",
       "      <td>1</td>\n",
       "      <td>0</td>\n",
       "      <td>42.0</td>\n",
       "    </tr>\n",
       "    <tr>\n",
       "      <td>3</td>\n",
       "      <td>3</td>\n",
       "      <td>60</td>\n",
       "      <td>16.0</td>\n",
       "      <td>1</td>\n",
       "      <td>0</td>\n",
       "      <td>23.0</td>\n",
       "    </tr>\n",
       "    <tr>\n",
       "      <td>4</td>\n",
       "      <td>4</td>\n",
       "      <td>55</td>\n",
       "      <td>38.0</td>\n",
       "      <td>0</td>\n",
       "      <td>0</td>\n",
       "      <td>21.0</td>\n",
       "    </tr>\n",
       "  </tbody>\n",
       "</table>\n",
       "</div>"
      ],
      "text/plain": [
       "   Unnamed: 0  Grades  Hrabsence  Pass  Redo  Consultations\n",
       "0           0      90       21.0     1     0           25.0\n",
       "1           1      67       22.0     1     0           13.0\n",
       "2           2      70       12.0     1     0           42.0\n",
       "3           3      60       16.0     1     0           23.0\n",
       "4           4      55       38.0     0     0           21.0"
      ]
     },
     "execution_count": 18,
     "metadata": {},
     "output_type": "execute_result"
    }
   ],
   "source": [
    "stdfinal2 = stdfinal.drop(['ConsultationsD1', 'ConsultationsD2'], axis='columns')\n",
    "stdfinal2.head()"
   ]
  },
  {
   "cell_type": "code",
   "execution_count": 19,
   "metadata": {},
   "outputs": [
    {
     "data": {
      "text/plain": [
       "<matplotlib.collections.PathCollection at 0x25c3f77bc08>"
      ]
     },
     "execution_count": 19,
     "metadata": {},
     "output_type": "execute_result"
    },
    {
     "data": {
      "image/png": "[encoded data removed]",
      "text/plain": [
       "<Figure size 432x288 with 1 Axes>"
      ]
     },
     "metadata": {
      "needs_background": "light"
     },
     "output_type": "display_data"
    }
   ],
   "source": [
    "plt.scatter(stdfinal2['Grades'], stdfinal2['Consultations'])"
   ]
  },
  {
   "cell_type": "code",
   "execution_count": 20,
   "metadata": {},
   "outputs": [
    {
     "data": {
      "text/plain": [
       "<matplotlib.collections.PathCollection at 0x25c3f82e9c8>"
      ]
     },
     "execution_count": 20,
     "metadata": {},
     "output_type": "execute_result"
    },
    {
     "data": {
      "image/png": "[encoded data removed]",
      "text/plain": [
       "<Figure size 432x288 with 1 Axes>"
      ]
     },
     "metadata": {
      "needs_background": "light"
     },
     "output_type": "display_data"
    }
   ],
   "source": [
    "plt.scatter(stdfinal2['Grades'], stdfinal2['Hrabsence'])"
   ]
  },
  {
   "cell_type": "code",
   "execution_count": 21,
   "metadata": {},
   "outputs": [
    {
     "data": {
      "text/plain": [
       "(34, 2)"
      ]
     },
     "execution_count": 21,
     "metadata": {},
     "output_type": "execute_result"
    }
   ],
   "source": [
    "X = stdfinal2[['Consultations', 'Hrabsence']]\n",
    "X.shape"
   ]
  },
  {
   "cell_type": "code",
   "execution_count": 22,
   "metadata": {},
   "outputs": [
    {
     "data": {
      "text/plain": [
       "(34,)"
      ]
     },
     "execution_count": 22,
     "metadata": {},
     "output_type": "execute_result"
    }
   ],
   "source": [
    "y = stdfinal2['Grades']\n",
    "y.shape"
   ]
  },
  {
   "cell_type": "code",
   "execution_count": 23,
   "metadata": {},
   "outputs": [],
   "source": [
    "from sklearn.model_selection import train_test_split"
   ]
  },
  {
   "cell_type": "code",
   "execution_count": 24,
   "metadata": {},
   "outputs": [],
   "source": [
    "X_train, X_test, y_train, y_test = train_test_split(X,y, test_size=0.2) #random_state=10"
   ]
  },
  {
   "cell_type": "code",
   "execution_count": 25,
   "metadata": {},
   "outputs": [
    {
     "data": {
      "text/plain": [
       "32    71\n",
       "3     60\n",
       "12    46\n",
       "23    27\n",
       "30    23\n",
       "Name: Grades, dtype: int64"
      ]
     },
     "execution_count": 25,
     "metadata": {},
     "output_type": "execute_result"
    }
   ],
   "source": [
    "y_train.head()"
   ]
  },
  {
   "cell_type": "code",
   "execution_count": 26,
   "metadata": {},
   "outputs": [],
   "source": [
    "from sklearn.linear_model import LinearRegression\n",
    "\n",
    "obj = LinearRegression()"
   ]
  },
  {
   "cell_type": "code",
   "execution_count": 27,
   "metadata": {},
   "outputs": [
    {
     "name": "stdout",
     "output_type": "stream",
     "text": [
      "(27, 2) (7, 2) (27,) (7,)\n"
     ]
    }
   ],
   "source": [
    "print(X_train.shape, X_test.shape, y_train.shape, y_test.shape)"
   ]
  },
  {
   "cell_type": "code",
   "execution_count": 28,
   "metadata": {},
   "outputs": [
    {
     "data": {
      "text/plain": [
       "LinearRegression(copy_X=True, fit_intercept=True, n_jobs=None, normalize=False)"
      ]
     },
     "execution_count": 28,
     "metadata": {},
     "output_type": "execute_result"
    }
   ],
   "source": [
    "obj.fit(X_train, y_train)"
   ]
  },
  {
   "cell_type": "code",
   "execution_count": 29,
   "metadata": {},
   "outputs": [
    {
     "name": "stdout",
     "output_type": "stream",
     "text": [
      "[56.2179125  67.88970263 73.68313213 81.57139705 49.37745091 58.55211627\n",
      " 58.49930192]\n"
     ]
    }
   ],
   "source": [
    "predictval = obj.predict(X_test)\n",
    "print(predictval)\n"
   ]
  },
  {
   "cell_type": "code",
   "execution_count": 30,
   "metadata": {},
   "outputs": [
    {
     "data": {
      "text/plain": [
       "(7,)"
      ]
     },
     "execution_count": 30,
     "metadata": {},
     "output_type": "execute_result"
    }
   ],
   "source": [
    "predictval.shape"
   ]
  },
  {
   "cell_type": "code",
   "execution_count": 31,
   "metadata": {},
   "outputs": [
    {
     "data": {
      "text/plain": [
       "(7,)"
      ]
     },
     "execution_count": 31,
     "metadata": {},
     "output_type": "execute_result"
    }
   ],
   "source": [
    "y_test.shape"
   ]
  },
  {
   "cell_type": "code",
   "execution_count": 32,
   "metadata": {},
   "outputs": [],
   "source": [
    "#np.mean(y_test, predictval) #mean square error"
   ]
  },
  {
   "cell_type": "code",
   "execution_count": 33,
   "metadata": {},
   "outputs": [
    {
     "name": "stdout",
     "output_type": "stream",
     "text": [
      "18.962867887026814\n"
     ]
    }
   ],
   "source": [
    "rmse = (np.sqrt(mean_squared_error(y_test, predictval)))\n",
    "print(rmse)"
   ]
  },
  {
   "cell_type": "code",
   "execution_count": 34,
   "metadata": {},
   "outputs": [
    {
     "data": {
      "text/plain": [
       "-0.8543388304084198"
      ]
     },
     "execution_count": 34,
     "metadata": {},
     "output_type": "execute_result"
    }
   ],
   "source": [
    "obj.score(X_test, y_test)"
   ]
  },
  {
   "cell_type": "markdown",
   "metadata": {},
   "source": [
    "# Saving model to file using pickle and joblib"
   ]
  },
  {
   "cell_type": "code",
   "execution_count": 35,
   "metadata": {},
   "outputs": [],
   "source": [
    "import pickle # pickle mode allows us to seralize you python object in a file"
   ]
  },
  {
   "cell_type": "code",
   "execution_count": null,
   "metadata": {},
   "outputs": [],
   "source": []
  },
  {
   "cell_type": "markdown",
   "metadata": {},
   "source": [
    "# Final grade by Hr of absence"
   ]
  },
  {
   "cell_type": "code",
   "execution_count": 36,
   "metadata": {},
   "outputs": [],
   "source": [
    "import seaborn as sns; sns.set(color_codes=True)\n",
    "import numpy as np\n",
    "import statsmodels.api as sm"
   ]
  },
  {
   "cell_type": "code",
   "execution_count": 37,
   "metadata": {},
   "outputs": [],
   "source": [
    "newset=  merged.copy() # copyed form above dataframe"
   ]
  },
  {
   "cell_type": "code",
   "execution_count": 38,
   "metadata": {},
   "outputs": [
    {
     "data": {
      "text/html": [
       "<div>\n",
       "<style scoped>\n",
       "    .dataframe tbody tr th:only-of-type {\n",
       "        vertical-align: middle;\n",
       "    }\n",
       "\n",
       "    .dataframe tbody tr th {\n",
       "        vertical-align: top;\n",
       "    }\n",
       "\n",
       "    .dataframe thead th {\n",
       "        text-align: right;\n",
       "    }\n",
       "</style>\n",
       "<table border=\"1\" class=\"dataframe\">\n",
       "  <thead>\n",
       "    <tr style=\"text-align: right;\">\n",
       "      <th></th>\n",
       "      <th>Unnamed: 0</th>\n",
       "      <th>ID</th>\n",
       "      <th>Name</th>\n",
       "      <th>Grades</th>\n",
       "      <th>ConsultationsD1</th>\n",
       "      <th>ConsultationsD2</th>\n",
       "      <th>Hrabsence</th>\n",
       "      <th>Finalgrades</th>\n",
       "      <th>Pass</th>\n",
       "      <th>Redo</th>\n",
       "      <th>Retake</th>\n",
       "    </tr>\n",
       "  </thead>\n",
       "  <tbody>\n",
       "    <tr>\n",
       "      <td>0</td>\n",
       "      <td>0</td>\n",
       "      <td>1913357</td>\n",
       "      <td>Behal, Harry</td>\n",
       "      <td>90</td>\n",
       "      <td>13.0</td>\n",
       "      <td>12.0</td>\n",
       "      <td>21.0</td>\n",
       "      <td>Pass</td>\n",
       "      <td>1</td>\n",
       "      <td>0</td>\n",
       "      <td>0</td>\n",
       "    </tr>\n",
       "    <tr>\n",
       "      <td>1</td>\n",
       "      <td>1</td>\n",
       "      <td>1899502</td>\n",
       "      <td>Chugh, Gursahib Singh</td>\n",
       "      <td>67</td>\n",
       "      <td>7.0</td>\n",
       "      <td>6.0</td>\n",
       "      <td>22.0</td>\n",
       "      <td>Pass</td>\n",
       "      <td>1</td>\n",
       "      <td>0</td>\n",
       "      <td>0</td>\n",
       "    </tr>\n",
       "    <tr>\n",
       "      <td>2</td>\n",
       "      <td>2</td>\n",
       "      <td>1895342</td>\n",
       "      <td>Davinder Singh, Davinder Singh</td>\n",
       "      <td>70</td>\n",
       "      <td>28.0</td>\n",
       "      <td>14.0</td>\n",
       "      <td>12.0</td>\n",
       "      <td>Pass</td>\n",
       "      <td>1</td>\n",
       "      <td>0</td>\n",
       "      <td>0</td>\n",
       "    </tr>\n",
       "    <tr>\n",
       "      <td>3</td>\n",
       "      <td>3</td>\n",
       "      <td>1913546</td>\n",
       "      <td>Devarapu, Mary Keerthi</td>\n",
       "      <td>60</td>\n",
       "      <td>7.0</td>\n",
       "      <td>16.0</td>\n",
       "      <td>16.0</td>\n",
       "      <td>Pass</td>\n",
       "      <td>1</td>\n",
       "      <td>0</td>\n",
       "      <td>0</td>\n",
       "    </tr>\n",
       "    <tr>\n",
       "      <td>4</td>\n",
       "      <td>4</td>\n",
       "      <td>1895179</td>\n",
       "      <td>Dharam, Naresh</td>\n",
       "      <td>55</td>\n",
       "      <td>16.0</td>\n",
       "      <td>5.0</td>\n",
       "      <td>38.0</td>\n",
       "      <td>Retake</td>\n",
       "      <td>0</td>\n",
       "      <td>0</td>\n",
       "      <td>1</td>\n",
       "    </tr>\n",
       "  </tbody>\n",
       "</table>\n",
       "</div>"
      ],
      "text/plain": [
       "   Unnamed: 0       ID                            Name  Grades  \\\n",
       "0           0  1913357                    Behal, Harry      90   \n",
       "1           1  1899502           Chugh, Gursahib Singh      67   \n",
       "2           2  1895342  Davinder Singh, Davinder Singh      70   \n",
       "3           3  1913546          Devarapu, Mary Keerthi      60   \n",
       "4           4  1895179                  Dharam, Naresh      55   \n",
       "\n",
       "   ConsultationsD1  ConsultationsD2  Hrabsence Finalgrades  Pass  Redo  Retake  \n",
       "0             13.0             12.0       21.0        Pass     1     0       0  \n",
       "1              7.0              6.0       22.0        Pass     1     0       0  \n",
       "2             28.0             14.0       12.0        Pass     1     0       0  \n",
       "3              7.0             16.0       16.0        Pass     1     0       0  \n",
       "4             16.0              5.0       38.0      Retake     0     0       1  "
      ]
     },
     "execution_count": 38,
     "metadata": {},
     "output_type": "execute_result"
    }
   ],
   "source": [
    "newset.head()"
   ]
  },
  {
   "cell_type": "code",
   "execution_count": 39,
   "metadata": {},
   "outputs": [],
   "source": [
    "newset['Consultations'] =(newset['ConsultationsD1'] + newset['ConsultationsD2'])"
   ]
  },
  {
   "cell_type": "code",
   "execution_count": 40,
   "metadata": {},
   "outputs": [
    {
     "data": {
      "text/html": [
       "<div>\n",
       "<style scoped>\n",
       "    .dataframe tbody tr th:only-of-type {\n",
       "        vertical-align: middle;\n",
       "    }\n",
       "\n",
       "    .dataframe tbody tr th {\n",
       "        vertical-align: top;\n",
       "    }\n",
       "\n",
       "    .dataframe thead th {\n",
       "        text-align: right;\n",
       "    }\n",
       "</style>\n",
       "<table border=\"1\" class=\"dataframe\">\n",
       "  <thead>\n",
       "    <tr style=\"text-align: right;\">\n",
       "      <th></th>\n",
       "      <th>Unnamed: 0</th>\n",
       "      <th>ID</th>\n",
       "      <th>Name</th>\n",
       "      <th>Grades</th>\n",
       "      <th>ConsultationsD1</th>\n",
       "      <th>ConsultationsD2</th>\n",
       "      <th>Hrabsence</th>\n",
       "      <th>Finalgrades</th>\n",
       "      <th>Pass</th>\n",
       "      <th>Redo</th>\n",
       "      <th>Retake</th>\n",
       "      <th>Consultations</th>\n",
       "    </tr>\n",
       "  </thead>\n",
       "  <tbody>\n",
       "    <tr>\n",
       "      <td>0</td>\n",
       "      <td>0</td>\n",
       "      <td>1913357</td>\n",
       "      <td>Behal, Harry</td>\n",
       "      <td>90</td>\n",
       "      <td>13.0</td>\n",
       "      <td>12.0</td>\n",
       "      <td>21.0</td>\n",
       "      <td>Pass</td>\n",
       "      <td>1</td>\n",
       "      <td>0</td>\n",
       "      <td>0</td>\n",
       "      <td>25.0</td>\n",
       "    </tr>\n",
       "    <tr>\n",
       "      <td>1</td>\n",
       "      <td>1</td>\n",
       "      <td>1899502</td>\n",
       "      <td>Chugh, Gursahib Singh</td>\n",
       "      <td>67</td>\n",
       "      <td>7.0</td>\n",
       "      <td>6.0</td>\n",
       "      <td>22.0</td>\n",
       "      <td>Pass</td>\n",
       "      <td>1</td>\n",
       "      <td>0</td>\n",
       "      <td>0</td>\n",
       "      <td>13.0</td>\n",
       "    </tr>\n",
       "    <tr>\n",
       "      <td>2</td>\n",
       "      <td>2</td>\n",
       "      <td>1895342</td>\n",
       "      <td>Davinder Singh, Davinder Singh</td>\n",
       "      <td>70</td>\n",
       "      <td>28.0</td>\n",
       "      <td>14.0</td>\n",
       "      <td>12.0</td>\n",
       "      <td>Pass</td>\n",
       "      <td>1</td>\n",
       "      <td>0</td>\n",
       "      <td>0</td>\n",
       "      <td>42.0</td>\n",
       "    </tr>\n",
       "    <tr>\n",
       "      <td>3</td>\n",
       "      <td>3</td>\n",
       "      <td>1913546</td>\n",
       "      <td>Devarapu, Mary Keerthi</td>\n",
       "      <td>60</td>\n",
       "      <td>7.0</td>\n",
       "      <td>16.0</td>\n",
       "      <td>16.0</td>\n",
       "      <td>Pass</td>\n",
       "      <td>1</td>\n",
       "      <td>0</td>\n",
       "      <td>0</td>\n",
       "      <td>23.0</td>\n",
       "    </tr>\n",
       "    <tr>\n",
       "      <td>4</td>\n",
       "      <td>4</td>\n",
       "      <td>1895179</td>\n",
       "      <td>Dharam, Naresh</td>\n",
       "      <td>55</td>\n",
       "      <td>16.0</td>\n",
       "      <td>5.0</td>\n",
       "      <td>38.0</td>\n",
       "      <td>Retake</td>\n",
       "      <td>0</td>\n",
       "      <td>0</td>\n",
       "      <td>1</td>\n",
       "      <td>21.0</td>\n",
       "    </tr>\n",
       "  </tbody>\n",
       "</table>\n",
       "</div>"
      ],
      "text/plain": [
       "   Unnamed: 0       ID                            Name  Grades  \\\n",
       "0           0  1913357                    Behal, Harry      90   \n",
       "1           1  1899502           Chugh, Gursahib Singh      67   \n",
       "2           2  1895342  Davinder Singh, Davinder Singh      70   \n",
       "3           3  1913546          Devarapu, Mary Keerthi      60   \n",
       "4           4  1895179                  Dharam, Naresh      55   \n",
       "\n",
       "   ConsultationsD1  ConsultationsD2  Hrabsence Finalgrades  Pass  Redo  \\\n",
       "0             13.0             12.0       21.0        Pass     1     0   \n",
       "1              7.0              6.0       22.0        Pass     1     0   \n",
       "2             28.0             14.0       12.0        Pass     1     0   \n",
       "3              7.0             16.0       16.0        Pass     1     0   \n",
       "4             16.0              5.0       38.0      Retake     0     0   \n",
       "\n",
       "   Retake  Consultations  \n",
       "0       0           25.0  \n",
       "1       0           13.0  \n",
       "2       0           42.0  \n",
       "3       0           23.0  \n",
       "4       1           21.0  "
      ]
     },
     "execution_count": 40,
     "metadata": {},
     "output_type": "execute_result"
    }
   ],
   "source": [
    "newset.head()"
   ]
  },
  {
   "cell_type": "code",
   "execution_count": 41,
   "metadata": {},
   "outputs": [],
   "source": [
    "stdset = newset.drop(['Name', 'ConsultationsD1', 'ConsultationsD2', 'Pass', 'Redo', 'Retake'], axis='columns')"
   ]
  },
  {
   "cell_type": "code",
   "execution_count": 42,
   "metadata": {},
   "outputs": [
    {
     "data": {
      "text/html": [
       "<div>\n",
       "<style scoped>\n",
       "    .dataframe tbody tr th:only-of-type {\n",
       "        vertical-align: middle;\n",
       "    }\n",
       "\n",
       "    .dataframe tbody tr th {\n",
       "        vertical-align: top;\n",
       "    }\n",
       "\n",
       "    .dataframe thead th {\n",
       "        text-align: right;\n",
       "    }\n",
       "</style>\n",
       "<table border=\"1\" class=\"dataframe\">\n",
       "  <thead>\n",
       "    <tr style=\"text-align: right;\">\n",
       "      <th></th>\n",
       "      <th>Unnamed: 0</th>\n",
       "      <th>ID</th>\n",
       "      <th>Grades</th>\n",
       "      <th>Hrabsence</th>\n",
       "      <th>Finalgrades</th>\n",
       "      <th>Consultations</th>\n",
       "    </tr>\n",
       "  </thead>\n",
       "  <tbody>\n",
       "    <tr>\n",
       "      <td>0</td>\n",
       "      <td>0</td>\n",
       "      <td>1913357</td>\n",
       "      <td>90</td>\n",
       "      <td>21.0</td>\n",
       "      <td>Pass</td>\n",
       "      <td>25.0</td>\n",
       "    </tr>\n",
       "    <tr>\n",
       "      <td>1</td>\n",
       "      <td>1</td>\n",
       "      <td>1899502</td>\n",
       "      <td>67</td>\n",
       "      <td>22.0</td>\n",
       "      <td>Pass</td>\n",
       "      <td>13.0</td>\n",
       "    </tr>\n",
       "    <tr>\n",
       "      <td>2</td>\n",
       "      <td>2</td>\n",
       "      <td>1895342</td>\n",
       "      <td>70</td>\n",
       "      <td>12.0</td>\n",
       "      <td>Pass</td>\n",
       "      <td>42.0</td>\n",
       "    </tr>\n",
       "    <tr>\n",
       "      <td>3</td>\n",
       "      <td>3</td>\n",
       "      <td>1913546</td>\n",
       "      <td>60</td>\n",
       "      <td>16.0</td>\n",
       "      <td>Pass</td>\n",
       "      <td>23.0</td>\n",
       "    </tr>\n",
       "    <tr>\n",
       "      <td>4</td>\n",
       "      <td>4</td>\n",
       "      <td>1895179</td>\n",
       "      <td>55</td>\n",
       "      <td>38.0</td>\n",
       "      <td>Retake</td>\n",
       "      <td>21.0</td>\n",
       "    </tr>\n",
       "  </tbody>\n",
       "</table>\n",
       "</div>"
      ],
      "text/plain": [
       "   Unnamed: 0       ID  Grades  Hrabsence Finalgrades  Consultations\n",
       "0           0  1913357      90       21.0        Pass           25.0\n",
       "1           1  1899502      67       22.0        Pass           13.0\n",
       "2           2  1895342      70       12.0        Pass           42.0\n",
       "3           3  1913546      60       16.0        Pass           23.0\n",
       "4           4  1895179      55       38.0      Retake           21.0"
      ]
     },
     "execution_count": 42,
     "metadata": {},
     "output_type": "execute_result"
    }
   ],
   "source": [
    "stdset.head()"
   ]
  },
  {
   "cell_type": "code",
   "execution_count": 43,
   "metadata": {},
   "outputs": [],
   "source": [
    "# save file in to local system\n",
    "clean = 'stdset.csv'\n",
    "stdset.to_csv(clean)"
   ]
  },
  {
   "cell_type": "markdown",
   "metadata": {},
   "source": [
    "# Plot relation between Grades and Consultations"
   ]
  },
  {
   "cell_type": "code",
   "execution_count": 44,
   "metadata": {},
   "outputs": [
    {
     "data": {
      "image/png": "[encoded data removed]",
      "text/plain": [
       "<Figure size 432x288 with 1 Axes>"
      ]
     },
     "metadata": {},
     "output_type": "display_data"
    }
   ],
   "source": [
    "stdcon = sns.regplot(x='Consultations', y='Grades', data=stdset)"
   ]
  },
  {
   "cell_type": "markdown",
   "metadata": {},
   "source": [
    "# Plot relation between Grades and Hrabsence"
   ]
  },
  {
   "cell_type": "code",
   "execution_count": 45,
   "metadata": {},
   "outputs": [
    {
     "data": {
      "image/png": "[encoded data removed]",
      "text/plain": [
       "<Figure size 432x288 with 1 Axes>"
      ]
     },
     "metadata": {},
     "output_type": "display_data"
    }
   ],
   "source": [
    "stdhr = sns.regplot(x='Hrabsence', y='Grades', data=stdset)"
   ]
  },
  {
   "cell_type": "code",
   "execution_count": 46,
   "metadata": {},
   "outputs": [
    {
     "data": {
      "text/plain": [
       "Text(0, 0.5, 'No of std')"
      ]
     },
     "execution_count": 46,
     "metadata": {},
     "output_type": "execute_result"
    },
    {
     "data": {
      "image/png": "[encoded data removed]",
      "text/plain": [
       "<Figure size 576x432 with 1 Axes>"
      ]
     },
     "metadata": {},
     "output_type": "display_data"
    }
   ],
   "source": [
    "plt.figure(figsize=(8,6))\n",
    "sns.countplot(stdset.Finalgrades, order=[\"Pass\", \"Retake\", \"Redo\"], palette='Set1')\n",
    "plt.title('Final Grade:no of std', fontsize=10)\n",
    "plt.xlabel('Final Grade', fontsize=10)\n",
    "plt.ylabel('No of std', fontsize=10)"
   ]
  },
  {
   "cell_type": "code",
   "execution_count": 47,
   "metadata": {},
   "outputs": [
    {
     "data": {
      "text/plain": [
       "<matplotlib.axes._subplots.AxesSubplot at 0x25c40697ec8>"
      ]
     },
     "execution_count": 47,
     "metadata": {},
     "output_type": "execute_result"
    },
    {
     "data": {
      "image/png": "[encoded data removed]",
      "text/plain": [
       "<Figure size 432x288 with 1 Axes>"
      ]
     },
     "metadata": {},
     "output_type": "display_data"
    }
   ],
   "source": [
    "sns.barplot(x='Finalgrades', y='Grades', data=stdset)"
   ]
  },
  {
   "cell_type": "code",
   "execution_count": 48,
   "metadata": {},
   "outputs": [
    {
     "name": "stderr",
     "output_type": "stream",
     "text": [
      "C:\\Users\\bayya\\Anaconda3\\lib\\site-packages\\ipykernel_launcher.py:4: RuntimeWarning: divide by zero encountered in log\n",
      "  after removing the cwd from sys.path.\n"
     ]
    }
   ],
   "source": [
    "perc = (lambda col:col/col.sum())\n",
    "index = ['Pass', 'Retake', 'Redo']\n",
    "stdval = pd.crosstab(index=stdset.Finalgrades, columns=stdset.Hrabsence)\n",
    "stdval1 = np.log(stdval)\n",
    "stdval2 = stdval.apply(perc).reindex(index)"
   ]
  },
  {
   "cell_type": "code",
   "execution_count": 49,
   "metadata": {},
   "outputs": [
    {
     "name": "stdout",
     "output_type": "stream",
     "text": [
      "Hrabsence    4.00   6.00   8.00   12.00  13.00  14.00  16.00  17.45  20.00  \\\n",
      "Finalgrades                                                                  \n",
      "Pass             1      4      2      2      1      2      1      1      3   \n",
      "Redo             0      0      0      1      0      0      0      0      1   \n",
      "Retake           0      0      0      0      0      0      0      0      0   \n",
      "\n",
      "Hrabsence    21.00  22.00  26.00  30.00  32.00  38.00  56.00  \n",
      "Finalgrades                                                   \n",
      "Pass             3      1      1      2      0      0      0  \n",
      "Redo             0      0      0      3      1      1      2  \n",
      "Retake           0      0      0      0      0      1      0  \n"
     ]
    }
   ],
   "source": [
    "print(stdval)"
   ]
  },
  {
   "cell_type": "code",
   "execution_count": 50,
   "metadata": {},
   "outputs": [
    {
     "data": {
      "text/html": [
       "<div>\n",
       "<style scoped>\n",
       "    .dataframe tbody tr th:only-of-type {\n",
       "        vertical-align: middle;\n",
       "    }\n",
       "\n",
       "    .dataframe tbody tr th {\n",
       "        vertical-align: top;\n",
       "    }\n",
       "\n",
       "    .dataframe thead th {\n",
       "        text-align: right;\n",
       "    }\n",
       "</style>\n",
       "<table border=\"1\" class=\"dataframe\">\n",
       "  <thead>\n",
       "    <tr style=\"text-align: right;\">\n",
       "      <th>Hrabsence</th>\n",
       "      <th>4.00</th>\n",
       "      <th>6.00</th>\n",
       "      <th>8.00</th>\n",
       "      <th>12.00</th>\n",
       "      <th>13.00</th>\n",
       "      <th>14.00</th>\n",
       "      <th>16.00</th>\n",
       "      <th>17.45</th>\n",
       "      <th>20.00</th>\n",
       "      <th>21.00</th>\n",
       "      <th>22.00</th>\n",
       "      <th>26.00</th>\n",
       "      <th>30.00</th>\n",
       "      <th>32.00</th>\n",
       "      <th>38.00</th>\n",
       "      <th>56.00</th>\n",
       "    </tr>\n",
       "    <tr>\n",
       "      <th>Finalgrades</th>\n",
       "      <th></th>\n",
       "      <th></th>\n",
       "      <th></th>\n",
       "      <th></th>\n",
       "      <th></th>\n",
       "      <th></th>\n",
       "      <th></th>\n",
       "      <th></th>\n",
       "      <th></th>\n",
       "      <th></th>\n",
       "      <th></th>\n",
       "      <th></th>\n",
       "      <th></th>\n",
       "      <th></th>\n",
       "      <th></th>\n",
       "      <th></th>\n",
       "    </tr>\n",
       "  </thead>\n",
       "  <tbody>\n",
       "    <tr>\n",
       "      <td>Pass</td>\n",
       "      <td>1.0</td>\n",
       "      <td>1.0</td>\n",
       "      <td>1.0</td>\n",
       "      <td>0.666667</td>\n",
       "      <td>1.0</td>\n",
       "      <td>1.0</td>\n",
       "      <td>1.0</td>\n",
       "      <td>1.0</td>\n",
       "      <td>0.75</td>\n",
       "      <td>1.0</td>\n",
       "      <td>1.0</td>\n",
       "      <td>1.0</td>\n",
       "      <td>0.4</td>\n",
       "      <td>0.0</td>\n",
       "      <td>0.0</td>\n",
       "      <td>0.0</td>\n",
       "    </tr>\n",
       "    <tr>\n",
       "      <td>Retake</td>\n",
       "      <td>0.0</td>\n",
       "      <td>0.0</td>\n",
       "      <td>0.0</td>\n",
       "      <td>0.000000</td>\n",
       "      <td>0.0</td>\n",
       "      <td>0.0</td>\n",
       "      <td>0.0</td>\n",
       "      <td>0.0</td>\n",
       "      <td>0.00</td>\n",
       "      <td>0.0</td>\n",
       "      <td>0.0</td>\n",
       "      <td>0.0</td>\n",
       "      <td>0.0</td>\n",
       "      <td>0.0</td>\n",
       "      <td>0.5</td>\n",
       "      <td>0.0</td>\n",
       "    </tr>\n",
       "    <tr>\n",
       "      <td>Redo</td>\n",
       "      <td>0.0</td>\n",
       "      <td>0.0</td>\n",
       "      <td>0.0</td>\n",
       "      <td>0.333333</td>\n",
       "      <td>0.0</td>\n",
       "      <td>0.0</td>\n",
       "      <td>0.0</td>\n",
       "      <td>0.0</td>\n",
       "      <td>0.25</td>\n",
       "      <td>0.0</td>\n",
       "      <td>0.0</td>\n",
       "      <td>0.0</td>\n",
       "      <td>0.6</td>\n",
       "      <td>1.0</td>\n",
       "      <td>0.5</td>\n",
       "      <td>1.0</td>\n",
       "    </tr>\n",
       "  </tbody>\n",
       "</table>\n",
       "</div>"
      ],
      "text/plain": [
       "Hrabsence    4.00   6.00   8.00      12.00  13.00  14.00  16.00  17.45  20.00  \\\n",
       "Finalgrades                                                                     \n",
       "Pass           1.0    1.0    1.0  0.666667    1.0    1.0    1.0    1.0   0.75   \n",
       "Retake         0.0    0.0    0.0  0.000000    0.0    0.0    0.0    0.0   0.00   \n",
       "Redo           0.0    0.0    0.0  0.333333    0.0    0.0    0.0    0.0   0.25   \n",
       "\n",
       "Hrabsence    21.00  22.00  26.00  30.00  32.00  38.00  56.00  \n",
       "Finalgrades                                                   \n",
       "Pass           1.0    1.0    1.0    0.4    0.0    0.0    0.0  \n",
       "Retake         0.0    0.0    0.0    0.0    0.0    0.5    0.0  \n",
       "Redo           0.0    0.0    0.0    0.6    1.0    0.5    1.0  "
      ]
     },
     "execution_count": 50,
     "metadata": {},
     "output_type": "execute_result"
    }
   ],
   "source": [
    "stdval2"
   ]
  },
  {
   "cell_type": "code",
   "execution_count": 51,
   "metadata": {},
   "outputs": [
    {
     "data": {
      "image/png": "[encoded data removed]",
      "text/plain": [
       "<Figure size 720x504 with 1 Axes>"
      ]
     },
     "metadata": {},
     "output_type": "display_data"
    }
   ],
   "source": [
    "stdval2.plot.bar(colormap=\"PiYG_r\",  fontsize=16, figsize=(10,7))\n",
    "plt.title(\"Finalgrades by Attedance\", fontsize=8)\n",
    "plt.ylabel(\"Percentage of logarithm std count\", fontsize=10)\n",
    "plt.xlabel(\"Final Grade\", fontsize=10)\n",
    "plt.show()"
   ]
  },
  {
   "cell_type": "code",
   "execution_count": null,
   "metadata": {},
   "outputs": [],
   "source": []
  },
  {
   "cell_type": "code",
   "execution_count": null,
   "metadata": {},
   "outputs": [],
   "source": []
  }
 ],
 "metadata": {
  "kernelspec": {
   "display_name": "Python 3",
   "language": "python",
   "name": "python3"
  },
  "language_info": {
   "codemirror_mode": {
    "name": "ipython",
    "version": 3
   },
   "file_extension": ".py",
   "mimetype": "text/x-python",
   "name": "python",
   "nbconvert_exporter": "python",
   "pygments_lexer": "ipython3",
   "version": "3.7.4"
  }
 },
 "nbformat": 4,
 "nbformat_minor": 2
}
